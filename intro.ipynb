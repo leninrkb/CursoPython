{
 "cells": [
  {
   "cell_type": "markdown",
   "id": "092eed86-742e-4820-bd1c-2de38863d33c",
   "metadata": {},
   "source": [
    "# 1. Intro curso python"
   ]
  },
  {
   "cell_type": "code",
   "execution_count": 1,
   "id": "2bd5574d-e461-490a-a842-30a288f17b9e",
   "metadata": {},
   "outputs": [
    {
     "data": {
      "text/plain": [
       "0"
      ]
     },
     "execution_count": 1,
     "metadata": {},
     "output_type": "execute_result"
    }
   ],
   "source": [
    "8-8"
   ]
  },
  {
   "cell_type": "code",
   "execution_count": 3,
   "id": "8ed02cd1-59b3-4ddb-bf8a-bcbfe36a6622",
   "metadata": {},
   "outputs": [
    {
     "data": {
      "text/plain": [
       "-997"
      ]
     },
     "execution_count": 3,
     "metadata": {},
     "output_type": "execute_result"
    }
   ],
   "source": [
    "234-1231"
   ]
  }
 ],
 "metadata": {
  "kernelspec": {
   "display_name": "Python 3 (ipykernel)",
   "language": "python",
   "name": "python3"
  },
  "language_info": {
   "codemirror_mode": {
    "name": "ipython",
    "version": 3
   },
   "file_extension": ".py",
   "mimetype": "text/x-python",
   "name": "python",
   "nbconvert_exporter": "python",
   "pygments_lexer": "ipython3",
   "version": "3.9.15"
  }
 },
 "nbformat": 4,
 "nbformat_minor": 5
}
