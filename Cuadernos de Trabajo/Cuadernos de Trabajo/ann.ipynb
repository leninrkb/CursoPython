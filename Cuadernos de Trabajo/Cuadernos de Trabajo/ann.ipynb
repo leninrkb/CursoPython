{
 "cells": [
  {
   "cell_type": "code",
   "execution_count": 1,
   "id": "26017fe6-9ec6-4e9c-a787-09f43bc35fe6",
   "metadata": {},
   "outputs": [
    {
     "name": "stderr",
     "output_type": "stream",
     "text": [
      "2023-01-27 21:35:32.548807: I tensorflow/core/platform/cpu_feature_guard.cc:193] This TensorFlow binary is optimized with oneAPI Deep Neural Network Library (oneDNN) to use the following CPU instructions in performance-critical operations:  AVX2 FMA\n",
      "To enable them in other operations, rebuild TensorFlow with the appropriate compiler flags.\n",
      "2023-01-27 21:35:32.688132: W tensorflow/compiler/xla/stream_executor/platform/default/dso_loader.cc:64] Could not load dynamic library 'libcudart.so.11.0'; dlerror: libcudart.so.11.0: cannot open shared object file: No such file or directory; LD_LIBRARY_PATH: :/lib/\n",
      "2023-01-27 21:35:32.688158: I tensorflow/compiler/xla/stream_executor/cuda/cudart_stub.cc:29] Ignore above cudart dlerror if you do not have a GPU set up on your machine.\n",
      "2023-01-27 21:35:33.637805: W tensorflow/compiler/xla/stream_executor/platform/default/dso_loader.cc:64] Could not load dynamic library 'libnvinfer.so.7'; dlerror: libnvinfer.so.7: cannot open shared object file: No such file or directory; LD_LIBRARY_PATH: :/lib/\n",
      "2023-01-27 21:35:33.637937: W tensorflow/compiler/xla/stream_executor/platform/default/dso_loader.cc:64] Could not load dynamic library 'libnvinfer_plugin.so.7'; dlerror: libnvinfer_plugin.so.7: cannot open shared object file: No such file or directory; LD_LIBRARY_PATH: :/lib/\n",
      "2023-01-27 21:35:33.637951: W tensorflow/compiler/tf2tensorrt/utils/py_utils.cc:38] TF-TRT Warning: Cannot dlopen some TensorRT libraries. If you would like to use Nvidia GPU with TensorRT, please make sure the missing libraries mentioned above are installed properly.\n"
     ]
    }
   ],
   "source": [
    "import tensorflow as tf\n",
    "import pandas as pd\n",
    "import numpy as np\n",
    "import matplotlib.pyplot as plt\n",
    "from tensorflow.keras.models import Sequential\n",
    "from tensorflow.keras.layers import Dense, Flatten, Conv2D, MaxPooling2D, Input\n",
    "from tensorflow.keras.preprocessing.image import load_img, img_to_array\n",
    "import cv2\n",
    "import os\n",
    "from sklearn.model_selection import train_test_split\n"
   ]
  },
  {
   "cell_type": "code",
   "execution_count": 2,
   "id": "ee12f79f-7d35-40ab-8afc-69ea75590794",
   "metadata": {},
   "outputs": [],
   "source": [
    "DATADIR = '/home/lenin/Documents/datasets/colores'\n",
    "CATEGORIES = ['amarillo','azul','rojo']\n",
    "IMG_SIZE=28"
   ]
  },
  {
   "cell_type": "code",
   "execution_count": 3,
   "id": "bce2b236-87eb-4b77-b1da-7977d7cf26b5",
   "metadata": {},
   "outputs": [
    {
     "name": "stderr",
     "output_type": "stream",
     "text": [
      "/home/lenin/Apps/anaconda3/lib/python3.9/site-packages/PIL/Image.py:979: UserWarning: Palette images with Transparency expressed in bytes should be converted to RGBA images\n",
      "  warnings.warn(\n"
     ]
    }
   ],
   "source": [
    "training_data=[]\n",
    "def create_training_data():\n",
    "    labels=0\n",
    "    for category in CATEGORIES:\n",
    "        path=os.path.join(DATADIR, category)\n",
    "        for fname in os.listdir(path):\n",
    "            img = load_img((path+'/'+fname), target_size=(IMG_SIZE,IMG_SIZE))\n",
    "            x = img_to_array(img)\n",
    "            x=x/255\n",
    "            training_data.append([x,labels])\n",
    "        labels+=1\n",
    "create_training_data()"
   ]
  },
  {
   "cell_type": "code",
   "execution_count": 4,
   "id": "5a97043e-2a22-4348-a627-7b288f0750f3",
   "metadata": {},
   "outputs": [
    {
     "name": "stdout",
     "output_type": "stream",
     "text": [
      "756\n"
     ]
    }
   ],
   "source": [
    "lenofimage = len(training_data)\n",
    "print(lenofimage)"
   ]
  },
  {
   "cell_type": "code",
   "execution_count": 5,
   "id": "602d12db-9234-481c-85db-a5f77b81e1bd",
   "metadata": {},
   "outputs": [],
   "source": [
    "X=[]\n",
    "y=[]\n",
    "for img, label in training_data:\n",
    "    X.append(img)\n",
    "    y.append(label)"
   ]
  },
  {
   "cell_type": "code",
   "execution_count": 6,
   "id": "fbd40671-38ce-40d5-957f-1d6d3bd88689",
   "metadata": {},
   "outputs": [
    {
     "name": "stdout",
     "output_type": "stream",
     "text": [
      "labels (756,)\n",
      "img (756, 28, 28, 3)\n"
     ]
    }
   ],
   "source": [
    "X=np.array(X)\n",
    "y=np.array(y)\n",
    "print('labels',y.shape)\n",
    "print('img',X.shape)"
   ]
  },
  {
   "cell_type": "code",
   "execution_count": 7,
   "id": "b72ad600-147f-48fb-aaaf-ce7371cbb17c",
   "metadata": {},
   "outputs": [],
   "source": [
    "X_train, X_test, y_train, y_test = train_test_split(X,y)"
   ]
  },
  {
   "cell_type": "code",
   "execution_count": 8,
   "id": "1cde674f-e53c-40c2-8a58-63586b0d9f77",
   "metadata": {},
   "outputs": [
    {
     "name": "stdout",
     "output_type": "stream",
     "text": [
      "train: 567, test: 189\n"
     ]
    }
   ],
   "source": [
    "print(f'train: {len(X_train)}, test: {len(X_test)}')"
   ]
  },
  {
   "cell_type": "code",
   "execution_count": 9,
   "id": "dfd474de-89b5-4ea3-91fa-8179ba3196e3",
   "metadata": {},
   "outputs": [
    {
     "name": "stderr",
     "output_type": "stream",
     "text": [
      "2023-01-27 21:35:42.243727: W tensorflow/compiler/xla/stream_executor/platform/default/dso_loader.cc:64] Could not load dynamic library 'libcuda.so.1'; dlerror: libcuda.so.1: cannot open shared object file: No such file or directory; LD_LIBRARY_PATH: /home/lenin/.local/lib/python3.9/site-packages/cv2/../../lib64::/lib/\n",
      "2023-01-27 21:35:42.243780: W tensorflow/compiler/xla/stream_executor/cuda/cuda_driver.cc:265] failed call to cuInit: UNKNOWN ERROR (303)\n",
      "2023-01-27 21:35:42.243808: I tensorflow/compiler/xla/stream_executor/cuda/cuda_diagnostics.cc:156] kernel driver does not appear to be running on this host (manjaropc): /proc/driver/nvidia/version does not exist\n",
      "2023-01-27 21:35:42.244082: I tensorflow/core/platform/cpu_feature_guard.cc:193] This TensorFlow binary is optimized with oneAPI Deep Neural Network Library (oneDNN) to use the following CPU instructions in performance-critical operations:  AVX2 FMA\n",
      "To enable them in other operations, rebuild TensorFlow with the appropriate compiler flags.\n"
     ]
    }
   ],
   "source": [
    "model = Sequential([\n",
    "    Conv2D(32, (5,5), activation='relu', padding='SAME', input_shape=X_train[0].shape),\n",
    "    MaxPooling2D((2,2)),\n",
    "    Flatten(),\n",
    "    Dense(10, activation='relu'),\n",
    "    Dense(len(CATEGORIES), activation='softmax'),\n",
    "])"
   ]
  },
  {
   "cell_type": "code",
   "execution_count": 10,
   "id": "6d494fee-3c0d-427d-bd88-1588b80fa883",
   "metadata": {},
   "outputs": [
    {
     "name": "stdout",
     "output_type": "stream",
     "text": [
      "Model: \"sequential\"\n",
      "_________________________________________________________________\n",
      " Layer (type)                Output Shape              Param #   \n",
      "=================================================================\n",
      " conv2d (Conv2D)             (None, 28, 28, 32)        2432      \n",
      "                                                                 \n",
      " max_pooling2d (MaxPooling2D  (None, 14, 14, 32)       0         \n",
      " )                                                               \n",
      "                                                                 \n",
      " flatten (Flatten)           (None, 6272)              0         \n",
      "                                                                 \n",
      " dense (Dense)               (None, 10)                62730     \n",
      "                                                                 \n",
      " dense_1 (Dense)             (None, 3)                 33        \n",
      "                                                                 \n",
      "=================================================================\n",
      "Total params: 65,195\n",
      "Trainable params: 65,195\n",
      "Non-trainable params: 0\n",
      "_________________________________________________________________\n"
     ]
    }
   ],
   "source": [
    "model.summary()"
   ]
  },
  {
   "cell_type": "code",
   "execution_count": 11,
   "id": "2f859ae6-7cb4-49ea-bbbd-4750174cedf5",
   "metadata": {},
   "outputs": [],
   "source": [
    "model.compile(optimizer='adam', loss='sparse_categorical_crossentropy', metrics=['accuracy'])"
   ]
  },
  {
   "cell_type": "code",
   "execution_count": 12,
   "id": "1ecdb74d-9812-4f25-b08a-d4da1dd199e1",
   "metadata": {},
   "outputs": [
    {
     "name": "stdout",
     "output_type": "stream",
     "text": [
      "Epoch 1/3\n",
      "29/29 [==============================] - 1s 8ms/step - loss: 0.3149 - accuracy: 0.9118\n",
      "Epoch 2/3\n",
      "29/29 [==============================] - 0s 8ms/step - loss: 0.0324 - accuracy: 0.9947\n",
      "Epoch 3/3\n",
      "29/29 [==============================] - 0s 8ms/step - loss: 0.0156 - accuracy: 0.9947\n"
     ]
    },
    {
     "data": {
      "text/plain": [
       "<keras.callbacks.History at 0x7f52687889d0>"
      ]
     },
     "execution_count": 12,
     "metadata": {},
     "output_type": "execute_result"
    }
   ],
   "source": [
    "model.fit(X_train, y_train, epochs=3, batch_size=20)"
   ]
  },
  {
   "cell_type": "code",
   "execution_count": 13,
   "id": "5d7ea52d-23cd-4728-96e0-8e4752f448f8",
   "metadata": {},
   "outputs": [
    {
     "name": "stdout",
     "output_type": "stream",
     "text": [
      "test loss 0.007691548205912113\n",
      "test accuracy 1.0\n"
     ]
    }
   ],
   "source": [
    "test_loss, test_accuracy = model.evaluate(X_test, y_test, verbose=0)\n",
    "print('test loss',test_loss)\n",
    "print('test accuracy',test_accuracy)"
   ]
  },
  {
   "cell_type": "code",
   "execution_count": 14,
   "id": "e86bf61d-018e-411a-9a1f-683777c7daf2",
   "metadata": {},
   "outputs": [
    {
     "name": "stdout",
     "output_type": "stream",
     "text": [
      "1/1 [==============================] - 0s 94ms/step\n",
      "prediccion = azul\n"
     ]
    },
    {
     "data": {
      "image/png": "[encoded data removed]",
      "text/plain": [
       "<Figure size 640x480 with 1 Axes>"
      ]
     },
     "metadata": {},
     "output_type": "display_data"
    }
   ],
   "source": [
    "path = DATADIR + '/testimg' + '/3.jpg'\n",
    "img = load_img(path, target_size=(IMG_SIZE,IMG_SIZE))\n",
    "x = img_to_array(img)\n",
    "x=x/255\n",
    "x = x[np.newaxis, ...]\n",
    "plt.imshow(img)\n",
    "resp = model.predict(x)\n",
    "print(f'prediccion = {CATEGORIES[np.argmax(resp[0])]}')"
   ]
  },
  {
   "cell_type": "code",
   "execution_count": 15,
   "id": "d61211a5-3416-449d-9764-f9a5be8c2b29",
   "metadata": {},
   "outputs": [],
   "source": [
    "model.save('mod_color_v1.h5')"
   ]
  },
  {
   "cell_type": "code",
   "execution_count": 16,
   "id": "a6534fe3-f278-47cd-b2f4-e382f91966b4",
   "metadata": {},
   "outputs": [
    {
     "name": "stdout",
     "output_type": "stream",
     "text": [
      "<keras.engine.sequential.Sequential object at 0x7f5271907280>\n"
     ]
    }
   ],
   "source": [
    "print(model)"
   ]
  },
  {
   "cell_type": "code",
   "execution_count": 19,
   "id": "3f860242-3b2f-41ff-9a38-a591f5ac0dbb",
   "metadata": {},
   "outputs": [
    {
     "data": {
      "text/plain": [
       "[<tf.Variable 'conv2d/kernel:0' shape=(5, 5, 3, 32) dtype=float32, numpy=\n",
       " array([[[[ 2.58351285e-02, -4.52552997e-02, -1.93931852e-02, ...,\n",
       "            1.62619110e-02, -6.30730903e-03, -3.37628834e-02],\n",
       "          [-4.66396771e-02, -3.28118317e-02,  8.43007639e-02, ...,\n",
       "            5.91493696e-02,  5.14822528e-02,  6.25372157e-02],\n",
       "          [-7.08797425e-02,  2.15101824e-03, -7.76111260e-02, ...,\n",
       "           -1.52213834e-02,  5.86047769e-02,  3.13885659e-02]],\n",
       " \n",
       "         [[-3.40537652e-02, -8.81344825e-02, -6.30237684e-02, ...,\n",
       "            8.15318723e-04, -6.29581884e-02, -5.88878728e-02],\n",
       "          [-1.85013388e-03,  7.30272382e-02, -9.90447402e-03, ...,\n",
       "           -8.28896090e-02, -2.03325599e-02,  3.99175510e-02],\n",
       "          [ 7.58359395e-03, -8.04029629e-02, -5.72483093e-02, ...,\n",
       "            7.69847780e-02,  5.01930190e-04,  2.17024274e-02]],\n",
       " \n",
       "         [[ 2.47656740e-02,  7.22174793e-02, -8.83254106e-04, ...,\n",
       "            4.61701630e-03,  5.65022044e-02,  4.84470762e-02],\n",
       "          [-2.39767972e-02, -4.17032577e-02,  7.84550980e-03, ...,\n",
       "           -6.77279308e-02, -1.99615117e-03,  1.50574790e-02],\n",
       "          [-3.46112298e-03, -5.71649447e-02,  7.86493421e-02, ...,\n",
       "           -5.03968149e-02, -5.36465049e-02,  7.55310655e-02]],\n",
       " \n",
       "         [[ 3.07250153e-02, -6.30991757e-02,  5.27149066e-02, ...,\n",
       "           -2.67872941e-02, -4.22185101e-02, -6.35268306e-03],\n",
       "          [ 1.55096967e-02, -7.43733644e-02,  4.64154631e-02, ...,\n",
       "           -2.87969061e-03, -3.17340530e-02, -3.46811004e-02],\n",
       "          [ 1.88648906e-02, -4.86864522e-02, -6.08701371e-02, ...,\n",
       "           -7.06035644e-02, -1.33228842e-02,  2.13956591e-02]],\n",
       " \n",
       "         [[-4.02438007e-02, -4.71389741e-02, -1.19868703e-02, ...,\n",
       "           -5.96240684e-02,  7.12939575e-02, -7.35839084e-02],\n",
       "          [-6.82842582e-02, -4.31324877e-02, -2.27458440e-02, ...,\n",
       "           -4.86067869e-02, -6.22356795e-02, -2.80797090e-02],\n",
       "          [-1.23501820e-02,  5.33452481e-02,  4.64217272e-03, ...,\n",
       "           -4.31782268e-02,  8.27872567e-03,  9.10511836e-02]]],\n",
       " \n",
       " \n",
       "        [[[ 6.83839023e-02, -5.19585907e-02, -1.37060480e-02, ...,\n",
       "           -4.17595133e-02, -7.09392354e-02, -7.54848449e-03],\n",
       "          [ 4.36427519e-02, -4.78738062e-02,  7.90551975e-02, ...,\n",
       "           -5.52047044e-02, -4.82293740e-02,  3.31654213e-02],\n",
       "          [-1.87371876e-02,  3.06624360e-03,  2.99151167e-02, ...,\n",
       "            1.20428782e-02,  6.37220740e-02,  8.41908082e-02]],\n",
       " \n",
       "         [[ 5.44288978e-02,  5.02100866e-03,  1.86320972e-02, ...,\n",
       "           -2.70290719e-03,  5.21175051e-03,  7.35214949e-02],\n",
       "          [-9.22486093e-03, -8.51018652e-02,  4.16313373e-02, ...,\n",
       "            1.72919016e-02,  8.45638588e-02,  3.24426442e-02],\n",
       "          [-1.31198019e-02, -5.31110652e-02,  4.50623408e-02, ...,\n",
       "            3.16878147e-02, -3.26598948e-03,  3.84276845e-02]],\n",
       " \n",
       "         [[-5.37457280e-02, -7.71340877e-02,  2.92812232e-02, ...,\n",
       "           -4.06834558e-02,  5.79260439e-02,  6.99558109e-02],\n",
       "          [ 3.10834721e-02,  8.68799351e-03,  6.07793592e-02, ...,\n",
       "           -9.89298895e-03, -4.26707007e-02,  1.52562838e-02],\n",
       "          [-7.20985383e-02, -5.98295741e-02,  1.91906318e-02, ...,\n",
       "            4.65014316e-02, -3.59370199e-04, -2.90364362e-02]],\n",
       " \n",
       "         [[-6.80290256e-03, -4.97965813e-02, -2.98663564e-02, ...,\n",
       "            4.72322069e-02, -7.13415816e-02,  3.61519456e-02],\n",
       "          [ 2.97540054e-02, -4.14832076e-03,  6.14021383e-02, ...,\n",
       "            6.48428947e-02, -8.11173841e-02, -3.99146266e-02],\n",
       "          [ 2.78885458e-02,  4.83507626e-02,  2.13762652e-02, ...,\n",
       "           -7.42375990e-03, -1.61583852e-02, -3.47743593e-02]],\n",
       " \n",
       "         [[ 7.07574636e-02, -4.68204841e-02, -3.90542895e-02, ...,\n",
       "           -2.61712540e-02, -6.05249964e-02, -5.81202563e-03],\n",
       "          [ 7.59367943e-02, -3.49449776e-02,  2.63611823e-02, ...,\n",
       "           -1.06981145e-02, -1.03249662e-02, -8.34604874e-02],\n",
       "          [-8.77761561e-03,  4.07398529e-02,  4.30343822e-02, ...,\n",
       "           -3.65982996e-03,  6.63274974e-02, -7.98479468e-03]]],\n",
       " \n",
       " \n",
       "        [[[-4.74131778e-02, -2.19867588e-03, -5.03377318e-02, ...,\n",
       "            3.56096327e-02,  5.45020476e-02, -3.76103967e-02],\n",
       "          [ 4.26632464e-02,  6.45814836e-02, -3.71173136e-02, ...,\n",
       "            3.34657282e-02, -1.81518402e-02, -5.86607754e-02],\n",
       "          [ 2.32319031e-02, -1.76227797e-04, -4.77605462e-02, ...,\n",
       "            3.63479572e-04,  2.34753396e-02, -4.88611050e-02]],\n",
       " \n",
       "         [[-2.56061796e-02,  6.62400499e-02, -2.00838409e-02, ...,\n",
       "            5.56409061e-02, -4.92868945e-02,  9.01879929e-03],\n",
       "          [ 6.01196475e-02,  6.03250563e-02,  3.36829349e-02, ...,\n",
       "           -8.38214010e-02,  6.83847889e-02, -2.34459024e-02],\n",
       "          [-4.06825356e-02,  5.57479225e-02, -4.57468734e-04, ...,\n",
       "           -4.18217964e-02,  6.33292422e-02, -1.61805227e-02]],\n",
       " \n",
       "         [[-5.70431445e-03, -8.31856206e-02,  3.18174139e-02, ...,\n",
       "           -6.16181381e-02, -2.41134930e-02, -4.00601253e-02],\n",
       "          [ 9.40009505e-02,  2.18150746e-02,  8.70157406e-02, ...,\n",
       "            9.83027462e-03,  3.89419869e-02, -6.96861893e-02],\n",
       "          [-1.04263471e-02,  2.36517619e-02, -7.76572749e-02, ...,\n",
       "           -4.97026648e-03, -3.56055386e-02, -5.52601442e-02]],\n",
       " \n",
       "         [[ 1.69630405e-02, -3.97351235e-02,  3.40354145e-02, ...,\n",
       "           -5.83503358e-02,  4.12592590e-02, -3.88901643e-02],\n",
       "          [ 4.90262024e-02,  2.61058789e-02,  9.48374346e-02, ...,\n",
       "           -1.58222078e-03, -3.31781283e-02,  5.68858013e-02],\n",
       "          [-4.28262502e-02, -1.08855404e-03,  6.31457344e-02, ...,\n",
       "           -2.44460814e-03,  8.53159279e-02,  1.22957805e-03]],\n",
       " \n",
       "         [[ 1.45641789e-02,  4.98580933e-02,  5.56336939e-02, ...,\n",
       "            5.26285432e-02,  5.50118163e-02, -1.32300030e-03],\n",
       "          [ 3.89233269e-02,  2.03751330e-03,  6.38978556e-02, ...,\n",
       "           -5.81377037e-02, -6.08495176e-02,  4.34782505e-02],\n",
       "          [-3.09007075e-02, -7.66658038e-02,  6.80850223e-02, ...,\n",
       "           -8.07386562e-02,  5.36501519e-02,  6.20199405e-02]]],\n",
       " \n",
       " \n",
       "        [[[ 7.32562840e-02,  7.11641312e-02,  2.14350205e-02, ...,\n",
       "           -4.43892591e-02,  3.72200981e-02, -7.47772902e-02],\n",
       "          [-1.16239255e-02, -3.58023420e-02,  5.15467254e-03, ...,\n",
       "           -1.65826187e-03, -3.62738967e-02,  5.96538037e-02],\n",
       "          [ 2.48901211e-02,  4.57056127e-02,  1.37879765e-02, ...,\n",
       "            7.96841756e-02, -1.48841143e-02, -5.65719820e-05]],\n",
       " \n",
       "         [[-7.25963116e-02,  6.75223619e-02, -5.11979610e-02, ...,\n",
       "            2.61923186e-02,  5.21045411e-03, -5.08578531e-02],\n",
       "          [-3.66255902e-02, -4.93184812e-02,  8.45334120e-03, ...,\n",
       "           -2.94885952e-02,  1.44920349e-02,  4.14310172e-02],\n",
       "          [-5.19357212e-02,  6.57980964e-02,  4.47438285e-02, ...,\n",
       "           -1.23187024e-02,  9.37346965e-02, -2.06485242e-02]],\n",
       " \n",
       "         [[-3.05782678e-03, -4.96519788e-05, -7.08353296e-02, ...,\n",
       "            9.58273839e-03, -2.99785957e-02,  3.50645855e-02],\n",
       "          [ 3.13841328e-02, -3.20364274e-02, -2.81415638e-02, ...,\n",
       "           -5.80592139e-04, -7.51816705e-02,  5.02862781e-02],\n",
       "          [-2.23104395e-02,  6.58173412e-02,  7.69137666e-02, ...,\n",
       "           -2.15635784e-02,  8.65631849e-02,  7.26204887e-02]],\n",
       " \n",
       "         [[ 5.19246794e-02, -2.81068347e-02, -3.47132608e-02, ...,\n",
       "            6.36344030e-02, -8.14059749e-02,  1.55171435e-02],\n",
       "          [-4.51540723e-02, -7.19017014e-02, -2.73697963e-03, ...,\n",
       "           -7.95874745e-02, -3.25158760e-02,  3.92517261e-03],\n",
       "          [-3.48852910e-02, -6.33697361e-02,  2.51887403e-02, ...,\n",
       "            1.43286539e-02,  7.80463368e-02,  5.47287464e-02]],\n",
       " \n",
       "         [[-6.14325590e-02, -8.37059412e-03,  3.99234369e-02, ...,\n",
       "           -3.83904725e-02, -3.53275165e-02, -5.80984689e-02],\n",
       "          [-4.84385639e-02, -3.42164445e-03, -2.16428172e-02, ...,\n",
       "           -4.85340878e-02,  1.59320310e-02,  3.52321863e-02],\n",
       "          [-1.88157652e-02, -2.93029984e-03,  1.62832830e-02, ...,\n",
       "           -1.95765104e-02,  4.40821573e-02,  4.86939214e-02]]],\n",
       " \n",
       " \n",
       "        [[[ 8.53502974e-02, -1.25618307e-02,  6.87654614e-02, ...,\n",
       "            8.63963179e-03, -7.57485479e-02,  2.04846309e-03],\n",
       "          [ 1.97668951e-02,  6.53969347e-02,  4.04878706e-02, ...,\n",
       "            1.81389377e-02,  4.63844612e-02, -4.50769179e-02],\n",
       "          [-4.75085266e-02, -5.15307970e-02,  1.45990737e-02, ...,\n",
       "           -5.80273271e-02,  3.63603011e-02,  4.95239161e-02]],\n",
       " \n",
       "         [[ 2.12215502e-02, -3.44431587e-02,  4.88766655e-02, ...,\n",
       "            7.18208104e-02,  1.51283492e-03, -5.29914424e-02],\n",
       "          [ 9.64987203e-02, -2.05990989e-02, -3.25008784e-03, ...,\n",
       "           -7.01051727e-02,  6.92123398e-02, -6.17255270e-02],\n",
       "          [ 6.48888946e-02, -8.04652572e-02, -4.26413529e-02, ...,\n",
       "           -2.17378698e-02, -4.53040898e-02, -1.80584602e-02]],\n",
       " \n",
       "         [[ 1.61066819e-02,  5.81163727e-02, -6.73801377e-02, ...,\n",
       "            4.25765589e-02,  2.52140090e-02, -7.76521340e-02],\n",
       "          [ 6.25817105e-02, -2.47168187e-02, -3.38497236e-02, ...,\n",
       "            3.09169386e-02,  7.87962154e-02,  7.17759877e-02],\n",
       "          [-1.52002275e-02, -4.33780625e-03,  3.07563134e-02, ...,\n",
       "           -7.47668445e-02, -4.18093950e-02,  7.95509815e-02]],\n",
       " \n",
       "         [[ 7.22500682e-02,  4.75205071e-02,  5.84646650e-02, ...,\n",
       "            3.55825424e-02, -5.39979674e-02, -4.08648588e-02],\n",
       "          [ 5.72020225e-02, -3.14867520e-03,  6.93427958e-03, ...,\n",
       "           -1.52692366e-02, -2.21030344e-03,  2.51426566e-02],\n",
       "          [-5.51383756e-02, -8.68495437e-04, -3.09124682e-02, ...,\n",
       "           -3.70997228e-02,  3.04447412e-02, -1.87046658e-02]],\n",
       " \n",
       "         [[-3.01966574e-02, -7.44099915e-02,  6.75351126e-03, ...,\n",
       "            6.13518246e-02, -4.44440022e-02, -1.15187103e-02],\n",
       "          [-3.82062085e-02,  7.56132528e-02,  9.19670612e-02, ...,\n",
       "           -8.07899702e-03, -1.19745196e-03, -6.10126182e-02],\n",
       "          [-2.50925887e-02, -7.88274482e-02, -4.96161766e-02, ...,\n",
       "            3.81785519e-02,  5.94901554e-02, -3.93510656e-03]]]],\n",
       "       dtype=float32)>,\n",
       " <tf.Variable 'conv2d/bias:0' shape=(32,) dtype=float32, numpy=\n",
       " array([-0.00356093, -0.00911088,  0.01268353,  0.00217606,  0.0165248 ,\n",
       "         0.00825696, -0.00158521,  0.01632745,  0.00564094, -0.00051284,\n",
       "         0.0059137 , -0.00196918,  0.02519802,  0.0147647 , -0.00777554,\n",
       "         0.00318416,  0.00601551,  0.0124654 , -0.01131681,  0.0073286 ,\n",
       "         0.00325057,  0.01823431,  0.01625849,  0.01146847, -0.00880888,\n",
       "         0.01210422,  0.00535779,  0.00062483,  0.01244459,  0.0104064 ,\n",
       "         0.01621612,  0.01727053], dtype=float32)>,\n",
       " <tf.Variable 'dense/kernel:0' shape=(6272, 10) dtype=float32, numpy=\n",
       " array([[ 2.1024767e-02, -8.0611138e-03, -2.6802290e-02, ...,\n",
       "          1.2999101e-02,  1.5156183e-02,  5.0952444e-03],\n",
       "        [-1.6351810e-02,  3.5921942e-02, -2.3356553e-02, ...,\n",
       "          5.0651552e-03, -6.7442404e-03, -1.6171664e-02],\n",
       "        [ 2.9026370e-03, -2.0534409e-02,  6.0482561e-03, ...,\n",
       "         -4.0363011e-05, -1.8899452e-02,  2.4747500e-02],\n",
       "        ...,\n",
       "        [ 3.0839704e-03, -2.8736047e-03,  1.9342430e-02, ...,\n",
       "          3.5345722e-02,  1.7040042e-02,  2.5604434e-02],\n",
       "        [ 1.8672631e-03, -2.2225989e-02,  1.5923870e-03, ...,\n",
       "          7.2422610e-03, -7.4401121e-03,  1.7556753e-02],\n",
       "        [ 4.4862516e-03,  1.9124387e-02, -3.3864520e-02, ...,\n",
       "          1.8218588e-02, -9.1956304e-03, -2.7167911e-02]], dtype=float32)>,\n",
       " <tf.Variable 'dense/bias:0' shape=(10,) dtype=float32, numpy=\n",
       " array([-0.00600374,  0.01251514, -0.00555731,  0.00874269,  0.01035675,\n",
       "         0.01019075,  0.01658986,  0.00231109,  0.01323125,  0.01273064],\n",
       "       dtype=float32)>,\n",
       " <tf.Variable 'dense_1/kernel:0' shape=(10, 3) dtype=float32, numpy=\n",
       " array([[-0.08043272,  0.11409833, -0.04560627],\n",
       "        [-0.6939541 , -0.39195433, -0.5329146 ],\n",
       "        [-0.5448852 , -0.4803217 ,  0.6185354 ],\n",
       "        [-0.29582575,  0.02959126,  0.34961528],\n",
       "        [ 0.63557625,  0.4052619 ,  0.1140461 ],\n",
       "        [-0.15591325,  0.0892251 ,  0.6249024 ],\n",
       "        [-0.21912614, -0.29711282,  0.26534432],\n",
       "        [ 0.0604995 ,  0.08058548, -0.39783147],\n",
       "        [ 0.08096401,  0.45654896,  0.46981713],\n",
       "        [-0.09570386,  0.40672132, -0.0017885 ]], dtype=float32)>,\n",
       " <tf.Variable 'dense_1/bias:0' shape=(3,) dtype=float32, numpy=array([ 0.01970569, -0.02228376,  0.01516972], dtype=float32)>]"
      ]
     },
     "execution_count": 19,
     "metadata": {},
     "output_type": "execute_result"
    }
   ],
   "source": [
    "model.weights"
   ]
  },
  {
   "cell_type": "code",
   "execution_count": null,
   "id": "a12a6d2b-031b-42ea-af87-cb3a32e54d37",
   "metadata": {},
   "outputs": [],
   "source": []
  }
 ],
 "metadata": {
  "kernelspec": {
   "display_name": "Python 3 (ipykernel)",
   "language": "python",
   "name": "python3"
  },
  "language_info": {
   "codemirror_mode": {
    "name": "ipython",
    "version": 3
   },
   "file_extension": ".py",
   "mimetype": "text/x-python",
   "name": "python",
   "nbconvert_exporter": "python",
   "pygments_lexer": "ipython3",
   "version": "3.9.15"
  }
 },
 "nbformat": 4,
 "nbformat_minor": 5
}
