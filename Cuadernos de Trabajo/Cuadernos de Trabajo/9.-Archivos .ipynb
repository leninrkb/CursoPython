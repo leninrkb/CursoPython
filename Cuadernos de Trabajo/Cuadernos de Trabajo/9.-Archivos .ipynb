{
 "cells": [
  {
   "cell_type": "markdown",
   "id": "3f723dd1-7f92-4ab8-923e-98de3a1db9fb",
   "metadata": {},
   "source": [
    "# 9.- Archivos"
   ]
  },
  {
   "cell_type": "markdown",
   "id": "d43b7e5b-7609-4259-9bdb-5cbb52f30d79",
   "metadata": {},
   "source": [
    "## 9.2.-Archivos TXT"
   ]
  },
  {
   "cell_type": "markdown",
   "id": "2aae30a5-95f2-4e6f-8fe5-b40c43766518",
   "metadata": {},
   "source": [
    "Lo primero que haremos será escribir a un archivo de texto con información extraordinariamente importante. \n",
    "\n",
    "A continuación los 4 influencers con más seguidores en tiktok del mundo (Febrero 2021)\n",
    "\n",
    "@charlidamelio D’Amelio 108.1\n",
    "@addisonre Addison 76.4\n",
    "@zachking Zach 56.6\n",
    "@bellapoarch Bella 56.3"
   ]
  },
  {
   "cell_type": "code",
   "execution_count": 10,
   "id": "3b645420-c1cd-4977-b392-37fde45251c2",
   "metadata": {},
   "outputs": [],
   "source": [
    "with open('seguidores.txt',mode='w') as seguidores:\n",
    "    seguidores.write('@charlidamelio D’Amelio 108.1\\n')\n",
    "    seguidores.write('@addisonre Addison 76.4\\n')\n",
    "    seguidores.write('@zachking Zach 56.6\\n')\n",
    "    seguidores.write('@bellapoarch Bella 56.3\\n')"
   ]
  },
  {
   "cell_type": "markdown",
   "id": "280440b0-730b-42a1-bf2d-14e57a25f019",
   "metadata": {},
   "source": [
    "Ahora revisaremos los contenidos en python con el siguiente código:"
   ]
  },
  {
   "cell_type": "code",
   "execution_count": 6,
   "id": "a573ef82-eb54-4fcb-85b6-b398a6eb8576",
   "metadata": {},
   "outputs": [
    {
     "name": "stdout",
     "output_type": "stream",
     "text": [
      "Handle              Nombre        numseg\n",
      "@charlidamelio      D’Amelio       108.1\n",
      "@addisonre          Addison         76.4\n",
      "@zachking           Zach            56.6\n",
      "@bellapoarch        Bella           56.3\n"
     ]
    }
   ],
   "source": [
    "with open('seguidores.txt',mode='r') as s:\n",
    "    print(f'{\"Handle\":<20}{\"Nombre\":<10}{\"numseg\":>10}')\n",
    "    for record in s:\n",
    "        handle,nombre,num_seg = record.split()\n",
    "        print(f'{handle:<20}{nombre:<10}{num_seg:>10}')"
   ]
  },
  {
   "cell_type": "markdown",
   "id": "01d17b73-6e87-4f8a-a923-6501929e7e3a",
   "metadata": {},
   "source": [
    "Que pasa si queremos modificar el carhivo desde python? Es un problema"
   ]
  },
  {
   "cell_type": "code",
   "execution_count": 11,
   "id": "347ba2e9-2241-403d-b485-c5e6fe88b03c",
   "metadata": {},
   "outputs": [],
   "source": [
    "seguidores = open('seguidores.txt','r')\n",
    "temp = open('temp.txt','w')\n",
    "with seguidores, temp:\n",
    "    for r in seguidores:\n",
    "        handle,nombre,seg = r.split()\n",
    "        if handle != '@charlidamelio':\n",
    "            temp.write(r)\n",
    "        else:\n",
    "            nn = ' '.join([handle,'charlie',seg])\n",
    "            temp.write(nn+'\\n')"
   ]
  },
  {
   "cell_type": "markdown",
   "id": "9e9fd794-614b-4af9-8e19-ecf187e7096e",
   "metadata": {},
   "source": [
    "## 9.3.- Archivos JSON"
   ]
  },
  {
   "cell_type": "markdown",
   "id": "b2f0e150-64e6-4a0c-bf9a-01b14b0474e5",
   "metadata": {},
   "source": [
    "Consideremos el siguiente diccionario que habla de tiktok\n",
    "\n",
    "seguidores_dicc={'seguidores\\n':[\n",
    " {'handle':'@charlidamelio', 'name':'Charlie', 'num_seg':108.1},\n",
    " {'handle':'@addisonre', 'name':'Addison', 'num_seg':76.4},\n",
    " {'handle':'@zachking', 'name':'Zach', 'num_seg':56.6},\n",
    " {'handle':'@bellapoarch', 'name':'Bella', 'num_seg':56.3}]}\n"
   ]
  },
  {
   "cell_type": "code",
   "execution_count": null,
   "id": "03037689-e74d-4a37-a700-e7e8bb4548a4",
   "metadata": {},
   "outputs": [],
   "source": []
  },
  {
   "cell_type": "code",
   "execution_count": null,
   "id": "4cc74381-4415-4e2d-a6e9-22ab5cbe564a",
   "metadata": {},
   "outputs": [],
   "source": []
  },
  {
   "cell_type": "markdown",
   "id": "ad19770f-e6b3-45cd-a0f2-cabdac51d79b",
   "metadata": {},
   "source": [
    "Para escribir este objeto con el formato JSON"
   ]
  },
  {
   "cell_type": "code",
   "execution_count": null,
   "id": "47e2a67a-3f55-418d-8808-f496fcbaa2b3",
   "metadata": {},
   "outputs": [],
   "source": []
  },
  {
   "cell_type": "code",
   "execution_count": null,
   "id": "669a083d-9292-492c-9025-ae504add8ac4",
   "metadata": {},
   "outputs": [],
   "source": []
  },
  {
   "cell_type": "markdown",
   "id": "024fa392-219c-4b12-ae18-a42ee73dcfe7",
   "metadata": {},
   "source": [
    "Ahora recuperemos los datos del archivo JSON con la función load"
   ]
  },
  {
   "cell_type": "code",
   "execution_count": null,
   "id": "c7a73524-4bd7-49d2-802d-c9ae25d47984",
   "metadata": {},
   "outputs": [],
   "source": []
  },
  {
   "cell_type": "code",
   "execution_count": null,
   "id": "ed9d27d0-34f0-463d-95d8-8cf689b4a5bf",
   "metadata": {},
   "outputs": [],
   "source": []
  },
  {
   "cell_type": "markdown",
   "id": "9ca654fe-7bc1-49c0-977d-6ad05e6bcca6",
   "metadata": {},
   "source": [
    "Ahora accede al diccionario asociada a la llave seguidores"
   ]
  },
  {
   "cell_type": "code",
   "execution_count": null,
   "id": "265f88a2-fc60-468a-9989-443bafae1ea4",
   "metadata": {},
   "outputs": [],
   "source": []
  },
  {
   "cell_type": "markdown",
   "id": "d1401405-df57-4c3d-9dee-dd2ec443becb",
   "metadata": {},
   "source": [
    "Y obten registros indivudales de 0 y 3"
   ]
  },
  {
   "cell_type": "code",
   "execution_count": null,
   "id": "89b6cefd-6244-452a-864f-811ef39b4def",
   "metadata": {},
   "outputs": [],
   "source": []
  },
  {
   "cell_type": "markdown",
   "id": "e3e7b792-4db7-433e-ab92-a4fd8193306d",
   "metadata": {},
   "source": [
    "## 9.4.- Manipulación de Excepciones"
   ]
  },
  {
   "cell_type": "markdown",
   "id": "bba13d6b-9e2a-4c81-9810-3d20c568c47a",
   "metadata": {},
   "source": [
    "Una excepción es un error, como dividir entre 0"
   ]
  },
  {
   "cell_type": "code",
   "execution_count": null,
   "id": "4a421606-3126-4ff3-8348-cfc8535d0ce9",
   "metadata": {},
   "outputs": [],
   "source": [
    "1/0"
   ]
  },
  {
   "cell_type": "markdown",
   "id": "bf2a3d29-582b-41f9-a1c7-caefa291c04c",
   "metadata": {},
   "source": [
    "Y la excepción d etipo value error, que ocurre cuando intentas convertir una cadena en entero"
   ]
  },
  {
   "cell_type": "code",
   "execution_count": 14,
   "id": "f307efbc-744b-49f6-8668-a001dfffcf11",
   "metadata": {},
   "outputs": [
    {
     "name": "stdout",
     "output_type": "stream",
     "text": [
      "neins\n"
     ]
    }
   ],
   "source": [
    "try:\n",
    "    int('qwe')\n",
    "except ValueError:\n",
    "    print('neins')"
   ]
  },
  {
   "cell_type": "markdown",
   "id": "2768f4e8-9601-4128-8f43-d07955f6d81d",
   "metadata": {},
   "source": [
    "Que pasa si quiero dar continuidad a la ejecución dle programa?"
   ]
  },
  {
   "cell_type": "markdown",
   "id": "2316123b-0545-4495-ad05-954857d1e1f6",
   "metadata": {},
   "source": [
    "Vamos a hacer un programa que divida por 0 - vamos a necesitar usar While, trye, except, except y else"
   ]
  },
  {
   "cell_type": "code",
   "execution_count": 15,
   "id": "9a5aaf89-dd98-41d9-ac2c-0ecc044423f7",
   "metadata": {},
   "outputs": [],
   "source": [
    "# 2 ez"
   ]
  },
  {
   "cell_type": "markdown",
   "id": "0cdf6156-1396-490e-97b5-c167ef49ed0f",
   "metadata": {},
   "source": [
    "## 9.5.- Archivos CSV"
   ]
  },
  {
   "cell_type": "markdown",
   "id": "85a3ebe3-34b3-422c-b548-0f96d6c95c05",
   "metadata": {},
   "source": [
    "Primero crearemos un archivo CSV con los seguidores de TikTok"
   ]
  },
  {
   "cell_type": "code",
   "execution_count": 21,
   "id": "660d8b15-c380-4860-9714-ea7b920a6ce7",
   "metadata": {},
   "outputs": [],
   "source": [
    "import csv\n",
    "with open('seguidores.csv',mode='w',newline='') as s:\n",
    "    writer = csv.writer(s)\n",
    "    writer.writerow(['@qqq','qq',111])\n",
    "    writer.writerow(['@aaa','aa',131])\n",
    "    writer.writerow(['@zzz','zz',119])"
   ]
  },
  {
   "cell_type": "markdown",
   "id": "b2fc2084-25bd-40ca-9bf9-21ee576efa9c",
   "metadata": {},
   "source": [
    "Ahora leeremos nuestro mismo archivo"
   ]
  },
  {
   "cell_type": "code",
   "execution_count": 24,
   "id": "8bd1e7ef-09ae-4b45-b59b-8fdb593eb3a0",
   "metadata": {},
   "outputs": [
    {
     "name": "stdout",
     "output_type": "stream",
     "text": [
      "Handle              Nombre        numseg\n",
      "@qqq                qq               111\n",
      "@aaa                aa               131\n",
      "@zzz                zz               119\n"
     ]
    }
   ],
   "source": [
    "with open('seguidores.csv','r',newline='') as s:\n",
    "    print(f'{\"Handle\":<20}{\"Nombre\":<10}{\"numseg\":>10}')\n",
    "    lectura = csv.reader(s)\n",
    "    for r in lectura:\n",
    "        h,n,ss = r\n",
    "        print(f'{h:<20}{n:<10}{ss:>10}')"
   ]
  },
  {
   "cell_type": "markdown",
   "id": "14e192c6-1b56-47ea-8e8b-7afbb0e6ddc8",
   "metadata": {},
   "source": [
    "## 9.6.- Lectura de CSV con DataFrame de Pandas"
   ]
  },
  {
   "cell_type": "markdown",
   "id": "6cfe35de-8e30-4e9d-8bc5-9e9d2d013c62",
   "metadata": {},
   "source": [
    "Vamos a leer el archivo del gimnasio"
   ]
  },
  {
   "cell_type": "code",
   "execution_count": 25,
   "id": "b1e961ac-5542-4c45-ab76-3b500b99caf4",
   "metadata": {},
   "outputs": [],
   "source": [
    "import pandas as pd"
   ]
  },
  {
   "cell_type": "code",
   "execution_count": 26,
   "id": "0897eddd-3cf6-4c3c-a843-29aa4ab72b64",
   "metadata": {},
   "outputs": [],
   "source": [
    "datos = pd.read_csv('datos_gimnasio.csv')"
   ]
  },
  {
   "cell_type": "markdown",
   "id": "7d1c9c3c-1303-479d-9e38-21aa11d88a84",
   "metadata": {},
   "source": [
    "Ahora mostraremos oslo las últimas 5 filas"
   ]
  },
  {
   "cell_type": "code",
   "execution_count": null,
   "id": "cf33d841-1a3b-42ca-84c7-7a947cbf99c8",
   "metadata": {},
   "outputs": [],
   "source": [
    "pd.set_option('precision',1)#muestro solo 1 decimal"
   ]
  },
  {
   "cell_type": "code",
   "execution_count": 28,
   "id": "305a1d3d-0b99-44e3-9a51-cea3873b5b08",
   "metadata": {},
   "outputs": [
    {
     "data": {
      "text/html": [
       "<div>\n",
       "<style scoped>\n",
       "    .dataframe tbody tr th:only-of-type {\n",
       "        vertical-align: middle;\n",
       "    }\n",
       "\n",
       "    .dataframe tbody tr th {\n",
       "        vertical-align: top;\n",
       "    }\n",
       "\n",
       "    .dataframe thead th {\n",
       "        text-align: right;\n",
       "    }\n",
       "</style>\n",
       "<table border=\"1\" class=\"dataframe\">\n",
       "  <thead>\n",
       "    <tr style=\"text-align: right;\">\n",
       "      <th></th>\n",
       "      <th>codigo_user</th>\n",
       "      <th>Género</th>\n",
       "      <th>Peso</th>\n",
       "      <th>Cintura</th>\n",
       "      <th>Pulso</th>\n",
       "      <th>Lagartijas</th>\n",
       "      <th>Sentadillas</th>\n",
       "      <th>Saltos</th>\n",
       "    </tr>\n",
       "  </thead>\n",
       "  <tbody>\n",
       "    <tr>\n",
       "      <th>0</th>\n",
       "      <td>usuario1</td>\n",
       "      <td>M</td>\n",
       "      <td>86.64</td>\n",
       "      <td>91.44</td>\n",
       "      <td>50</td>\n",
       "      <td>5</td>\n",
       "      <td>162</td>\n",
       "      <td>60</td>\n",
       "    </tr>\n",
       "    <tr>\n",
       "      <th>1</th>\n",
       "      <td>usuario2</td>\n",
       "      <td>M</td>\n",
       "      <td>85.73</td>\n",
       "      <td>93.98</td>\n",
       "      <td>52</td>\n",
       "      <td>2</td>\n",
       "      <td>110</td>\n",
       "      <td>60</td>\n",
       "    </tr>\n",
       "    <tr>\n",
       "      <th>2</th>\n",
       "      <td>usuario3</td>\n",
       "      <td>M</td>\n",
       "      <td>87.54</td>\n",
       "      <td>96.52</td>\n",
       "      <td>58</td>\n",
       "      <td>12</td>\n",
       "      <td>101</td>\n",
       "      <td>101</td>\n",
       "    </tr>\n",
       "    <tr>\n",
       "      <th>3</th>\n",
       "      <td>usuario4</td>\n",
       "      <td>F</td>\n",
       "      <td>73.48</td>\n",
       "      <td>88.90</td>\n",
       "      <td>62</td>\n",
       "      <td>12</td>\n",
       "      <td>105</td>\n",
       "      <td>37</td>\n",
       "    </tr>\n",
       "    <tr>\n",
       "      <th>4</th>\n",
       "      <td>usuario5</td>\n",
       "      <td>M</td>\n",
       "      <td>85.73</td>\n",
       "      <td>88.90</td>\n",
       "      <td>46</td>\n",
       "      <td>13</td>\n",
       "      <td>155</td>\n",
       "      <td>58</td>\n",
       "    </tr>\n",
       "  </tbody>\n",
       "</table>\n",
       "</div>"
      ],
      "text/plain": [
       "  codigo_user Género   Peso  Cintura  Pulso  Lagartijas  Sentadillas  Saltos\n",
       "0    usuario1      M  86.64    91.44     50           5          162      60\n",
       "1    usuario2      M  85.73    93.98     52           2          110      60\n",
       "2    usuario3      M  87.54    96.52     58          12          101     101\n",
       "3    usuario4      F  73.48    88.90     62          12          105      37\n",
       "4    usuario5      M  85.73    88.90     46          13          155      58"
      ]
     },
     "execution_count": 28,
     "metadata": {},
     "output_type": "execute_result"
    }
   ],
   "source": [
    "datos.head(5)"
   ]
  },
  {
   "cell_type": "markdown",
   "id": "04c2d5ed-d6f6-4e10-8c6e-a232315d5d88",
   "metadata": {},
   "source": [
    "Vamos a modificar los encabezados del data frame"
   ]
  },
  {
   "cell_type": "code",
   "execution_count": 31,
   "id": "fa4d4a03-8ec1-4e35-85dd-9a58bb15f77f",
   "metadata": {},
   "outputs": [],
   "source": [
    "datos.columns=['codigo','genero','peso','cintura','pulso','lagartijas','sentadillas','saltos']"
   ]
  },
  {
   "cell_type": "code",
   "execution_count": 32,
   "id": "2745e7b4-42c3-45a2-b1f4-ee28da9eac50",
   "metadata": {},
   "outputs": [
    {
     "data": {
      "text/html": [
       "<div>\n",
       "<style scoped>\n",
       "    .dataframe tbody tr th:only-of-type {\n",
       "        vertical-align: middle;\n",
       "    }\n",
       "\n",
       "    .dataframe tbody tr th {\n",
       "        vertical-align: top;\n",
       "    }\n",
       "\n",
       "    .dataframe thead th {\n",
       "        text-align: right;\n",
       "    }\n",
       "</style>\n",
       "<table border=\"1\" class=\"dataframe\">\n",
       "  <thead>\n",
       "    <tr style=\"text-align: right;\">\n",
       "      <th></th>\n",
       "      <th>codigo</th>\n",
       "      <th>genero</th>\n",
       "      <th>peso</th>\n",
       "      <th>cintura</th>\n",
       "      <th>pulso</th>\n",
       "      <th>lagartijas</th>\n",
       "      <th>sentadillas</th>\n",
       "      <th>saltos</th>\n",
       "    </tr>\n",
       "  </thead>\n",
       "  <tbody>\n",
       "    <tr>\n",
       "      <th>0</th>\n",
       "      <td>usuario1</td>\n",
       "      <td>M</td>\n",
       "      <td>86.64</td>\n",
       "      <td>91.44</td>\n",
       "      <td>50</td>\n",
       "      <td>5</td>\n",
       "      <td>162</td>\n",
       "      <td>60</td>\n",
       "    </tr>\n",
       "    <tr>\n",
       "      <th>1</th>\n",
       "      <td>usuario2</td>\n",
       "      <td>M</td>\n",
       "      <td>85.73</td>\n",
       "      <td>93.98</td>\n",
       "      <td>52</td>\n",
       "      <td>2</td>\n",
       "      <td>110</td>\n",
       "      <td>60</td>\n",
       "    </tr>\n",
       "    <tr>\n",
       "      <th>2</th>\n",
       "      <td>usuario3</td>\n",
       "      <td>M</td>\n",
       "      <td>87.54</td>\n",
       "      <td>96.52</td>\n",
       "      <td>58</td>\n",
       "      <td>12</td>\n",
       "      <td>101</td>\n",
       "      <td>101</td>\n",
       "    </tr>\n",
       "    <tr>\n",
       "      <th>3</th>\n",
       "      <td>usuario4</td>\n",
       "      <td>F</td>\n",
       "      <td>73.48</td>\n",
       "      <td>88.90</td>\n",
       "      <td>62</td>\n",
       "      <td>12</td>\n",
       "      <td>105</td>\n",
       "      <td>37</td>\n",
       "    </tr>\n",
       "    <tr>\n",
       "      <th>4</th>\n",
       "      <td>usuario5</td>\n",
       "      <td>M</td>\n",
       "      <td>85.73</td>\n",
       "      <td>88.90</td>\n",
       "      <td>46</td>\n",
       "      <td>13</td>\n",
       "      <td>155</td>\n",
       "      <td>58</td>\n",
       "    </tr>\n",
       "  </tbody>\n",
       "</table>\n",
       "</div>"
      ],
      "text/plain": [
       "     codigo genero   peso  cintura  pulso  lagartijas  sentadillas  saltos\n",
       "0  usuario1      M  86.64    91.44     50           5          162      60\n",
       "1  usuario2      M  85.73    93.98     52           2          110      60\n",
       "2  usuario3      M  87.54    96.52     58          12          101     101\n",
       "3  usuario4      F  73.48    88.90     62          12          105      37\n",
       "4  usuario5      M  85.73    88.90     46          13          155      58"
      ]
     },
     "execution_count": 32,
     "metadata": {},
     "output_type": "execute_result"
    }
   ],
   "source": [
    "datos.head()"
   ]
  },
  {
   "cell_type": "markdown",
   "id": "90eefa92-6541-4252-bafb-e960a4775172",
   "metadata": {},
   "source": [
    "Y ahora usamos describe para obtener un resumen de las estadisticas de los datos"
   ]
  },
  {
   "cell_type": "code",
   "execution_count": 33,
   "id": "6bd1e60f-3a68-4303-a621-506093fd26bf",
   "metadata": {},
   "outputs": [
    {
     "data": {
      "text/html": [
       "<div>\n",
       "<style scoped>\n",
       "    .dataframe tbody tr th:only-of-type {\n",
       "        vertical-align: middle;\n",
       "    }\n",
       "\n",
       "    .dataframe tbody tr th {\n",
       "        vertical-align: top;\n",
       "    }\n",
       "\n",
       "    .dataframe thead th {\n",
       "        text-align: right;\n",
       "    }\n",
       "</style>\n",
       "<table border=\"1\" class=\"dataframe\">\n",
       "  <thead>\n",
       "    <tr style=\"text-align: right;\">\n",
       "      <th></th>\n",
       "      <th>peso</th>\n",
       "      <th>cintura</th>\n",
       "      <th>pulso</th>\n",
       "      <th>lagartijas</th>\n",
       "      <th>sentadillas</th>\n",
       "      <th>saltos</th>\n",
       "    </tr>\n",
       "  </thead>\n",
       "  <tbody>\n",
       "    <tr>\n",
       "      <th>count</th>\n",
       "      <td>20.000000</td>\n",
       "      <td>20.000000</td>\n",
       "      <td>20.000000</td>\n",
       "      <td>20.000000</td>\n",
       "      <td>20.000000</td>\n",
       "      <td>20.00000</td>\n",
       "    </tr>\n",
       "    <tr>\n",
       "      <th>mean</th>\n",
       "      <td>81.011500</td>\n",
       "      <td>89.916000</td>\n",
       "      <td>56.100000</td>\n",
       "      <td>9.450000</td>\n",
       "      <td>145.550000</td>\n",
       "      <td>70.30000</td>\n",
       "    </tr>\n",
       "    <tr>\n",
       "      <th>std</th>\n",
       "      <td>11.200197</td>\n",
       "      <td>8.133012</td>\n",
       "      <td>7.210373</td>\n",
       "      <td>5.286278</td>\n",
       "      <td>62.566575</td>\n",
       "      <td>51.27747</td>\n",
       "    </tr>\n",
       "    <tr>\n",
       "      <th>min</th>\n",
       "      <td>62.600000</td>\n",
       "      <td>78.740000</td>\n",
       "      <td>46.000000</td>\n",
       "      <td>1.000000</td>\n",
       "      <td>50.000000</td>\n",
       "      <td>25.00000</td>\n",
       "    </tr>\n",
       "    <tr>\n",
       "      <th>25%</th>\n",
       "      <td>72.912500</td>\n",
       "      <td>83.820000</td>\n",
       "      <td>51.500000</td>\n",
       "      <td>4.750000</td>\n",
       "      <td>101.000000</td>\n",
       "      <td>39.50000</td>\n",
       "    </tr>\n",
       "    <tr>\n",
       "      <th>50%</th>\n",
       "      <td>79.830000</td>\n",
       "      <td>88.900000</td>\n",
       "      <td>55.000000</td>\n",
       "      <td>11.500000</td>\n",
       "      <td>122.500000</td>\n",
       "      <td>54.00000</td>\n",
       "    </tr>\n",
       "    <tr>\n",
       "      <th>75%</th>\n",
       "      <td>86.865000</td>\n",
       "      <td>93.980000</td>\n",
       "      <td>60.500000</td>\n",
       "      <td>13.250000</td>\n",
       "      <td>210.000000</td>\n",
       "      <td>85.25000</td>\n",
       "    </tr>\n",
       "    <tr>\n",
       "      <th>max</th>\n",
       "      <td>112.040000</td>\n",
       "      <td>116.840000</td>\n",
       "      <td>74.000000</td>\n",
       "      <td>17.000000</td>\n",
       "      <td>251.000000</td>\n",
       "      <td>250.00000</td>\n",
       "    </tr>\n",
       "  </tbody>\n",
       "</table>\n",
       "</div>"
      ],
      "text/plain": [
       "             peso     cintura      pulso  lagartijas  sentadillas     saltos\n",
       "count   20.000000   20.000000  20.000000   20.000000    20.000000   20.00000\n",
       "mean    81.011500   89.916000  56.100000    9.450000   145.550000   70.30000\n",
       "std     11.200197    8.133012   7.210373    5.286278    62.566575   51.27747\n",
       "min     62.600000   78.740000  46.000000    1.000000    50.000000   25.00000\n",
       "25%     72.912500   83.820000  51.500000    4.750000   101.000000   39.50000\n",
       "50%     79.830000   88.900000  55.000000   11.500000   122.500000   54.00000\n",
       "75%     86.865000   93.980000  60.500000   13.250000   210.000000   85.25000\n",
       "max    112.040000  116.840000  74.000000   17.000000   251.000000  250.00000"
      ]
     },
     "execution_count": 33,
     "metadata": {},
     "output_type": "execute_result"
    }
   ],
   "source": [
    "datos.describe()"
   ]
  },
  {
   "cell_type": "markdown",
   "id": "f6b07c8b-6397-4a0b-884f-22a93923c09a",
   "metadata": {},
   "source": [
    "Que tal que solo queremos estadisticas de mujeres? 👩🏻"
   ]
  },
  {
   "cell_type": "code",
   "execution_count": 34,
   "id": "be9d607d-efe9-40fb-b9fe-a858d3bb43ae",
   "metadata": {},
   "outputs": [
    {
     "data": {
      "text/plain": [
       "count       20\n",
       "unique       2\n",
       "top       True\n",
       "freq        11\n",
       "Name: genero, dtype: object"
      ]
     },
     "execution_count": 34,
     "metadata": {},
     "output_type": "execute_result"
    }
   ],
   "source": [
    "(datos.genero=='F').describe()"
   ]
  },
  {
   "cell_type": "markdown",
   "id": "f1ad722c-5b9c-43e7-816c-d09df3828f57",
   "metadata": {},
   "source": [
    "Hagamos una grafica de los datos del gym 📊"
   ]
  },
  {
   "cell_type": "code",
   "execution_count": 36,
   "id": "82d8101d-a51e-470b-929e-e09fadf7f58d",
   "metadata": {},
   "outputs": [],
   "source": [
    "import matplotlib.pyplot as plt"
   ]
  },
  {
   "cell_type": "code",
   "execution_count": 37,
   "id": "83a71029-77cd-45de-9734-bcee327e7b41",
   "metadata": {},
   "outputs": [
    {
     "data": {
      "text/plain": [
       "array([[<AxesSubplot: title={'center': 'peso'}>,\n",
       "        <AxesSubplot: title={'center': 'cintura'}>],\n",
       "       [<AxesSubplot: title={'center': 'pulso'}>,\n",
       "        <AxesSubplot: title={'center': 'lagartijas'}>],\n",
       "       [<AxesSubplot: title={'center': 'sentadillas'}>,\n",
       "        <AxesSubplot: title={'center': 'saltos'}>]], dtype=object)"
      ]
     },
     "execution_count": 37,
     "metadata": {},
     "output_type": "execute_result"
    },
    {
     "data": {
      "image/png": "[encoded data removed]",
      "text/plain": [
       "<Figure size 640x480 with 6 Axes>"
      ]
     },
     "metadata": {},
     "output_type": "display_data"
    }
   ],
   "source": [
    "datos.hist()"
   ]
  }
 ],
 "metadata": {
  "kernelspec": {
   "display_name": "Python 3 (ipykernel)",
   "language": "python",
   "name": "python3"
  },
  "language_info": {
   "codemirror_mode": {
    "name": "ipython",
    "version": 3
   },
   "file_extension": ".py",
   "mimetype": "text/x-python",
   "name": "python",
   "nbconvert_exporter": "python",
   "pygments_lexer": "ipython3",
   "version": "3.9.15"
  }
 },
 "nbformat": 4,
 "nbformat_minor": 5
}
