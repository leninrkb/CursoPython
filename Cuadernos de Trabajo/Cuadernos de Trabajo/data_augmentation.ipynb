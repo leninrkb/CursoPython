{
 "cells": [
  {
   "cell_type": "code",
   "execution_count": 1,
   "id": "1214d19c-647d-4c61-a9a8-9ab4abd61c66",
   "metadata": {},
   "outputs": [],
   "source": [
    "import albumentations as A\n",
    "import cv2\n",
    "import os\n",
    "import matplotlib.pyplot as plt"
   ]
  },
  {
   "cell_type": "code",
   "execution_count": 2,
   "id": "9db57c91-8947-4b4b-8d66-0ce2a21f969e",
   "metadata": {},
   "outputs": [],
   "source": [
    "transform = A.Compose([\n",
    "    A.RandomRotate90(),\n",
    "    A.Flip(),\n",
    "    A.Transpose(),\n",
    "    A.ShiftScaleRotate(shift_limit=0.0625, scale_limit=0.1, rotate_limit=45)\n",
    "])"
   ]
  },
  {
   "cell_type": "code",
   "execution_count": 8,
   "id": "71dfe962-9200-4a7c-bd3e-c2f8837167c8",
   "metadata": {},
   "outputs": [
    {
     "name": "stdout",
     "output_type": "stream",
     "text": [
      "total img = 110\n"
     ]
    }
   ],
   "source": [
    "\n",
    "PATH = '/home/lenin/Documents/proyecto_mineros/datasets/nuevo_data_38'\n",
    "DIR = ['re']\n",
    "OUT_PATH='/home/lenin/Documents/proyecto_mineros/datasets/nuevo_data_38/aum'\n",
    "\n",
    "c2=0\n",
    "for category in DIR:\n",
    "    path=os.path.join(PATH, category)\n",
    "    for img in os.listdir(path):\n",
    "        img_array=cv2.imread(os.path.join(path,img))\n",
    "        count=0\n",
    "        while(count<10):\n",
    "            augmented_image = transform(image=img_array)[\"image\"]\n",
    "            Datos='{}/img_{}_{}.jpg'.format(OUT_PATH,count,c2)\n",
    "            cv2.imwrite(Datos, augmented_image)\n",
    "            count+=1\n",
    "            c2+=1\n",
    "        \n",
    "print('total img =',c2)\n",
    "    \n",
    "# count=0\n",
    "# while(count<100):\n",
    "#     image = cv2.imread(os.path.join('/home/lenin/Downloads/Original/','1.jpg'))\n",
    "#     augmented_image = transform(image=image)[\"image\"]\n",
    "#     Datos='/home/lenin/Documents/GitHub/CursoPython/Cuadernos de Trabajo/Cuadernos de Trabajo/chalecos/img_{}.jpg'.format(count)\n",
    "#     cv2.imwrite(Datos, augmented_image)\n",
    "#     count+=1\n",
    "# print('done')"
   ]
  },
  {
   "cell_type": "code",
   "execution_count": null,
   "id": "f327ab1f-740f-4099-a729-63e5450f2a28",
   "metadata": {},
   "outputs": [],
   "source": []
  }
 ],
 "metadata": {
  "kernelspec": {
   "display_name": "Python 3 (ipykernel)",
   "language": "python",
   "name": "python3"
  },
  "language_info": {
   "codemirror_mode": {
    "name": "ipython",
    "version": 3
   },
   "file_extension": ".py",
   "mimetype": "text/x-python",
   "name": "python",
   "nbconvert_exporter": "python",
   "pygments_lexer": "ipython3",
   "version": "3.9.15"
  }
 },
 "nbformat": 4,
 "nbformat_minor": 5
}
