{
 "cells": [
  {
   "cell_type": "markdown",
   "id": "66659774-8664-45cf-aa1c-e09cedd76fbd",
   "metadata": {},
   "source": [
    "## 15.2- Caso de Estudio - Clasificación"
   ]
  },
  {
   "cell_type": "markdown",
   "id": "1368abb2-87b1-4759-8025-ba13f65336d1",
   "metadata": {},
   "source": [
    "### 15.2.1.- Cargar el dataset"
   ]
  },
  {
   "cell_type": "markdown",
   "id": "bc223100-ea08-48e9-a5ee-4fa491bb183b",
   "metadata": {},
   "source": [
    "Carga load_digits desde sklearn.datasets y luego metelo en un objeto"
   ]
  },
  {
   "cell_type": "code",
   "execution_count": 3,
   "id": "21e2341e-c2cb-4fd7-b8c4-c6b1eb6a43ec",
   "metadata": {},
   "outputs": [],
   "source": [
    "import warnings\n",
    "warnings.filterwarnings(\"ignore\", category=UserWarning)\n",
    "warnings.simplefilter(action='ignore', category=FutureWarning)\n"
   ]
  },
  {
   "cell_type": "code",
   "execution_count": 4,
   "id": "a75b0ef9-9ce5-41e8-8799-dd8c53e85380",
   "metadata": {},
   "outputs": [],
   "source": [
    "from sklearn.datasets import load_digits"
   ]
  },
  {
   "cell_type": "markdown",
   "id": "7c252f6c-4f7a-4b15-a90b-4932f77a01fb",
   "metadata": {},
   "source": [
    "Imprime la descripcion del dataset"
   ]
  },
  {
   "cell_type": "code",
   "execution_count": 5,
   "id": "53e8639e-a9fb-4527-92e8-b646a8c218a4",
   "metadata": {},
   "outputs": [
    {
     "name": "stdout",
     "output_type": "stream",
     "text": [
      "<class 'sklearn.utils.Bunch'>\n"
     ]
    }
   ],
   "source": [
    "digits=load_digits()\n",
    "print(type(digits))"
   ]
  },
  {
   "cell_type": "code",
   "execution_count": 6,
   "id": "a5ffabea-c5a9-4676-8b8c-f0ff32c84bfb",
   "metadata": {},
   "outputs": [
    {
     "name": "stdout",
     "output_type": "stream",
     "text": [
      ".. _digits_dataset:\n",
      "\n",
      "Optical recognition of handwritten digits dataset\n",
      "--------------------------------------------------\n",
      "\n",
      "**Data Set Characteristics:**\n",
      "\n",
      "    :Number of Instances: 1797\n",
      "    :Number of Attributes: 64\n",
      "    :Attribute Information: 8x8 image of integer pixels in the range 0..16.\n",
      "    :Missing Attribute Values: None\n",
      "    :Creator: E. Alpaydin (alpaydin '@' boun.edu.tr)\n",
      "    :Date: July; 1998\n",
      "\n",
      "This is a copy of the test set of the UCI ML hand-written digits datasets\n",
      "https://archive.ics.uci.edu/ml/datasets/Optical+Recognition+of+Handwritten+Digits\n",
      "\n",
      "The data set contains images of hand-written digits: 10 classes where\n",
      "each class refers to a digit.\n",
      "\n",
      "Preprocessing programs made available by NIST were used to extract\n",
      "normalized bitmaps of handwritten digits from a preprinted form. From a\n",
      "total of 43 people, 30 contributed to the training set and different 13\n",
      "to the test set. 32x32 bitmaps are divided into nonoverlapping blocks of\n",
      "4x4 and the number of on pixels are counted in each block. This generates\n",
      "an input matrix of 8x8 where each element is an integer in the range\n",
      "0..16. This reduces dimensionality and gives invariance to small\n",
      "distortions.\n",
      "\n",
      "For info on NIST preprocessing routines, see M. D. Garris, J. L. Blue, G.\n",
      "T. Candela, D. L. Dimmick, J. Geist, P. J. Grother, S. A. Janet, and C.\n",
      "L. Wilson, NIST Form-Based Handprint Recognition System, NISTIR 5469,\n",
      "1994.\n",
      "\n",
      ".. topic:: References\n",
      "\n",
      "  - C. Kaynak (1995) Methods of Combining Multiple Classifiers and Their\n",
      "    Applications to Handwritten Digit Recognition, MSc Thesis, Institute of\n",
      "    Graduate Studies in Science and Engineering, Bogazici University.\n",
      "  - E. Alpaydin, C. Kaynak (1998) Cascading Classifiers, Kybernetika.\n",
      "  - Ken Tang and Ponnuthurai N. Suganthan and Xi Yao and A. Kai Qin.\n",
      "    Linear dimensionalityreduction using relevance weighted LDA. School of\n",
      "    Electrical and Electronic Engineering Nanyang Technological University.\n",
      "    2005.\n",
      "  - Claudio Gentile. A New Approximate Maximal Margin Classification\n",
      "    Algorithm. NIPS. 2000.\n",
      "\n"
     ]
    }
   ],
   "source": [
    "print(digits.DESCR)"
   ]
  },
  {
   "cell_type": "markdown",
   "id": "1159cda1-e0ab-4233-90d7-40f20bbfc40a",
   "metadata": {},
   "source": [
    "Checa el target de tu nuevo objeto digitos"
   ]
  },
  {
   "cell_type": "code",
   "execution_count": 7,
   "id": "d534c916-3b8a-4d1d-802c-ca22caaeae90",
   "metadata": {},
   "outputs": [
    {
     "data": {
      "text/plain": [
       "array([0, 4, 1, 7, 4, 8, 2, 2, 4, 4, 1, 9, 7, 3, 2, 1, 2, 5])"
      ]
     },
     "execution_count": 7,
     "metadata": {},
     "output_type": "execute_result"
    }
   ],
   "source": [
    "digits.target[::100]"
   ]
  },
  {
   "cell_type": "markdown",
   "id": "2f1292a2-51d5-4178-ad95-f64cdd0040a8",
   "metadata": {},
   "source": [
    "Ahora prueba revisando la forma del arreglo digitos"
   ]
  },
  {
   "cell_type": "code",
   "execution_count": 8,
   "id": "87a5fe7c-5677-4e4f-b40b-592f0ab46ba6",
   "metadata": {},
   "outputs": [
    {
     "data": {
      "text/plain": [
       "(1797, 64)"
      ]
     },
     "execution_count": 8,
     "metadata": {},
     "output_type": "execute_result"
    }
   ],
   "source": [
    "digits.data.shape"
   ]
  },
  {
   "cell_type": "markdown",
   "id": "2c6e620b-2584-4121-a891-51359b225e94",
   "metadata": {},
   "source": [
    "Y la forma del arreglo target"
   ]
  },
  {
   "cell_type": "code",
   "execution_count": 9,
   "id": "82d7e338-f6af-4d91-afb2-d4a0a8fba3ff",
   "metadata": {},
   "outputs": [
    {
     "data": {
      "text/plain": [
       "(1797,)"
      ]
     },
     "execution_count": 9,
     "metadata": {},
     "output_type": "execute_result"
    }
   ],
   "source": [
    "digits.target.shape"
   ]
  },
  {
   "cell_type": "markdown",
   "id": "ade920b6-f318-4917-a37e-02b694e2e344",
   "metadata": {},
   "source": [
    "Vamos revisando la imagen 15 del arreglo... no es lo que esperas"
   ]
  },
  {
   "cell_type": "code",
   "execution_count": 10,
   "id": "98c980bb-83e0-48c0-95c4-0dfdc5b5a674",
   "metadata": {},
   "outputs": [
    {
     "data": {
      "text/plain": [
       "array([[ 0.,  0.,  5., 13.,  9.,  1.,  0.,  0.],\n",
       "       [ 0.,  0., 13., 15., 10., 15.,  5.,  0.],\n",
       "       [ 0.,  3., 15.,  2.,  0., 11.,  8.,  0.],\n",
       "       [ 0.,  4., 12.,  0.,  0.,  8.,  8.,  0.],\n",
       "       [ 0.,  5.,  8.,  0.,  0.,  9.,  8.,  0.],\n",
       "       [ 0.,  4., 11.,  0.,  1., 12.,  7.,  0.],\n",
       "       [ 0.,  2., 14.,  5., 10., 12.,  0.,  0.],\n",
       "       [ 0.,  0.,  6., 13., 10.,  0.,  0.,  0.]])"
      ]
     },
     "execution_count": 10,
     "metadata": {},
     "output_type": "execute_result"
    }
   ],
   "source": [
    "digits.images[0]"
   ]
  },
  {
   "cell_type": "markdown",
   "id": "ffbd47b6-761c-437f-8c4a-2ad64c41c249",
   "metadata": {},
   "source": [
    "y ahora veamos el .data para ver el arreglo en 1x64"
   ]
  },
  {
   "cell_type": "code",
   "execution_count": 11,
   "id": "39a27523-1d69-44b0-83ed-f0e7cbe6acd4",
   "metadata": {},
   "outputs": [
    {
     "data": {
      "text/plain": [
       "array([ 0.,  0.,  5., 13.,  9.,  1.,  0.,  0.,  0.,  0., 13., 15., 10.,\n",
       "       15.,  5.,  0.,  0.,  3., 15.,  2.,  0., 11.,  8.,  0.,  0.,  4.,\n",
       "       12.,  0.,  0.,  8.,  8.,  0.,  0.,  5.,  8.,  0.,  0.,  9.,  8.,\n",
       "        0.,  0.,  4., 11.,  0.,  1., 12.,  7.,  0.,  0.,  2., 14.,  5.,\n",
       "       10., 12.,  0.,  0.,  0.,  0.,  6., 13., 10.,  0.,  0.,  0.])"
      ]
     },
     "execution_count": 11,
     "metadata": {},
     "output_type": "execute_result"
    }
   ],
   "source": [
    "digits.data[0]"
   ]
  },
  {
   "cell_type": "markdown",
   "id": "66da1355-fd87-4e11-8aad-ce35cdeb4858",
   "metadata": {},
   "source": [
    "### 15.2.2.- Visualizar los datos"
   ]
  },
  {
   "cell_type": "markdown",
   "id": "10558a16-9258-473a-af9b-9963a3aaa565",
   "metadata": {},
   "source": [
    "Veamos los datos utilizando matplotlib, comienza importando esta libreria"
   ]
  },
  {
   "cell_type": "code",
   "execution_count": 12,
   "id": "88ed208f-3b07-427e-af62-2e7a45e17201",
   "metadata": {},
   "outputs": [],
   "source": [
    "import matplotlib.pyplot as plt"
   ]
  },
  {
   "cell_type": "markdown",
   "id": "f9a06e62-4bfe-4fe1-9363-f024f9f2e56d",
   "metadata": {},
   "source": [
    "Ahor adibuja una cuadricula para lograr tu cometido"
   ]
  },
  {
   "cell_type": "code",
   "execution_count": 13,
   "id": "ccc3632e-39fe-4712-a612-982f68f660ab",
   "metadata": {},
   "outputs": [
    {
     "data": {
      "image/png": "[encoded data removed]",
      "text/plain": [
       "<Figure size 600x400 with 24 Axes>"
      ]
     },
     "metadata": {},
     "output_type": "display_data"
    }
   ],
   "source": [
    "figure,axes=plt.subplots(nrows=4,ncols=6, figsize=(6,4))"
   ]
  },
  {
   "cell_type": "markdown",
   "id": "24e99395-fa4b-45f4-a988-905300df7a3e",
   "metadata": {},
   "source": [
    "a continuación, vamos a usar un for paraiterar en paralelo a traves de los 24 cuadritos y traer las priemras 24 imagenes"
   ]
  },
  {
   "cell_type": "code",
   "execution_count": 14,
   "id": "3e08ccfb-9bf0-4bf8-b6bd-d72f774bd210",
   "metadata": {},
   "outputs": [
    {
     "data": {
      "text/plain": [
       "<function matplotlib.pyplot.tight_layout(*, pad=1.08, h_pad=None, w_pad=None, rect=None)>"
      ]
     },
     "execution_count": 14,
     "metadata": {},
     "output_type": "execute_result"
    },
    {
     "data": {
      "image/png": "[encoded data removed]",
      "text/plain": [
       "<Figure size 600x400 with 24 Axes>"
      ]
     },
     "metadata": {},
     "output_type": "display_data"
    }
   ],
   "source": [
    "figure,axes=plt.subplots(nrows=4,ncols=6, figsize=(6,4))\n",
    "for item in zip(axes.ravel(), digits.images, digits.target):\n",
    "    axes,image, target = item\n",
    "    axes.imshow(image,cmap=plt.cm.gray_r)\n",
    "    axes.set_xticks([])\n",
    "    axes.set_yticks([])\n",
    "    axes.set_title(target)\n",
    "plt.tight_layout"
   ]
  },
  {
   "cell_type": "markdown",
   "id": "a9998b01-92f4-4706-bf8a-02c5e0b097ae",
   "metadata": {},
   "source": [
    "### 15.2.3.- Separar el dataset para entrenamientos y pruebas"
   ]
  },
  {
   "cell_type": "markdown",
   "id": "d76cd7e5-3c39-403f-9006-a658a540f6bc",
   "metadata": {},
   "source": [
    "ok, ahora vamos a importar train_test_split desde sklearn.model_selection"
   ]
  },
  {
   "cell_type": "code",
   "execution_count": 15,
   "id": "56b6b765-d913-4775-b40e-b8ce4a7ba160",
   "metadata": {},
   "outputs": [],
   "source": [
    "from sklearn.model_selection import train_test_split"
   ]
  },
  {
   "cell_type": "markdown",
   "id": "8f574e33-8b2a-4639-bef5-93e086bab654",
   "metadata": {},
   "source": [
    "Y a continuación generar el split entre test y train"
   ]
  },
  {
   "cell_type": "code",
   "execution_count": 16,
   "id": "16d269bb-3892-4162-b7bf-9d5ef5037287",
   "metadata": {},
   "outputs": [],
   "source": [
    "xtrain, xtest, ytrain, ytest = train_test_split(digits.data, digits.target, random_state=11)"
   ]
  },
  {
   "cell_type": "markdown",
   "id": "726c76da-0b3c-44ff-9581-55be26e8c17d",
   "metadata": {},
   "source": [
    "Veamos las shapes de nuestros sets para X (muestras)"
   ]
  },
  {
   "cell_type": "code",
   "execution_count": 17,
   "id": "f2327c48-7561-4167-aea5-68d58048e772",
   "metadata": {},
   "outputs": [
    {
     "data": {
      "text/plain": [
       "(1347, 64)"
      ]
     },
     "execution_count": 17,
     "metadata": {},
     "output_type": "execute_result"
    }
   ],
   "source": [
    "xtrain.shape"
   ]
  },
  {
   "cell_type": "code",
   "execution_count": 18,
   "id": "9606c61e-87f5-46f1-b6f7-3b0f1d0933a5",
   "metadata": {},
   "outputs": [
    {
     "data": {
      "text/plain": [
       "(450, 64)"
      ]
     },
     "execution_count": 18,
     "metadata": {},
     "output_type": "execute_result"
    }
   ],
   "source": [
    "xtest.shape"
   ]
  },
  {
   "cell_type": "markdown",
   "id": "22292fd6-2cba-48b0-9265-4c6bda2604c7",
   "metadata": {},
   "source": [
    "### 15.2.4.- Crear el modelo"
   ]
  },
  {
   "cell_type": "markdown",
   "id": "2a3ea503-a440-446c-a169-6184d4b25f97",
   "metadata": {},
   "source": [
    "Ahora importamos el KNeighborsClassifier"
   ]
  },
  {
   "cell_type": "code",
   "execution_count": 19,
   "id": "ebd8f27c-9f76-4f94-95cd-41ea688936a7",
   "metadata": {},
   "outputs": [],
   "source": [
    "from sklearn.neighbors import KNeighborsClassifier as kn"
   ]
  },
  {
   "cell_type": "markdown",
   "id": "c5f8308b-7a1c-41b3-9f45-3dfa96670d8b",
   "metadata": {},
   "source": [
    "y armamos un objeto llamado KNN de este Clasificador"
   ]
  },
  {
   "cell_type": "code",
   "execution_count": 20,
   "id": "78b63a3d-5d16-4253-aaf0-a6731d6845dc",
   "metadata": {},
   "outputs": [],
   "source": [
    "knn = kn()"
   ]
  },
  {
   "cell_type": "markdown",
   "id": "4e70a922-cafc-4b9d-94f6-b87a424ea6e5",
   "metadata": {},
   "source": [
    "### 15.2.5.- Entrenar el modelo"
   ]
  },
  {
   "cell_type": "markdown",
   "id": "8223bce9-8674-42ff-84ec-2c2528b91578",
   "metadata": {},
   "source": [
    "Ahora arma el método fit para cargar los datos en el estimador"
   ]
  },
  {
   "cell_type": "code",
   "execution_count": 21,
   "id": "f08b5da6-9f72-4a4d-9eb1-8312ce972b08",
   "metadata": {},
   "outputs": [
    {
     "data": {
      "text/plain": [
       "KNeighborsClassifier()"
      ]
     },
     "execution_count": 21,
     "metadata": {},
     "output_type": "execute_result"
    }
   ],
   "source": [
    "knn.fit(X=xtrain, y=ytrain)"
   ]
  },
  {
   "cell_type": "markdown",
   "id": "400ff29c-dada-4d4b-9fc2-3b5e4fcaa3e8",
   "metadata": {},
   "source": [
    "### 15.2.6.- Predecir clases de dígitos"
   ]
  },
  {
   "cell_type": "markdown",
   "id": "bffae350-6cf8-4c6c-a106-340b25187af8",
   "metadata": {
    "tags": []
   },
   "source": [
    "Arma un objeto llamdo prediccion"
   ]
  },
  {
   "cell_type": "code",
   "execution_count": 22,
   "id": "c4c5fe74-540c-4892-b589-4fea55c498b0",
   "metadata": {},
   "outputs": [],
   "source": [
    "prediccion = knn.predict(X=xtest)"
   ]
  },
  {
   "cell_type": "markdown",
   "id": "a3a3b2d6-be45-4dbf-b4ed-02eb63f14a8c",
   "metadata": {},
   "source": [
    "Arma un objeto llamado esperado"
   ]
  },
  {
   "cell_type": "code",
   "execution_count": 23,
   "id": "30360ec4-3afe-4e6e-aead-bb97bcbd24bd",
   "metadata": {},
   "outputs": [],
   "source": [
    "esperado = ytest"
   ]
  },
  {
   "cell_type": "markdown",
   "id": "41ad9a4f-b23c-44e2-b45e-962183e714f8",
   "metadata": {},
   "source": [
    "Comparemos predicho vs esperado"
   ]
  },
  {
   "cell_type": "code",
   "execution_count": 24,
   "id": "51f23ce5-1c89-4d54-97a3-6d653abb5151",
   "metadata": {},
   "outputs": [
    {
     "data": {
      "text/plain": [
       "array([0, 4, 9, 9, 3, 1, 4, 1, 5, 0, 4, 9, 4, 1, 5, 3, 3, 8, 5, 6])"
      ]
     },
     "execution_count": 24,
     "metadata": {},
     "output_type": "execute_result"
    }
   ],
   "source": [
    "prediccion[:20]"
   ]
  },
  {
   "cell_type": "code",
   "execution_count": 25,
   "id": "02bcd5e5-c152-4629-9f0a-d184962bb172",
   "metadata": {},
   "outputs": [
    {
     "data": {
      "text/plain": [
       "array([0, 4, 9, 9, 3, 1, 4, 1, 5, 0, 4, 9, 4, 1, 5, 3, 3, 8, 3, 6])"
      ]
     },
     "execution_count": 25,
     "metadata": {},
     "output_type": "execute_result"
    }
   ],
   "source": [
    "esperado[:20]"
   ]
  },
  {
   "cell_type": "markdown",
   "id": "fb53082f-3282-47cb-8492-acdab80ccca5",
   "metadata": {},
   "source": [
    "armamos una comprension de lista para localizar todas las predicciones incorrectas"
   ]
  },
  {
   "cell_type": "code",
   "execution_count": 26,
   "id": "53e086e6-efff-4784-bfc9-c32ef56ed8d7",
   "metadata": {},
   "outputs": [],
   "source": [
    "equivocados = [(p,e) for (p,e) in zip(prediccion,esperado) if p!=e]"
   ]
  },
  {
   "cell_type": "code",
   "execution_count": 27,
   "id": "0e6d9065-fefe-4414-9ac0-7d785c79c3d5",
   "metadata": {},
   "outputs": [
    {
     "data": {
      "text/plain": [
       "[(5, 3),\n",
       " (8, 9),\n",
       " (4, 9),\n",
       " (7, 3),\n",
       " (7, 4),\n",
       " (2, 8),\n",
       " (9, 8),\n",
       " (3, 8),\n",
       " (3, 8),\n",
       " (1, 8)]"
      ]
     },
     "execution_count": 27,
     "metadata": {},
     "output_type": "execute_result"
    }
   ],
   "source": [
    "equivocados"
   ]
  },
  {
   "cell_type": "markdown",
   "id": "f98e3d53-6ab7-4823-b1d7-285bc5e97247",
   "metadata": {},
   "source": [
    "## 15.3 Clasificación parte 2 - Dataset de digitos"
   ]
  },
  {
   "cell_type": "markdown",
   "id": "27d9c8d6-ee3a-449d-a425-17c63460417e",
   "metadata": {},
   "source": [
    "### 15.3.1.- Metricas para la exactitud del modelo"
   ]
  },
  {
   "cell_type": "markdown",
   "id": "051f649d-419b-4d66-beab-48242813a57b",
   "metadata": {},
   "source": [
    "Usa knn.score para conocer que tan bien se desempeño tu estimador"
   ]
  },
  {
   "cell_type": "code",
   "execution_count": 28,
   "id": "1dc43c6c-85b3-4aa5-b6e5-93c2756f7dda",
   "metadata": {},
   "outputs": [
    {
     "name": "stdout",
     "output_type": "stream",
     "text": [
      "97.78%\n"
     ]
    }
   ],
   "source": [
    "print(f'{knn.score(xtest, ytest):.2%}')"
   ]
  },
  {
   "cell_type": "markdown",
   "id": "ec80de30-6ed4-4c5c-b6bd-bb9f5165b77a",
   "metadata": {},
   "source": [
    "Ahora vamos a ahacer una matriz de confusion para ver los hits y misses para una clase dada, llama la funcion matriz de confusión desde sklearn metricsModule"
   ]
  },
  {
   "cell_type": "code",
   "execution_count": 29,
   "id": "e15188ec-9e68-4b9a-ae26-7dbc20bfb6ab",
   "metadata": {},
   "outputs": [],
   "source": [
    "from sklearn.metrics import confusion_matrix"
   ]
  },
  {
   "cell_type": "markdown",
   "id": "c9b94c9b-1a53-468d-a478-eca6d0677fed",
   "metadata": {},
   "source": [
    "Y ahora armar tu matriz de confusion"
   ]
  },
  {
   "cell_type": "code",
   "execution_count": 30,
   "id": "655e13bc-e49e-4006-beb0-bbab290404d4",
   "metadata": {},
   "outputs": [],
   "source": [
    "confusion = confusion_matrix(y_true=esperado, y_pred=prediccion)"
   ]
  },
  {
   "cell_type": "markdown",
   "id": "5fa7425d-1d5f-4805-bb71-f08b2bbbf389",
   "metadata": {},
   "source": [
    "Checa los resultados"
   ]
  },
  {
   "cell_type": "code",
   "execution_count": 31,
   "id": "bccba9c4-c673-4118-9fd7-44467ac47ba2",
   "metadata": {},
   "outputs": [
    {
     "data": {
      "text/plain": [
       "array([[45,  0,  0,  0,  0,  0,  0,  0,  0,  0],\n",
       "       [ 0, 45,  0,  0,  0,  0,  0,  0,  0,  0],\n",
       "       [ 0,  0, 54,  0,  0,  0,  0,  0,  0,  0],\n",
       "       [ 0,  0,  0, 42,  0,  1,  0,  1,  0,  0],\n",
       "       [ 0,  0,  0,  0, 49,  0,  0,  1,  0,  0],\n",
       "       [ 0,  0,  0,  0,  0, 38,  0,  0,  0,  0],\n",
       "       [ 0,  0,  0,  0,  0,  0, 42,  0,  0,  0],\n",
       "       [ 0,  0,  0,  0,  0,  0,  0, 45,  0,  0],\n",
       "       [ 0,  1,  1,  2,  0,  0,  0,  0, 39,  1],\n",
       "       [ 0,  0,  0,  0,  1,  0,  0,  0,  1, 41]])"
      ]
     },
     "execution_count": 31,
     "metadata": {},
     "output_type": "execute_result"
    }
   ],
   "source": [
    "confusion"
   ]
  },
  {
   "cell_type": "markdown",
   "id": "5137a837-b1a9-4285-9b34-36a3ccfbbba0",
   "metadata": {},
   "source": [
    "Ahora sigue un reporte de calsificación, importa classification_report desde sklearn.metrics"
   ]
  },
  {
   "cell_type": "code",
   "execution_count": 32,
   "id": "3784f7b8-1d99-447b-9396-b3adb4063fac",
   "metadata": {},
   "outputs": [],
   "source": [
    "from sklearn.metrics import classification_report as rep"
   ]
  },
  {
   "cell_type": "markdown",
   "id": "e30a4ed2-2a38-4a9b-8d33-6f9fdd3adc64",
   "metadata": {},
   "source": [
    "Y ahora crea una comprension de lista que nos de los nombres de los digitos"
   ]
  },
  {
   "cell_type": "code",
   "execution_count": 33,
   "id": "0d6ecedc-46cd-4121-9389-be60fb38f3d7",
   "metadata": {},
   "outputs": [
    {
     "data": {
      "text/plain": [
       "['0', '1', '2', '3', '4', '5', '6', '7', '8', '9']"
      ]
     },
     "execution_count": 33,
     "metadata": {},
     "output_type": "execute_result"
    }
   ],
   "source": [
    "nombres = [str(digit) for digit in digits.target_names]\n",
    "nombres"
   ]
  },
  {
   "cell_type": "markdown",
   "id": "582cbe18-e5d7-4acf-a374-d180c64768c7",
   "metadata": {},
   "source": [
    "Y termina haciendo tu reporte de clasificacion"
   ]
  },
  {
   "cell_type": "code",
   "execution_count": 34,
   "id": "e15fe30a-1f23-4bf6-91c9-a51f7b8799e0",
   "metadata": {},
   "outputs": [
    {
     "name": "stdout",
     "output_type": "stream",
     "text": [
      "              precision    recall  f1-score   support\n",
      "\n",
      "           0       1.00      1.00      1.00        45\n",
      "           1       0.98      1.00      0.99        45\n",
      "           2       0.98      1.00      0.99        54\n",
      "           3       0.95      0.95      0.95        44\n",
      "           4       0.98      0.98      0.98        50\n",
      "           5       0.97      1.00      0.99        38\n",
      "           6       1.00      1.00      1.00        42\n",
      "           7       0.96      1.00      0.98        45\n",
      "           8       0.97      0.89      0.93        44\n",
      "           9       0.98      0.95      0.96        43\n",
      "\n",
      "    accuracy                           0.98       450\n",
      "   macro avg       0.98      0.98      0.98       450\n",
      "weighted avg       0.98      0.98      0.98       450\n",
      "\n"
     ]
    }
   ],
   "source": [
    "print(rep(esperado, prediccion, target_names=nombres))"
   ]
  },
  {
   "cell_type": "code",
   "execution_count": 35,
   "id": "161df8a0-ffdc-4299-b735-48646338d8ea",
   "metadata": {},
   "outputs": [],
   "source": [
    "import pandas as pd\n",
    "import seaborn as sns"
   ]
  },
  {
   "cell_type": "markdown",
   "id": "34eceb5d-1f9b-4722-98cf-32348fd30e9e",
   "metadata": {},
   "source": [
    "Y ahora ahremos un heatmap con la matriz de confusion"
   ]
  },
  {
   "cell_type": "code",
   "execution_count": 36,
   "id": "c358c447-69f2-45ae-956e-c16e8c89648b",
   "metadata": {},
   "outputs": [],
   "source": [
    "confusiondf = pd.DataFrame(confusion, index=range(10), columns=range(10))"
   ]
  },
  {
   "cell_type": "code",
   "execution_count": 37,
   "id": "77471bd7-2c5e-45c1-9efe-ce921556912d",
   "metadata": {},
   "outputs": [
    {
     "data": {
      "image/png": "[encoded data removed]",
      "text/plain": [
       "<Figure size 640x480 with 2 Axes>"
      ]
     },
     "metadata": {},
     "output_type": "display_data"
    }
   ],
   "source": [
    "axes = sns.heatmap(confusiondf, annot=True, cmap='nipy_spectral_r')"
   ]
  },
  {
   "cell_type": "markdown",
   "id": "4bb2a9a2-2605-4ae3-b6e3-ee6fb77828e1",
   "metadata": {},
   "source": [
    "### 15.3.2.- K-Fold Validación Cruzada"
   ]
  },
  {
   "cell_type": "markdown",
   "id": "15435524-6cfb-4dfa-a575-cc3198db0cb3",
   "metadata": {},
   "source": [
    "Importa kfold desde sklearn.modelselection"
   ]
  },
  {
   "cell_type": "code",
   "execution_count": 38,
   "id": "f273eafd-7f2e-4aca-873d-aa1e5e404fc3",
   "metadata": {},
   "outputs": [],
   "source": [
    "from sklearn.model_selection import KFold"
   ]
  },
  {
   "cell_type": "markdown",
   "id": "da3d75e9-6ce7-491f-a080-70971bd543a0",
   "metadata": {},
   "source": [
    "Crea tu primer objeto kfold"
   ]
  },
  {
   "cell_type": "code",
   "execution_count": 39,
   "id": "d71e3048-7000-4ffe-a58c-484b2f45071e",
   "metadata": {},
   "outputs": [],
   "source": [
    "kfold = KFold(n_splits=10, random_state=11, shuffle=True)"
   ]
  },
  {
   "cell_type": "markdown",
   "id": "1bfd7fd5-5858-46aa-83d2-91eefb64ebf2",
   "metadata": {},
   "source": [
    "Ahora importa cross_val_score"
   ]
  },
  {
   "cell_type": "code",
   "execution_count": 40,
   "id": "234f9bf6-af76-484b-8b85-6c07201a8ac4",
   "metadata": {},
   "outputs": [],
   "source": [
    "from sklearn.model_selection import cross_val_score"
   ]
  },
  {
   "cell_type": "markdown",
   "id": "47a4c6ad-b28c-4498-abe3-de6c30868b83",
   "metadata": {},
   "source": [
    "Y crea un objeto llamado puntuacion para probar tu modelo"
   ]
  },
  {
   "cell_type": "code",
   "execution_count": 41,
   "id": "7e2b2c1d-a795-44f0-96a6-9b8b5aed4688",
   "metadata": {},
   "outputs": [],
   "source": [
    "puntuacion = cross_val_score(estimator=knn, X=digits.data, y=digits.target, cv=kfold)"
   ]
  },
  {
   "cell_type": "markdown",
   "id": "1c9934ac-9e3d-4072-99ab-374eefb3060d",
   "metadata": {},
   "source": [
    "Checa los resultados"
   ]
  },
  {
   "cell_type": "code",
   "execution_count": 42,
   "id": "88cbca36-c63f-4db7-8f7b-ab3e5d9433f9",
   "metadata": {},
   "outputs": [
    {
     "data": {
      "text/plain": [
       "array([0.97777778, 0.99444444, 0.98888889, 0.97777778, 0.98888889,\n",
       "       0.99444444, 0.97777778, 0.98882682, 1.        , 0.98882682])"
      ]
     },
     "execution_count": 42,
     "metadata": {},
     "output_type": "execute_result"
    }
   ],
   "source": [
    "puntuacion"
   ]
  },
  {
   "cell_type": "code",
   "execution_count": 43,
   "id": "f742bacc-4463-4dab-8272-7cd3b21fc2c9",
   "metadata": {},
   "outputs": [
    {
     "data": {
      "text/plain": [
       "0.9877653631284916"
      ]
     },
     "execution_count": 43,
     "metadata": {},
     "output_type": "execute_result"
    }
   ],
   "source": [
    "puntuacion.mean()"
   ]
  },
  {
   "cell_type": "code",
   "execution_count": 44,
   "id": "8ec1488c-352e-4a83-b18f-a74e972075e1",
   "metadata": {},
   "outputs": [
    {
     "data": {
      "text/plain": [
       "0.007368447328906141"
      ]
     },
     "execution_count": 44,
     "metadata": {},
     "output_type": "execute_result"
    }
   ],
   "source": [
    "puntuacion.std()"
   ]
  },
  {
   "cell_type": "markdown",
   "id": "43ea7612-ba94-4d9f-bf08-c8a45de25deb",
   "metadata": {},
   "source": [
    "### 15.3.3.- Varios Modelos hasta dar con el bueno"
   ]
  },
  {
   "cell_type": "markdown",
   "id": "ea4fa4d8-8d8b-48a1-a946-1b4fbef27b98",
   "metadata": {},
   "source": [
    "Importa SVC y GaussianNB"
   ]
  },
  {
   "cell_type": "code",
   "execution_count": 45,
   "id": "357084db-9852-4f6d-8681-5b02451222fb",
   "metadata": {},
   "outputs": [],
   "source": [
    "from sklearn.svm import SVC\n",
    "from sklearn.naive_bayes import GaussianNB"
   ]
  },
  {
   "cell_type": "markdown",
   "id": "aaffb0e9-cf25-4617-8ed9-2dd261cea9e1",
   "metadata": {},
   "source": [
    "Crea los estimadores en un diccionario"
   ]
  },
  {
   "cell_type": "code",
   "execution_count": 46,
   "id": "0e43bb3b-874a-4a69-9efc-d2fbb42d8866",
   "metadata": {},
   "outputs": [],
   "source": [
    "estimadores = {'KNeighborsClassifier':knn, 'SVC':SVC(gamma='scale'), 'GaussianNB':GaussianNB()}"
   ]
  },
  {
   "cell_type": "markdown",
   "id": "d49140b0-dc76-44ab-9273-96bbaa4b151d",
   "metadata": {},
   "source": [
    "Ejecuta los modelos con un for"
   ]
  },
  {
   "cell_type": "code",
   "execution_count": 47,
   "id": "90d44906-3718-46e6-94ae-c16e66cd2ca1",
   "metadata": {},
   "outputs": [
    {
     "name": "stdout",
     "output_type": "stream",
     "text": [
      "KNeighborsClassifier puntuacion promedio = 98.78% desviacion estandar = 0.74%\n",
      "                 SVC puntuacion promedio = 98.72% desviacion estandar = 0.79%\n",
      "          GaussianNB puntuacion promedio = 84.48% desviacion estandar = 3.47%\n"
     ]
    }
   ],
   "source": [
    "for nom_est, ob_est in estimadores.items():\n",
    "    kfold = KFold(n_splits=10, random_state=11, shuffle=True)\n",
    "    puntuacion = cross_val_score(estimator=ob_est, X=digits.data, y=digits.target, cv=kfold)\n",
    "    print(f'{nom_est:>20} puntuacion promedio = {puntuacion.mean():.2%} desviacion estandar = {puntuacion.std():.2%}')"
   ]
  },
  {
   "cell_type": "markdown",
   "id": "31b8144f-a636-4f34-9a6f-c54817292860",
   "metadata": {},
   "source": [
    "### 15.3.3.- Ajustar Hiperparametros"
   ]
  },
  {
   "cell_type": "markdown",
   "id": "4bf5a569-8f8f-494a-93c6-714e43d4b01c",
   "metadata": {},
   "source": [
    "Ajusta el hiperparametro para ver si alguno nos da mejor exactitud"
   ]
  },
  {
   "cell_type": "code",
   "execution_count": 48,
   "id": "4381e1cb-a0c4-4e7b-916e-50157e2c5c62",
   "metadata": {},
   "outputs": [
    {
     "name": "stdout",
     "output_type": "stream",
     "text": [
      "k=1                    puntuacion promedio = 98.83% desviacion estandar = 0.58%\n",
      "k=3                    puntuacion promedio = 98.83% desviacion estandar = 0.72%\n",
      "k=5                    puntuacion promedio = 98.78% desviacion estandar = 0.74%\n",
      "k=7                    puntuacion promedio = 98.44% desviacion estandar = 0.96%\n",
      "k=9                    puntuacion promedio = 98.39% desviacion estandar = 0.80%\n",
      "k=11                   puntuacion promedio = 98.33% desviacion estandar = 0.90%\n",
      "k=13                   puntuacion promedio = 97.89% desviacion estandar = 0.89%\n",
      "k=15                   puntuacion promedio = 97.83% desviacion estandar = 0.95%\n",
      "k=17                   puntuacion promedio = 97.50% desviacion estandar = 1.00%\n",
      "k=19                   puntuacion promedio = 97.66% desviacion estandar = 0.96%\n"
     ]
    }
   ],
   "source": [
    "for k in range(1,20,2):\n",
    "    kfold = KFold(n_splits=10, random_state=11, shuffle=True)\n",
    "    knn = kn(n_neighbors=k)\n",
    "    puntuacion = cross_val_score(estimator=knn, X=digits.data, y=digits.target, cv=kfold)\n",
    "    print(f'k={k:<20} puntuacion promedio = {puntuacion.mean():.2%} desviacion estandar = {puntuacion.std():.2%}')"
   ]
  },
  {
   "cell_type": "markdown",
   "id": "3c758299-fd28-49f5-9e10-4d82c6e498cb",
   "metadata": {},
   "source": [
    "## 15.4 Series de tiempo y simple regresión lineal"
   ]
  },
  {
   "cell_type": "markdown",
   "id": "8df07666-2a3c-49cb-a8fa-3a737310b56c",
   "metadata": {},
   "source": [
    "Importa pandas si no lo has hecho, carga los datos de casas"
   ]
  },
  {
   "cell_type": "code",
   "execution_count": 49,
   "id": "914c4bb9-7c18-47fc-8c38-d876280d978c",
   "metadata": {},
   "outputs": [],
   "source": [
    "import pandas as pd"
   ]
  },
  {
   "cell_type": "code",
   "execution_count": 50,
   "id": "4b8c5faa-bdd4-4626-8f78-306fd839da6a",
   "metadata": {},
   "outputs": [],
   "source": [
    "kc_house = pd.read_csv('kc_house_data.csv')"
   ]
  },
  {
   "cell_type": "markdown",
   "id": "ba89f971-06af-4729-8fca-a466e0a7f6f6",
   "metadata": {},
   "source": [
    "Dale nombre a las columnas del dataframe"
   ]
  },
  {
   "cell_type": "code",
   "execution_count": 51,
   "id": "7bad34c4-c720-47d0-94ab-731001e7ed36",
   "metadata": {},
   "outputs": [],
   "source": [
    "kc_house.columns=['area','precio']"
   ]
  },
  {
   "cell_type": "markdown",
   "id": "4c467e19-1621-4250-a8f8-6e48d8602de6",
   "metadata": {},
   "source": [
    "Muestra los primeros 20 datos"
   ]
  },
  {
   "cell_type": "code",
   "execution_count": 52,
   "id": "8a503100-fb7a-4d64-9498-232393121cb9",
   "metadata": {},
   "outputs": [
    {
     "data": {
      "text/html": [
       "<div>\n",
       "<style scoped>\n",
       "    .dataframe tbody tr th:only-of-type {\n",
       "        vertical-align: middle;\n",
       "    }\n",
       "\n",
       "    .dataframe tbody tr th {\n",
       "        vertical-align: top;\n",
       "    }\n",
       "\n",
       "    .dataframe thead th {\n",
       "        text-align: right;\n",
       "    }\n",
       "</style>\n",
       "<table border=\"1\" class=\"dataframe\">\n",
       "  <thead>\n",
       "    <tr style=\"text-align: right;\">\n",
       "      <th></th>\n",
       "      <th>area</th>\n",
       "      <th>precio</th>\n",
       "    </tr>\n",
       "  </thead>\n",
       "  <tbody>\n",
       "    <tr>\n",
       "      <th>0</th>\n",
       "      <td>1180</td>\n",
       "      <td>221900.0</td>\n",
       "    </tr>\n",
       "    <tr>\n",
       "      <th>1</th>\n",
       "      <td>2570</td>\n",
       "      <td>538000.0</td>\n",
       "    </tr>\n",
       "    <tr>\n",
       "      <th>2</th>\n",
       "      <td>770</td>\n",
       "      <td>180000.0</td>\n",
       "    </tr>\n",
       "    <tr>\n",
       "      <th>3</th>\n",
       "      <td>1960</td>\n",
       "      <td>604000.0</td>\n",
       "    </tr>\n",
       "    <tr>\n",
       "      <th>4</th>\n",
       "      <td>1680</td>\n",
       "      <td>510000.0</td>\n",
       "    </tr>\n",
       "    <tr>\n",
       "      <th>5</th>\n",
       "      <td>5420</td>\n",
       "      <td>1230000.0</td>\n",
       "    </tr>\n",
       "    <tr>\n",
       "      <th>6</th>\n",
       "      <td>1715</td>\n",
       "      <td>257500.0</td>\n",
       "    </tr>\n",
       "    <tr>\n",
       "      <th>7</th>\n",
       "      <td>1060</td>\n",
       "      <td>291850.0</td>\n",
       "    </tr>\n",
       "    <tr>\n",
       "      <th>8</th>\n",
       "      <td>1780</td>\n",
       "      <td>229500.0</td>\n",
       "    </tr>\n",
       "    <tr>\n",
       "      <th>9</th>\n",
       "      <td>1890</td>\n",
       "      <td>323000.0</td>\n",
       "    </tr>\n",
       "    <tr>\n",
       "      <th>10</th>\n",
       "      <td>3560</td>\n",
       "      <td>662500.0</td>\n",
       "    </tr>\n",
       "    <tr>\n",
       "      <th>11</th>\n",
       "      <td>1160</td>\n",
       "      <td>468000.0</td>\n",
       "    </tr>\n",
       "    <tr>\n",
       "      <th>12</th>\n",
       "      <td>1430</td>\n",
       "      <td>310000.0</td>\n",
       "    </tr>\n",
       "    <tr>\n",
       "      <th>13</th>\n",
       "      <td>1370</td>\n",
       "      <td>400000.0</td>\n",
       "    </tr>\n",
       "    <tr>\n",
       "      <th>14</th>\n",
       "      <td>1810</td>\n",
       "      <td>530000.0</td>\n",
       "    </tr>\n",
       "    <tr>\n",
       "      <th>15</th>\n",
       "      <td>2950</td>\n",
       "      <td>650000.0</td>\n",
       "    </tr>\n",
       "    <tr>\n",
       "      <th>16</th>\n",
       "      <td>1890</td>\n",
       "      <td>395000.0</td>\n",
       "    </tr>\n",
       "    <tr>\n",
       "      <th>17</th>\n",
       "      <td>1600</td>\n",
       "      <td>485000.0</td>\n",
       "    </tr>\n",
       "    <tr>\n",
       "      <th>18</th>\n",
       "      <td>1200</td>\n",
       "      <td>189000.0</td>\n",
       "    </tr>\n",
       "    <tr>\n",
       "      <th>19</th>\n",
       "      <td>1250</td>\n",
       "      <td>230000.0</td>\n",
       "    </tr>\n",
       "  </tbody>\n",
       "</table>\n",
       "</div>"
      ],
      "text/plain": [
       "    area     precio\n",
       "0   1180   221900.0\n",
       "1   2570   538000.0\n",
       "2    770   180000.0\n",
       "3   1960   604000.0\n",
       "4   1680   510000.0\n",
       "5   5420  1230000.0\n",
       "6   1715   257500.0\n",
       "7   1060   291850.0\n",
       "8   1780   229500.0\n",
       "9   1890   323000.0\n",
       "10  3560   662500.0\n",
       "11  1160   468000.0\n",
       "12  1430   310000.0\n",
       "13  1370   400000.0\n",
       "14  1810   530000.0\n",
       "15  2950   650000.0\n",
       "16  1890   395000.0\n",
       "17  1600   485000.0\n",
       "18  1200   189000.0\n",
       "19  1250   230000.0"
      ]
     },
     "execution_count": 52,
     "metadata": {},
     "output_type": "execute_result"
    }
   ],
   "source": [
    "kc_house.head(20)"
   ]
  },
  {
   "cell_type": "markdown",
   "id": "f0abf30e-af3c-4f5d-850c-0c880e7eeb72",
   "metadata": {},
   "source": [
    "usemos train test split para training y pruebas"
   ]
  },
  {
   "cell_type": "code",
   "execution_count": 53,
   "id": "db3e2b89-ae1d-4056-b89f-d3618e0fe687",
   "metadata": {},
   "outputs": [],
   "source": [
    "from sklearn.model_selection import train_test_split"
   ]
  },
  {
   "cell_type": "code",
   "execution_count": 54,
   "id": "93d30fe9-bebd-46a6-8e25-9e378595edb9",
   "metadata": {},
   "outputs": [],
   "source": [
    "x_train, x_test, y_train, y_test = train_test_split(kc_house.area.values.reshape(-1,1), kc_house.precio.values.reshape(-1,1), random_state=11)"
   ]
  },
  {
   "cell_type": "markdown",
   "id": "983dc80f-88c7-45f0-8ef5-e25f3406184e",
   "metadata": {},
   "source": [
    "Chequemos los tamaños de train y test"
   ]
  },
  {
   "cell_type": "code",
   "execution_count": 55,
   "id": "657be462-00d3-46e9-babf-5010ad2b939c",
   "metadata": {},
   "outputs": [
    {
     "name": "stdout",
     "output_type": "stream",
     "text": [
      "(16209, 1)\n",
      "(5404, 1)\n"
     ]
    }
   ],
   "source": [
    "print(x_train.shape)\n",
    "print(x_test.shape)"
   ]
  },
  {
   "cell_type": "markdown",
   "id": "5ab0d14b-9230-45fa-b5ba-4dae30497ae5",
   "metadata": {},
   "source": [
    "importa LinearRegression de sklearn"
   ]
  },
  {
   "cell_type": "code",
   "execution_count": 56,
   "id": "65268b54-2d3c-4dd9-ba00-4e1c2ca3bbd7",
   "metadata": {},
   "outputs": [],
   "source": [
    "from sklearn.linear_model import LinearRegression"
   ]
  },
  {
   "cell_type": "markdown",
   "id": "8daa17f6-7986-4a0b-9c05-ac2090f71a35",
   "metadata": {},
   "source": [
    "Arma el estimador y haz el fit"
   ]
  },
  {
   "cell_type": "code",
   "execution_count": 57,
   "id": "e576385d-096d-4dcb-b6ff-899a2efac773",
   "metadata": {},
   "outputs": [],
   "source": [
    "reglin = LinearRegression()"
   ]
  },
  {
   "cell_type": "code",
   "execution_count": 58,
   "id": "a9c2a0a6-81b9-4bc8-b34d-4efba3fda9bf",
   "metadata": {},
   "outputs": [
    {
     "data": {
      "text/plain": [
       "LinearRegression()"
      ]
     },
     "execution_count": 58,
     "metadata": {},
     "output_type": "execute_result"
    }
   ],
   "source": [
    "reglin.fit(X=x_train, y=y_train)"
   ]
  },
  {
   "cell_type": "markdown",
   "id": "f157b949-1d76-4ebd-921f-8cf5bcb54593",
   "metadata": {},
   "source": [
    "Obten el Coef y el INtercept"
   ]
  },
  {
   "cell_type": "code",
   "execution_count": 59,
   "id": "2a6b2af6-f2f4-4f91-ad1b-f04d016e3027",
   "metadata": {},
   "outputs": [
    {
     "data": {
      "text/plain": [
       "array([[283.3312025]])"
      ]
     },
     "execution_count": 59,
     "metadata": {},
     "output_type": "execute_result"
    }
   ],
   "source": [
    "reglin.coef_\n",
    "# por cada ft la casa aumenta su precio en:"
   ]
  },
  {
   "cell_type": "code",
   "execution_count": 60,
   "id": "fb03b726-cd0a-407f-ba4a-10e6370eb635",
   "metadata": {},
   "outputs": [
    {
     "data": {
      "text/plain": [
       "array([-47648.88872214])"
      ]
     },
     "execution_count": 60,
     "metadata": {},
     "output_type": "execute_result"
    }
   ],
   "source": [
    "reglin.intercept_\n",
    "# el precio en negativo hasta tener la cantidad suficiente de ft"
   ]
  },
  {
   "cell_type": "markdown",
   "id": "c6cc9ed2-8caf-49e3-b5dd-8803a5c48c05",
   "metadata": {},
   "source": [
    "Probemos el modelo, crea los objetos prediccion y esperado"
   ]
  },
  {
   "cell_type": "code",
   "execution_count": 61,
   "id": "fb226239-2ae0-4f10-b85c-a72456eec02c",
   "metadata": {},
   "outputs": [],
   "source": [
    "prediccion = reglin.predict(x_test)"
   ]
  },
  {
   "cell_type": "markdown",
   "id": "302f10b9-2a5f-48fd-b819-7391c42166ab",
   "metadata": {},
   "source": [
    "Arma un ciclo que muestre p vs e para los datos de 5 en 5"
   ]
  },
  {
   "cell_type": "code",
   "execution_count": 62,
   "id": "bf1f9e37-f05a-493f-97c8-70e825b5417a",
   "metadata": {},
   "outputs": [
    {
     "name": "stdout",
     "output_type": "stream",
     "text": [
      "[264015.43402447]  [343566.]\n",
      "[519013.5162717]  [433000.]\n",
      "[623846.06119556]  [530000.]\n",
      "[782511.53459383]  [650880.]\n",
      "[510513.58019679]  [499000.]\n",
      "[459513.96374734]  [402200.]\n",
      "[295748.52870413]  [340000.]\n",
      "[530346.76437157]  [575000.]\n",
      "[221515.75364993]  [137000.]\n",
      "[439680.77957256]  [770000.]\n",
      "[660679.11752016]  [646000.]\n",
      "[326348.29857379]  [260000.]\n",
      "[884510.76749272]  [775000.]\n",
      "[986510.00039161]  [550000.]\n",
      "[584179.69284599]  [334950.]\n",
      "[278181.99414932]  [420000.]\n",
      "[349014.79477355]  [230000.]\n",
      "[836344.46306825]  [1960000.]\n",
      "[298015.1783241]  [940000.]\n",
      "[545929.9805089]  [670000.]\n",
      "[533180.07639654]  [353500.]\n",
      "[521846.82829667]  [627800.]\n",
      "[638012.6213204]  [380000.]\n",
      "[462347.27577231]  [610000.]\n",
      "[538846.70044648]  [880000.]\n",
      "[269682.05807441]  [380950.]\n",
      "[445347.4036225]  [580000.]\n",
      "[932677.0719172]  [730000.]\n",
      "[402847.72324796]  [274000.]\n",
      "[618179.43714562]  [510000.]\n",
      "[419847.59539778]  [610000.]\n",
      "[247015.56187466]  [225000.]\n",
      "[397181.09919802]  [998500.]\n",
      "[198849.25745018]  [395000.]\n",
      "[346181.48274858]  [230000.]\n",
      "[513346.89222176]  [380000.]\n",
      "[638012.6213204]  [675000.]\n",
      "[281015.30617429]  [336000.]\n",
      "[351848.10679852]  [530000.]\n",
      "[479347.14792213]  [301350.]\n",
      "[320681.67452385]  [562000.]\n",
      "[779678.22256886]  [1020000.]\n",
      "[561513.19664624]  [950000.]\n",
      "[720178.67004451]  [624000.]\n",
      "[442514.09159753]  [258000.]\n",
      "[632345.99727046]  [569000.]\n",
      "[572846.44474611]  [855000.]\n",
      "[689012.23776985]  [392000.]\n",
      "[368847.97894833]  [432000.]\n",
      "[422680.90742275]  [342000.]\n",
      "[504846.95614685]  [540000.]\n",
      "[385847.85109815]  [412500.]\n",
      "[751345.10231917]  [585000.]\n",
      "[337681.54667367]  [250000.]\n",
      "[997843.24849149]  [1130000.]\n"
     ]
    }
   ],
   "source": [
    "for p, e in zip(prediccion[::100], y_test[::100]):\n",
    "    print(f'{p}  {e}')"
   ]
  },
  {
   "cell_type": "markdown",
   "id": "077afad3-b6fe-4b61-b44e-18e2d4daee76",
   "metadata": {},
   "source": [
    "Vamos a predecir precios de casas usando area en sqft"
   ]
  },
  {
   "cell_type": "code",
   "execution_count": 63,
   "id": "73ba783d-185a-4647-88c7-f2aca0865870",
   "metadata": {},
   "outputs": [],
   "source": [
    "predice = (lambda x: reglin.coef_*x + reglin.intercept_)"
   ]
  },
  {
   "cell_type": "code",
   "execution_count": 64,
   "id": "0fdb0447-ad93-4a20-b64e-9069e9da64d4",
   "metadata": {},
   "outputs": [
    {
     "data": {
      "text/plain": [
       "array([[170516.13720049]])"
      ]
     },
     "execution_count": 64,
     "metadata": {},
     "output_type": "execute_result"
    }
   ],
   "source": [
    "predice(770)"
   ]
  },
  {
   "cell_type": "markdown",
   "id": "869618c9-aaaf-4f3d-b28d-a5f2e34756ae",
   "metadata": {},
   "source": [
    "Y ahora visaulizemos la regresion lineal con seaborn"
   ]
  },
  {
   "cell_type": "code",
   "execution_count": 78,
   "id": "c3f4f14e-6b6e-49f9-9ada-23085759bdf7",
   "metadata": {},
   "outputs": [],
   "source": [
    "import seaborn as sns\n",
    "import numpy as np\n",
    "import matplotlib.pyplot as plt\n",
    "import copy"
   ]
  },
  {
   "cell_type": "code",
   "execution_count": 84,
   "id": "457693aa",
   "metadata": {},
   "outputs": [
    {
     "name": "stdout",
     "output_type": "stream",
     "text": [
      "[  290 13540] (2,)\n",
      "[  34517.16000197 3788655.59308613] (2,)\n"
     ]
    }
   ],
   "source": [
    "x = np.array([min(kc_house.area.values), max(kc_house.area.values)])\n",
    "print(f'{x} {x.shape}')\n",
    "y = predice(x)\n",
    "y = y[0]\n",
    "print(f'{y} {y.shape}')\n"
   ]
  },
  {
   "cell_type": "code",
   "execution_count": 85,
   "id": "ce750f10",
   "metadata": {},
   "outputs": [
    {
     "data": {
      "text/plain": [
       "[<matplotlib.lines.Line2D at 0x7f28e219f760>]"
      ]
     },
     "execution_count": 85,
     "metadata": {},
     "output_type": "execute_result"
    },
    {
     "data": {
      "image/png": "[encoded data removed]",
      "text/plain": [
       "<Figure size 640x480 with 1 Axes>"
      ]
     },
     "metadata": {},
     "output_type": "display_data"
    }
   ],
   "source": [
    "axes = sns.scatterplot(data = kc_house, x='area', y='precio')\n",
    "plt.plot(x,y)"
   ]
  },
  {
   "cell_type": "markdown",
   "id": "4dde219d-ff4c-41de-ae9f-35fc5fa105a0",
   "metadata": {},
   "source": [
    "## 15.5 Regresion lineal multiple con los datos de California"
   ]
  },
  {
   "cell_type": "markdown",
   "id": "9b04af43-c0fa-462a-8985-19cb4fc96031",
   "metadata": {},
   "source": [
    "### 15.5.1 Cargar el dataset"
   ]
  },
  {
   "cell_type": "code",
   "execution_count": 86,
   "id": "538e7e0f-8ba4-4a06-be71-46a9b03529cf",
   "metadata": {},
   "outputs": [],
   "source": [
    "from sklearn.datasets import fetch_california_housing"
   ]
  },
  {
   "cell_type": "code",
   "execution_count": 88,
   "id": "4f8ef19d-cf22-4956-b48a-d883e54e90c5",
   "metadata": {},
   "outputs": [],
   "source": [
    "data = fetch_california_housing()"
   ]
  },
  {
   "cell_type": "code",
   "execution_count": 89,
   "id": "84e65eda-185f-4c66-8ee4-ac3d319cdeb0",
   "metadata": {},
   "outputs": [
    {
     "name": "stdout",
     "output_type": "stream",
     "text": [
      ".. _california_housing_dataset:\n",
      "\n",
      "California Housing dataset\n",
      "--------------------------\n",
      "\n",
      "**Data Set Characteristics:**\n",
      "\n",
      "    :Number of Instances: 20640\n",
      "\n",
      "    :Number of Attributes: 8 numeric, predictive attributes and the target\n",
      "\n",
      "    :Attribute Information:\n",
      "        - MedInc        median income in block group\n",
      "        - HouseAge      median house age in block group\n",
      "        - AveRooms      average number of rooms per household\n",
      "        - AveBedrms     average number of bedrooms per household\n",
      "        - Population    block group population\n",
      "        - AveOccup      average number of household members\n",
      "        - Latitude      block group latitude\n",
      "        - Longitude     block group longitude\n",
      "\n",
      "    :Missing Attribute Values: None\n",
      "\n",
      "This dataset was obtained from the StatLib repository.\n",
      "https://www.dcc.fc.up.pt/~ltorgo/Regression/cal_housing.html\n",
      "\n",
      "The target variable is the median house value for California districts,\n",
      "expressed in hundreds of thousands of dollars ($100,000).\n",
      "\n",
      "This dataset was derived from the 1990 U.S. census, using one row per census\n",
      "block group. A block group is the smallest geographical unit for which the U.S.\n",
      "Census Bureau publishes sample data (a block group typically has a population\n",
      "of 600 to 3,000 people).\n",
      "\n",
      "An household is a group of people residing within a home. Since the average\n",
      "number of rooms and bedrooms in this dataset are provided per household, these\n",
      "columns may take surpinsingly large values for block groups with few households\n",
      "and many empty houses, such as vacation resorts.\n",
      "\n",
      "It can be downloaded/loaded using the\n",
      ":func:`sklearn.datasets.fetch_california_housing` function.\n",
      "\n",
      ".. topic:: References\n",
      "\n",
      "    - Pace, R. Kelley and Ronald Barry, Sparse Spatial Autoregressions,\n",
      "      Statistics and Probability Letters, 33 (1997) 291-297\n",
      "\n"
     ]
    }
   ],
   "source": [
    "print(data.DESCR)"
   ]
  },
  {
   "cell_type": "code",
   "execution_count": 90,
   "id": "8b655bf9-0f4a-4233-bf53-2259e21b2fc8",
   "metadata": {},
   "outputs": [
    {
     "data": {
      "text/plain": [
       "['MedInc',\n",
       " 'HouseAge',\n",
       " 'AveRooms',\n",
       " 'AveBedrms',\n",
       " 'Population',\n",
       " 'AveOccup',\n",
       " 'Latitude',\n",
       " 'Longitude']"
      ]
     },
     "execution_count": 90,
     "metadata": {},
     "output_type": "execute_result"
    }
   ],
   "source": [
    "data.feature_names"
   ]
  },
  {
   "cell_type": "code",
   "execution_count": 96,
   "id": "d71ec3ce-5905-42fa-8533-009861aced89",
   "metadata": {},
   "outputs": [
    {
     "name": "stdout",
     "output_type": "stream",
     "text": [
      "<class 'sklearn.utils.Bunch'>\n",
      "<class 'numpy.ndarray'>\n",
      "<class 'list'>\n"
     ]
    }
   ],
   "source": [
    "print(type(data))\n",
    "print(type(data.target))\n",
    "print(type(data.target_names))"
   ]
  },
  {
   "cell_type": "markdown",
   "id": "79b0c9c2-1d26-47a4-b008-3664a0711952",
   "metadata": {},
   "source": [
    "### 15.5.2 Explorar los datos"
   ]
  },
  {
   "cell_type": "markdown",
   "id": "f175c2a9-e29a-435b-9238-5019ffff1588",
   "metadata": {},
   "source": [
    "Importa Pandas si no lo has hecho, altera las precisiones a 4, max columns a 9 y display width a none"
   ]
  },
  {
   "cell_type": "code",
   "execution_count": 104,
   "id": "d1f74397-c07f-48dc-96c7-3459b95be7eb",
   "metadata": {},
   "outputs": [],
   "source": [
    "import pandas as pd\n",
    "\n",
    "# pd.set_option('precision',4)\n",
    "pd.set_option('display.max_columns',9)\n",
    "pd.set_option('display.width',None)"
   ]
  },
  {
   "cell_type": "markdown",
   "id": "81296b86-2000-41fd-bfe6-148e14cceb53",
   "metadata": {},
   "source": [
    "Carga los datos de california en un dataframe"
   ]
  },
  {
   "cell_type": "markdown",
   "id": "15ecb890-42bc-4091-a40f-5c84e8cd5635",
   "metadata": {},
   "source": [
    "Agrega el target de california al mismo dataframe como una columna (Serie) adicional"
   ]
  },
  {
   "cell_type": "markdown",
   "id": "98f692ad-3862-41f4-b058-61d9c4dbc3f8",
   "metadata": {},
   "source": [
    "Checa el head de california"
   ]
  },
  {
   "cell_type": "code",
   "execution_count": 110,
   "id": "d204d755-773b-4a0a-a554-de28c8f52b27",
   "metadata": {},
   "outputs": [
    {
     "data": {
      "text/html": [
       "<div>\n",
       "<style scoped>\n",
       "    .dataframe tbody tr th:only-of-type {\n",
       "        vertical-align: middle;\n",
       "    }\n",
       "\n",
       "    .dataframe tbody tr th {\n",
       "        vertical-align: top;\n",
       "    }\n",
       "\n",
       "    .dataframe thead th {\n",
       "        text-align: right;\n",
       "    }\n",
       "</style>\n",
       "<table border=\"1\" class=\"dataframe\">\n",
       "  <thead>\n",
       "    <tr style=\"text-align: right;\">\n",
       "      <th></th>\n",
       "      <th>MedInc</th>\n",
       "      <th>HouseAge</th>\n",
       "      <th>AveRooms</th>\n",
       "      <th>AveBedrms</th>\n",
       "      <th>Population</th>\n",
       "      <th>AveOccup</th>\n",
       "      <th>Latitude</th>\n",
       "      <th>Longitude</th>\n",
       "      <th>valor_casa</th>\n",
       "    </tr>\n",
       "  </thead>\n",
       "  <tbody>\n",
       "    <tr>\n",
       "      <th>0</th>\n",
       "      <td>8.3252</td>\n",
       "      <td>41.0</td>\n",
       "      <td>6.984127</td>\n",
       "      <td>1.023810</td>\n",
       "      <td>322.0</td>\n",
       "      <td>2.555556</td>\n",
       "      <td>37.88</td>\n",
       "      <td>-122.23</td>\n",
       "      <td>4.526</td>\n",
       "    </tr>\n",
       "    <tr>\n",
       "      <th>1</th>\n",
       "      <td>8.3014</td>\n",
       "      <td>21.0</td>\n",
       "      <td>6.238137</td>\n",
       "      <td>0.971880</td>\n",
       "      <td>2401.0</td>\n",
       "      <td>2.109842</td>\n",
       "      <td>37.86</td>\n",
       "      <td>-122.22</td>\n",
       "      <td>3.585</td>\n",
       "    </tr>\n",
       "    <tr>\n",
       "      <th>2</th>\n",
       "      <td>7.2574</td>\n",
       "      <td>52.0</td>\n",
       "      <td>8.288136</td>\n",
       "      <td>1.073446</td>\n",
       "      <td>496.0</td>\n",
       "      <td>2.802260</td>\n",
       "      <td>37.85</td>\n",
       "      <td>-122.24</td>\n",
       "      <td>3.521</td>\n",
       "    </tr>\n",
       "    <tr>\n",
       "      <th>3</th>\n",
       "      <td>5.6431</td>\n",
       "      <td>52.0</td>\n",
       "      <td>5.817352</td>\n",
       "      <td>1.073059</td>\n",
       "      <td>558.0</td>\n",
       "      <td>2.547945</td>\n",
       "      <td>37.85</td>\n",
       "      <td>-122.25</td>\n",
       "      <td>3.413</td>\n",
       "    </tr>\n",
       "    <tr>\n",
       "      <th>4</th>\n",
       "      <td>3.8462</td>\n",
       "      <td>52.0</td>\n",
       "      <td>6.281853</td>\n",
       "      <td>1.081081</td>\n",
       "      <td>565.0</td>\n",
       "      <td>2.181467</td>\n",
       "      <td>37.85</td>\n",
       "      <td>-122.25</td>\n",
       "      <td>3.422</td>\n",
       "    </tr>\n",
       "    <tr>\n",
       "      <th>5</th>\n",
       "      <td>4.0368</td>\n",
       "      <td>52.0</td>\n",
       "      <td>4.761658</td>\n",
       "      <td>1.103627</td>\n",
       "      <td>413.0</td>\n",
       "      <td>2.139896</td>\n",
       "      <td>37.85</td>\n",
       "      <td>-122.25</td>\n",
       "      <td>2.697</td>\n",
       "    </tr>\n",
       "    <tr>\n",
       "      <th>6</th>\n",
       "      <td>3.6591</td>\n",
       "      <td>52.0</td>\n",
       "      <td>4.931907</td>\n",
       "      <td>0.951362</td>\n",
       "      <td>1094.0</td>\n",
       "      <td>2.128405</td>\n",
       "      <td>37.84</td>\n",
       "      <td>-122.25</td>\n",
       "      <td>2.992</td>\n",
       "    </tr>\n",
       "    <tr>\n",
       "      <th>7</th>\n",
       "      <td>3.1200</td>\n",
       "      <td>52.0</td>\n",
       "      <td>4.797527</td>\n",
       "      <td>1.061824</td>\n",
       "      <td>1157.0</td>\n",
       "      <td>1.788253</td>\n",
       "      <td>37.84</td>\n",
       "      <td>-122.25</td>\n",
       "      <td>2.414</td>\n",
       "    </tr>\n",
       "    <tr>\n",
       "      <th>8</th>\n",
       "      <td>2.0804</td>\n",
       "      <td>42.0</td>\n",
       "      <td>4.294118</td>\n",
       "      <td>1.117647</td>\n",
       "      <td>1206.0</td>\n",
       "      <td>2.026891</td>\n",
       "      <td>37.84</td>\n",
       "      <td>-122.26</td>\n",
       "      <td>2.267</td>\n",
       "    </tr>\n",
       "    <tr>\n",
       "      <th>9</th>\n",
       "      <td>3.6912</td>\n",
       "      <td>52.0</td>\n",
       "      <td>4.970588</td>\n",
       "      <td>0.990196</td>\n",
       "      <td>1551.0</td>\n",
       "      <td>2.172269</td>\n",
       "      <td>37.84</td>\n",
       "      <td>-122.25</td>\n",
       "      <td>2.611</td>\n",
       "    </tr>\n",
       "  </tbody>\n",
       "</table>\n",
       "</div>"
      ],
      "text/plain": [
       "   MedInc  HouseAge  AveRooms  AveBedrms  Population  AveOccup  Latitude  \\\n",
       "0  8.3252      41.0  6.984127   1.023810       322.0  2.555556     37.88   \n",
       "1  8.3014      21.0  6.238137   0.971880      2401.0  2.109842     37.86   \n",
       "2  7.2574      52.0  8.288136   1.073446       496.0  2.802260     37.85   \n",
       "3  5.6431      52.0  5.817352   1.073059       558.0  2.547945     37.85   \n",
       "4  3.8462      52.0  6.281853   1.081081       565.0  2.181467     37.85   \n",
       "5  4.0368      52.0  4.761658   1.103627       413.0  2.139896     37.85   \n",
       "6  3.6591      52.0  4.931907   0.951362      1094.0  2.128405     37.84   \n",
       "7  3.1200      52.0  4.797527   1.061824      1157.0  1.788253     37.84   \n",
       "8  2.0804      42.0  4.294118   1.117647      1206.0  2.026891     37.84   \n",
       "9  3.6912      52.0  4.970588   0.990196      1551.0  2.172269     37.84   \n",
       "\n",
       "   Longitude  valor_casa  \n",
       "0    -122.23       4.526  \n",
       "1    -122.22       3.585  \n",
       "2    -122.24       3.521  \n",
       "3    -122.25       3.413  \n",
       "4    -122.25       3.422  \n",
       "5    -122.25       2.697  \n",
       "6    -122.25       2.992  \n",
       "7    -122.25       2.414  \n",
       "8    -122.26       2.267  \n",
       "9    -122.25       2.611  "
      ]
     },
     "execution_count": 110,
     "metadata": {},
     "output_type": "execute_result"
    }
   ],
   "source": [
    "data_df = pd.DataFrame(data.data, columns=data.feature_names)\n",
    "data_df['valor_casa'] = pd.Series(data.target)\n",
    "data_df.head(10)"
   ]
  },
  {
   "cell_type": "markdown",
   "id": "64ef48c7-305f-4acd-b515-2f871fca32e0",
   "metadata": {},
   "source": [
    "Hagamos un describe para ver que onda"
   ]
  },
  {
   "cell_type": "code",
   "execution_count": 112,
   "id": "23275680-b33a-4b6f-ba3e-d214a8fdd142",
   "metadata": {},
   "outputs": [
    {
     "data": {
      "text/html": [
       "<div>\n",
       "<style scoped>\n",
       "    .dataframe tbody tr th:only-of-type {\n",
       "        vertical-align: middle;\n",
       "    }\n",
       "\n",
       "    .dataframe tbody tr th {\n",
       "        vertical-align: top;\n",
       "    }\n",
       "\n",
       "    .dataframe thead th {\n",
       "        text-align: right;\n",
       "    }\n",
       "</style>\n",
       "<table border=\"1\" class=\"dataframe\">\n",
       "  <thead>\n",
       "    <tr style=\"text-align: right;\">\n",
       "      <th></th>\n",
       "      <th>MedInc</th>\n",
       "      <th>HouseAge</th>\n",
       "      <th>AveRooms</th>\n",
       "      <th>AveBedrms</th>\n",
       "      <th>Population</th>\n",
       "      <th>AveOccup</th>\n",
       "      <th>Latitude</th>\n",
       "      <th>Longitude</th>\n",
       "      <th>valor_casa</th>\n",
       "    </tr>\n",
       "  </thead>\n",
       "  <tbody>\n",
       "    <tr>\n",
       "      <th>count</th>\n",
       "      <td>20640.000000</td>\n",
       "      <td>20640.000000</td>\n",
       "      <td>20640.000000</td>\n",
       "      <td>20640.000000</td>\n",
       "      <td>20640.000000</td>\n",
       "      <td>20640.000000</td>\n",
       "      <td>20640.000000</td>\n",
       "      <td>20640.000000</td>\n",
       "      <td>20640.000000</td>\n",
       "    </tr>\n",
       "    <tr>\n",
       "      <th>mean</th>\n",
       "      <td>3.870671</td>\n",
       "      <td>28.639486</td>\n",
       "      <td>5.429000</td>\n",
       "      <td>1.096675</td>\n",
       "      <td>1425.476744</td>\n",
       "      <td>3.070655</td>\n",
       "      <td>35.631861</td>\n",
       "      <td>-119.569704</td>\n",
       "      <td>2.068558</td>\n",
       "    </tr>\n",
       "    <tr>\n",
       "      <th>std</th>\n",
       "      <td>1.899822</td>\n",
       "      <td>12.585558</td>\n",
       "      <td>2.474173</td>\n",
       "      <td>0.473911</td>\n",
       "      <td>1132.462122</td>\n",
       "      <td>10.386050</td>\n",
       "      <td>2.135952</td>\n",
       "      <td>2.003532</td>\n",
       "      <td>1.153956</td>\n",
       "    </tr>\n",
       "    <tr>\n",
       "      <th>min</th>\n",
       "      <td>0.499900</td>\n",
       "      <td>1.000000</td>\n",
       "      <td>0.846154</td>\n",
       "      <td>0.333333</td>\n",
       "      <td>3.000000</td>\n",
       "      <td>0.692308</td>\n",
       "      <td>32.540000</td>\n",
       "      <td>-124.350000</td>\n",
       "      <td>0.149990</td>\n",
       "    </tr>\n",
       "    <tr>\n",
       "      <th>25%</th>\n",
       "      <td>2.563400</td>\n",
       "      <td>18.000000</td>\n",
       "      <td>4.440716</td>\n",
       "      <td>1.006079</td>\n",
       "      <td>787.000000</td>\n",
       "      <td>2.429741</td>\n",
       "      <td>33.930000</td>\n",
       "      <td>-121.800000</td>\n",
       "      <td>1.196000</td>\n",
       "    </tr>\n",
       "    <tr>\n",
       "      <th>50%</th>\n",
       "      <td>3.534800</td>\n",
       "      <td>29.000000</td>\n",
       "      <td>5.229129</td>\n",
       "      <td>1.048780</td>\n",
       "      <td>1166.000000</td>\n",
       "      <td>2.818116</td>\n",
       "      <td>34.260000</td>\n",
       "      <td>-118.490000</td>\n",
       "      <td>1.797000</td>\n",
       "    </tr>\n",
       "    <tr>\n",
       "      <th>75%</th>\n",
       "      <td>4.743250</td>\n",
       "      <td>37.000000</td>\n",
       "      <td>6.052381</td>\n",
       "      <td>1.099526</td>\n",
       "      <td>1725.000000</td>\n",
       "      <td>3.282261</td>\n",
       "      <td>37.710000</td>\n",
       "      <td>-118.010000</td>\n",
       "      <td>2.647250</td>\n",
       "    </tr>\n",
       "    <tr>\n",
       "      <th>max</th>\n",
       "      <td>15.000100</td>\n",
       "      <td>52.000000</td>\n",
       "      <td>141.909091</td>\n",
       "      <td>34.066667</td>\n",
       "      <td>35682.000000</td>\n",
       "      <td>1243.333333</td>\n",
       "      <td>41.950000</td>\n",
       "      <td>-114.310000</td>\n",
       "      <td>5.000010</td>\n",
       "    </tr>\n",
       "  </tbody>\n",
       "</table>\n",
       "</div>"
      ],
      "text/plain": [
       "             MedInc      HouseAge      AveRooms     AveBedrms    Population  \\\n",
       "count  20640.000000  20640.000000  20640.000000  20640.000000  20640.000000   \n",
       "mean       3.870671     28.639486      5.429000      1.096675   1425.476744   \n",
       "std        1.899822     12.585558      2.474173      0.473911   1132.462122   \n",
       "min        0.499900      1.000000      0.846154      0.333333      3.000000   \n",
       "25%        2.563400     18.000000      4.440716      1.006079    787.000000   \n",
       "50%        3.534800     29.000000      5.229129      1.048780   1166.000000   \n",
       "75%        4.743250     37.000000      6.052381      1.099526   1725.000000   \n",
       "max       15.000100     52.000000    141.909091     34.066667  35682.000000   \n",
       "\n",
       "           AveOccup      Latitude     Longitude    valor_casa  \n",
       "count  20640.000000  20640.000000  20640.000000  20640.000000  \n",
       "mean       3.070655     35.631861   -119.569704      2.068558  \n",
       "std       10.386050      2.135952      2.003532      1.153956  \n",
       "min        0.692308     32.540000   -124.350000      0.149990  \n",
       "25%        2.429741     33.930000   -121.800000      1.196000  \n",
       "50%        2.818116     34.260000   -118.490000      1.797000  \n",
       "75%        3.282261     37.710000   -118.010000      2.647250  \n",
       "max     1243.333333     41.950000   -114.310000      5.000010  "
      ]
     },
     "execution_count": 112,
     "metadata": {},
     "output_type": "execute_result"
    }
   ],
   "source": [
    "data_df.describe()"
   ]
  },
  {
   "cell_type": "markdown",
   "id": "4e7ca26c-0609-42b8-8b42-0700e481590a",
   "metadata": {},
   "source": [
    "### 15.5.3 Visualizar los datos"
   ]
  },
  {
   "cell_type": "markdown",
   "id": "e5ac7227-8931-4a77-8504-31c921bb9c0e",
   "metadata": {},
   "source": [
    "Vamos a armar un muestreo del 10% del dataset para ver mas facil las visualizaciones"
   ]
  },
  {
   "cell_type": "code",
   "execution_count": null,
   "id": "c0f812b9-a8a2-4894-9752-e2de760eaaf4",
   "metadata": {},
   "outputs": [],
   "source": []
  },
  {
   "cell_type": "markdown",
   "id": "c04fc5ea-495e-4593-8a45-791ae2370a06",
   "metadata": {},
   "source": [
    "Importa Matplotlib"
   ]
  },
  {
   "cell_type": "code",
   "execution_count": null,
   "id": "4559668b-1db3-467b-bac7-8adbda579d02",
   "metadata": {},
   "outputs": [],
   "source": []
  },
  {
   "cell_type": "markdown",
   "id": "376656d0-2d40-4fa6-8201-398682472717",
   "metadata": {},
   "source": [
    "IMporta Seaborn"
   ]
  },
  {
   "cell_type": "code",
   "execution_count": null,
   "id": "473b6a75-f326-4db5-a254-a8dac1ffb420",
   "metadata": {},
   "outputs": [],
   "source": []
  },
  {
   "cell_type": "markdown",
   "id": "99197116-6ad3-4055-a74c-c8cf04baed0a",
   "metadata": {},
   "source": [
    "Cambia la fuente de seaborn"
   ]
  },
  {
   "cell_type": "code",
   "execution_count": null,
   "id": "5ccc9813-85b8-45aa-9e1d-e537945a0bbb",
   "metadata": {},
   "outputs": [],
   "source": []
  },
  {
   "cell_type": "markdown",
   "id": "ba42a25b-9b4c-4595-bae3-f5b8028b6fa2",
   "metadata": {},
   "source": [
    "Ponlo tipo Whitegrid"
   ]
  },
  {
   "cell_type": "code",
   "execution_count": null,
   "id": "4d9edfd0-73ed-4a39-9016-53f71feadd3d",
   "metadata": {},
   "outputs": [],
   "source": []
  },
  {
   "cell_type": "markdown",
   "id": "3a16be37-7a3a-44cd-977f-ae5690a8e9d9",
   "metadata": {},
   "source": [
    "Arma graficas de precio vs cada feature"
   ]
  },
  {
   "cell_type": "code",
   "execution_count": null,
   "id": "edcb2938-e97f-4110-8b19-ce962771072d",
   "metadata": {},
   "outputs": [],
   "source": []
  },
  {
   "cell_type": "markdown",
   "id": "90b409cb-2d57-4a0a-a1f0-a2977b80f3c0",
   "metadata": {},
   "source": [
    "### 15.5.4 Separar los datos para training y pruebas"
   ]
  },
  {
   "cell_type": "markdown",
   "id": "c3153812-ee95-4c5a-add5-e662840600c2",
   "metadata": {},
   "source": [
    "Importa de sklearn.model_selection el train_test_split"
   ]
  },
  {
   "cell_type": "code",
   "execution_count": null,
   "id": "7281da09-5bb8-4f3f-8464-30f07833d7e3",
   "metadata": {},
   "outputs": [],
   "source": []
  },
  {
   "cell_type": "markdown",
   "id": "d8309b22-5da9-4bfd-99c7-41dd6f8e830a",
   "metadata": {},
   "source": [
    "Arma tu train test split"
   ]
  },
  {
   "cell_type": "code",
   "execution_count": null,
   "id": "817ef0ad-9a80-4ac0-82c9-076eac520e1c",
   "metadata": {},
   "outputs": [],
   "source": []
  },
  {
   "cell_type": "markdown",
   "id": "5f994405-4e6f-4d2d-8b58-25fd2c47b9f0",
   "metadata": {},
   "source": [
    "Checa las figura de train"
   ]
  },
  {
   "cell_type": "code",
   "execution_count": null,
   "id": "2315d24b-25a0-4d53-bb36-22cea5bd15d2",
   "metadata": {},
   "outputs": [],
   "source": []
  },
  {
   "cell_type": "markdown",
   "id": "f0c712da-4160-4592-96b1-a97827f036a0",
   "metadata": {},
   "source": [
    "Checa la figura de test"
   ]
  },
  {
   "cell_type": "code",
   "execution_count": null,
   "id": "3271aa7c-e8ab-449c-8969-5807502ff6d4",
   "metadata": {},
   "outputs": [],
   "source": []
  },
  {
   "cell_type": "markdown",
   "id": "186b51f4-15dd-4e15-b4c1-8df05cb9ff26",
   "metadata": {},
   "source": [
    "### 15.5.5 Entrenar el modelo"
   ]
  },
  {
   "cell_type": "markdown",
   "id": "bc58f7a5-747c-4b42-bf61-ad7d472eb2d0",
   "metadata": {},
   "source": [
    "Importa LinearRegression desde sklearn.linear_model"
   ]
  },
  {
   "cell_type": "code",
   "execution_count": null,
   "id": "e28692be-4e1a-4c87-8127-acb65e038c3e",
   "metadata": {},
   "outputs": [],
   "source": []
  },
  {
   "cell_type": "markdown",
   "id": "d4d7ae66-7ff7-454e-a3dd-aa409f20316d",
   "metadata": {},
   "source": [
    "arma tu objeto reglin"
   ]
  },
  {
   "cell_type": "code",
   "execution_count": null,
   "id": "c78bcbfa-8315-4563-a926-e89ae5161fcd",
   "metadata": {},
   "outputs": [],
   "source": []
  },
  {
   "cell_type": "markdown",
   "id": "7605cea5-cbe2-452b-a1ca-777607bd0d08",
   "metadata": {},
   "source": [
    "Haz el fit"
   ]
  },
  {
   "cell_type": "code",
   "execution_count": null,
   "id": "cf0aad43-3602-4674-b92a-42c2704a568f",
   "metadata": {},
   "outputs": [],
   "source": []
  },
  {
   "cell_type": "markdown",
   "id": "31425f8d-1dd2-4b67-bc36-6a89da22589c",
   "metadata": {},
   "source": [
    "Arma tu for para enumerar todos los coeficientes"
   ]
  },
  {
   "cell_type": "code",
   "execution_count": null,
   "id": "082b1330-36f5-4174-9789-9400d6d76b05",
   "metadata": {},
   "outputs": [],
   "source": []
  },
  {
   "cell_type": "markdown",
   "id": "1959fffb-ef53-46d2-9b68-bcd1dad53dbb",
   "metadata": {},
   "source": [
    "Obten el intercept"
   ]
  },
  {
   "cell_type": "code",
   "execution_count": null,
   "id": "f7d86ec8-7286-4808-aa64-ec10652b27d0",
   "metadata": {},
   "outputs": [],
   "source": []
  },
  {
   "cell_type": "markdown",
   "id": "bdf4b49e-02d5-47e1-ba47-fe89c5a0fc54",
   "metadata": {},
   "source": [
    "### 15.5.6  Probar el modelo"
   ]
  },
  {
   "cell_type": "markdown",
   "id": "ec5e7633-27c6-4582-a760-db5dc9621d3f",
   "metadata": {},
   "source": [
    "Arma tu prediccion"
   ]
  },
  {
   "cell_type": "code",
   "execution_count": null,
   "id": "651fea23-aabe-4389-a87e-3c90fb06e1b8",
   "metadata": {},
   "outputs": [],
   "source": []
  },
  {
   "cell_type": "markdown",
   "id": "cef66b11-6cfb-44bc-9582-42179d93168c",
   "metadata": {},
   "source": [
    "Arma tu lista de valores esperados"
   ]
  },
  {
   "cell_type": "code",
   "execution_count": null,
   "id": "bcc8d4b2-086e-4011-b652-016ed943926c",
   "metadata": {},
   "outputs": [],
   "source": []
  },
  {
   "cell_type": "markdown",
   "id": "ac6b0916-78c0-4200-b550-b6348ffaeacf",
   "metadata": {},
   "source": [
    "vamos a ver las primeras 5 predicciones"
   ]
  },
  {
   "cell_type": "code",
   "execution_count": null,
   "id": "d90066f0-0f86-4f47-bdbc-ed3648b10c86",
   "metadata": {},
   "outputs": [],
   "source": []
  },
  {
   "cell_type": "markdown",
   "id": "9860e346-e634-4e93-a606-e6e4bc99619e",
   "metadata": {},
   "source": [
    "vs los primeros 5 valores esperados"
   ]
  },
  {
   "cell_type": "code",
   "execution_count": null,
   "id": "ed571b94-fc43-46ba-8fd7-877e2971375d",
   "metadata": {},
   "outputs": [],
   "source": []
  },
  {
   "cell_type": "markdown",
   "id": "794b49d8-bb37-46c7-80a9-22decf584806",
   "metadata": {},
   "source": [
    "### 15.5.7  Visualizar los precios esperados vs predecidos"
   ]
  },
  {
   "cell_type": "markdown",
   "id": "f02d2071-7c4a-46a2-8891-8a3f88a79389",
   "metadata": {},
   "source": [
    "Arma un Dataframe vacio"
   ]
  },
  {
   "cell_type": "code",
   "execution_count": null,
   "id": "62e0f786-ad46-435a-ad19-2224205a26e9",
   "metadata": {},
   "outputs": [],
   "source": []
  },
  {
   "cell_type": "markdown",
   "id": "b3f07edb-ac1a-4316-af02-72792ba12889",
   "metadata": {},
   "source": [
    "Agregale una columna con los precios esperados"
   ]
  },
  {
   "cell_type": "code",
   "execution_count": null,
   "id": "9ebcafeb-68af-4d29-8c4e-259b82c4fd4f",
   "metadata": {},
   "outputs": [],
   "source": []
  },
  {
   "cell_type": "markdown",
   "id": "e97e2e3d-ae63-4363-aa11-4320e9d8f336",
   "metadata": {},
   "source": [
    "Otra con los precios predichos"
   ]
  },
  {
   "cell_type": "code",
   "execution_count": null,
   "id": "888f04d2-0a13-4b2a-9bd7-1e95d951da5d",
   "metadata": {},
   "outputs": [],
   "source": []
  },
  {
   "cell_type": "markdown",
   "id": "6d7dea42-98a6-43f7-8d1e-becf7715d4d3",
   "metadata": {},
   "source": [
    "Arma una figura de plt"
   ]
  },
  {
   "cell_type": "markdown",
   "id": "30b842f9-d4cb-474d-9de6-ba0a586eb984",
   "metadata": {},
   "source": [
    "Metele un scatterplot de seaborn"
   ]
  },
  {
   "cell_type": "code",
   "execution_count": null,
   "id": "116f64f6-9992-474d-a0b1-a8bdf74ae916",
   "metadata": {},
   "outputs": [],
   "source": []
  },
  {
   "cell_type": "markdown",
   "id": "a2ab29f5-3c68-40f5-a77c-26cd6219e569",
   "metadata": {},
   "source": [
    "### 15.5.8  Métricas del modelo de regresión"
   ]
  },
  {
   "cell_type": "markdown",
   "id": "5eb0636d-9c0e-428f-9ba5-dfc670331f1c",
   "metadata": {},
   "source": [
    "Importa metrics de sklearn"
   ]
  },
  {
   "cell_type": "code",
   "execution_count": null,
   "id": "873666a2-2ef3-4db0-8ff2-04511b111f81",
   "metadata": {},
   "outputs": [],
   "source": []
  },
  {
   "cell_type": "markdown",
   "id": "b189d89f-da41-45f1-8a6e-3c2409fd6586",
   "metadata": {},
   "source": [
    "Saca el r2"
   ]
  },
  {
   "cell_type": "code",
   "execution_count": null,
   "id": "7f0344f0-3612-4f5b-ae7a-6248dfd06d21",
   "metadata": {},
   "outputs": [],
   "source": []
  },
  {
   "cell_type": "markdown",
   "id": "97b7bdae-8b49-4205-b348-d7a098989e55",
   "metadata": {},
   "source": [
    "Saca el Mean Squared Error (Promedio de Errores Cuadrados)"
   ]
  },
  {
   "cell_type": "code",
   "execution_count": null,
   "id": "03a96ee6-1135-42e4-8061-5aced0e694b7",
   "metadata": {},
   "outputs": [],
   "source": []
  },
  {
   "cell_type": "markdown",
   "id": "c8839fd5-83de-4d34-bbdf-4d34c3e8f7e6",
   "metadata": {},
   "source": [
    "### 15.5.9  Escoger el mejor modelo"
   ]
  },
  {
   "cell_type": "code",
   "execution_count": null,
   "id": "ed6777b9-3d25-4768-ba38-52d37a4a2078",
   "metadata": {},
   "outputs": [],
   "source": []
  },
  {
   "cell_type": "code",
   "execution_count": null,
   "id": "aa4ffe7a-7559-412e-8701-c8b62529ac69",
   "metadata": {},
   "outputs": [],
   "source": []
  },
  {
   "cell_type": "code",
   "execution_count": null,
   "id": "c55b4d4e-b1d4-4a56-ac89-146410cde434",
   "metadata": {},
   "outputs": [],
   "source": []
  },
  {
   "cell_type": "code",
   "execution_count": null,
   "id": "c19773b1-ce8d-43ca-a3c8-8a06af7adcb9",
   "metadata": {},
   "outputs": [],
   "source": []
  },
  {
   "cell_type": "markdown",
   "id": "3eb4eeb8-e7be-4462-9670-2485ff516715",
   "metadata": {},
   "source": [
    "## 15.6 Aprendizaje no supervisado parte 1"
   ]
  },
  {
   "cell_type": "markdown",
   "id": "c24648f3-f098-44da-93d1-ac541112d0fb",
   "metadata": {},
   "source": [
    "Importa load_digits (de nuevo) desde sklearn.datasets"
   ]
  },
  {
   "cell_type": "code",
   "execution_count": null,
   "id": "1de0e5ca-f8b7-4f88-a83d-1da9d7b057bc",
   "metadata": {},
   "outputs": [],
   "source": []
  },
  {
   "cell_type": "markdown",
   "id": "eb708cd1-7e10-4025-ad88-56ba3a21e0b6",
   "metadata": {},
   "source": [
    "arma tu objeto load_digits"
   ]
  },
  {
   "cell_type": "code",
   "execution_count": null,
   "id": "f8dc658a-07ef-4a52-a4ea-14a3bb8540fe",
   "metadata": {},
   "outputs": [],
   "source": []
  },
  {
   "cell_type": "markdown",
   "id": "1e8c9865-2a2d-4358-9845-24374320f74f",
   "metadata": {},
   "source": [
    "Importa TSNE desde sklearn.manifold"
   ]
  },
  {
   "cell_type": "code",
   "execution_count": null,
   "id": "e2ab7cb9-4ed8-4e40-bd33-1193cc236fe8",
   "metadata": {},
   "outputs": [],
   "source": []
  },
  {
   "cell_type": "markdown",
   "id": "a75c00b2-33e6-40c4-aee2-37c66bb2c392",
   "metadata": {},
   "source": [
    "arma tu objeto tsne"
   ]
  },
  {
   "cell_type": "code",
   "execution_count": null,
   "id": "4a209829-f5f3-4726-b5dc-4d1ac8ae45ef",
   "metadata": {},
   "outputs": [],
   "source": []
  },
  {
   "cell_type": "markdown",
   "id": "7e3295cd-a62f-4b40-b490-41f6026fbec3",
   "metadata": {},
   "source": [
    "Transforma tus datos al numero especifico de dimensiones y entrena al estimador"
   ]
  },
  {
   "cell_type": "code",
   "execution_count": null,
   "id": "ecf0c1b6-2b1e-4961-865d-a24a577965d9",
   "metadata": {},
   "outputs": [],
   "source": []
  },
  {
   "cell_type": "markdown",
   "id": "08e6477e-a87a-4a01-9b60-11fe3bc4ad7d",
   "metadata": {},
   "source": [
    "Checa la forma de tus datos"
   ]
  },
  {
   "cell_type": "code",
   "execution_count": null,
   "id": "2542010d-9cbd-41f4-a9cf-bbdf0f4606e3",
   "metadata": {},
   "outputs": [],
   "source": []
  },
  {
   "cell_type": "markdown",
   "id": "960173e7-cbb6-4056-af1f-fb10f18fa7d9",
   "metadata": {},
   "source": [
    "Vamos a mostrar los datos uasndo el scatter de matplotlib, importa matplotlib"
   ]
  },
  {
   "cell_type": "code",
   "execution_count": null,
   "id": "9ec5c039-b439-48dc-949b-1db6a784880c",
   "metadata": {},
   "outputs": [],
   "source": []
  },
  {
   "cell_type": "code",
   "execution_count": null,
   "id": "2335c158-ef3f-4d4f-8422-d472ee6cfcce",
   "metadata": {},
   "outputs": [],
   "source": []
  },
  {
   "cell_type": "markdown",
   "id": "e3de5de0-2621-44af-b581-5a7e20a83be4",
   "metadata": {},
   "source": [
    "Y el sacatter"
   ]
  },
  {
   "cell_type": "markdown",
   "id": "537818f4-2cfa-409a-84e2-ef23dbd3a67c",
   "metadata": {},
   "source": [
    "Ahora haz el scatter con colores diferentes"
   ]
  },
  {
   "cell_type": "code",
   "execution_count": null,
   "id": "ded23671-eeb1-49f7-8099-202246acd993",
   "metadata": {},
   "outputs": [],
   "source": []
  },
  {
   "cell_type": "markdown",
   "id": "03208001-9245-4743-ac44-8b99bf50833d",
   "metadata": {},
   "source": [
    "## 15.7 Aprendizaje no supervisado parte 2"
   ]
  },
  {
   "cell_type": "markdown",
   "id": "286e4534-0c49-4fde-99b6-ba4410e21918",
   "metadata": {},
   "source": [
    "### 15.7.1  Cargar el Dataset de Iris"
   ]
  },
  {
   "cell_type": "markdown",
   "id": "fdde2352-e59b-4236-ba05-6040b14dcc1a",
   "metadata": {},
   "source": [
    "Carga load_iris de sklearn.datasets"
   ]
  },
  {
   "cell_type": "code",
   "execution_count": null,
   "id": "be9e4c80-e085-4739-8aea-906367e53190",
   "metadata": {},
   "outputs": [],
   "source": []
  },
  {
   "cell_type": "markdown",
   "id": "a96c97cb-3f0b-4add-800d-9b970d93a5d3",
   "metadata": {},
   "source": [
    "Arma un objeto iris de load_iris"
   ]
  },
  {
   "cell_type": "code",
   "execution_count": null,
   "id": "d2612fd1-693f-43b2-9e25-c2762ba78f3f",
   "metadata": {},
   "outputs": [],
   "source": []
  },
  {
   "cell_type": "markdown",
   "id": "7cf87894-304a-462f-ae57-7bda1dc55922",
   "metadata": {},
   "source": [
    "Veamos la descripción del dataset"
   ]
  },
  {
   "cell_type": "code",
   "execution_count": null,
   "id": "f6292d84-ffd7-4cd1-ba29-cec769058c20",
   "metadata": {},
   "outputs": [],
   "source": []
  },
  {
   "cell_type": "markdown",
   "id": "4758ca5e-08bf-4cb1-913e-620a39274777",
   "metadata": {},
   "source": [
    "Veamos la figura del iris.data"
   ]
  },
  {
   "cell_type": "code",
   "execution_count": null,
   "id": "8b8a0664-0f21-4d1d-b870-0c034383ea4a",
   "metadata": {},
   "outputs": [],
   "source": []
  },
  {
   "cell_type": "markdown",
   "id": "eb640a74-3eb6-4b36-b952-f86a8b7fbcad",
   "metadata": {},
   "source": [
    "La figura del iris.shape"
   ]
  },
  {
   "cell_type": "code",
   "execution_count": null,
   "id": "81541876-179b-48ac-881b-3542532682ef",
   "metadata": {},
   "outputs": [],
   "source": []
  },
  {
   "cell_type": "markdown",
   "id": "d66c3ade-7899-4383-82c1-15c29f1ab730",
   "metadata": {},
   "source": [
    "Conozcamos los posibles targets con target_names"
   ]
  },
  {
   "cell_type": "code",
   "execution_count": null,
   "id": "aaaf269d-4214-4946-8f56-e7cdf979046d",
   "metadata": {},
   "outputs": [],
   "source": []
  },
  {
   "cell_type": "markdown",
   "id": "8fa9e2ac-f2fd-4d43-a502-37b7a6f87fa9",
   "metadata": {},
   "source": [
    "Y también los feature names"
   ]
  },
  {
   "cell_type": "code",
   "execution_count": null,
   "id": "866f7796-3583-4a8f-bfba-609fbe6ffe42",
   "metadata": {},
   "outputs": [],
   "source": []
  },
  {
   "cell_type": "markdown",
   "id": "55cb2936-f120-4b9a-9ddc-c6e1fa31dbe2",
   "metadata": {},
   "source": [
    "### 15.7.2  Explorar el dataset de Iris"
   ]
  },
  {
   "cell_type": "markdown",
   "id": "f03a953d-5df2-4fc4-a7a4-ef96bac41956",
   "metadata": {},
   "source": [
    "Importamos pandas"
   ]
  },
  {
   "cell_type": "code",
   "execution_count": null,
   "id": "ccd065ea-f4bb-4f72-a75a-02a580799043",
   "metadata": {},
   "outputs": [],
   "source": []
  },
  {
   "cell_type": "markdown",
   "id": "45938ae5-2ade-4d11-af0a-63755b77f05b",
   "metadata": {},
   "source": [
    "Le decimos que maximo 5 columans"
   ]
  },
  {
   "cell_type": "code",
   "execution_count": null,
   "id": "abe80b62-a983-4e40-ba14-a954fcf69c13",
   "metadata": {},
   "outputs": [],
   "source": []
  },
  {
   "cell_type": "markdown",
   "id": "8562f779-889e-4c3f-8242-3c2c19053a1f",
   "metadata": {},
   "source": [
    "Y sin display width"
   ]
  },
  {
   "cell_type": "code",
   "execution_count": null,
   "id": "74143e7b-fe21-4522-9cfe-0295d765ec75",
   "metadata": {},
   "outputs": [],
   "source": []
  },
  {
   "cell_type": "markdown",
   "id": "ac3b3c80-a321-45ad-9d15-a8083d11f0fe",
   "metadata": {},
   "source": [
    "Cargamos un dataframe con iris.data"
   ]
  },
  {
   "cell_type": "code",
   "execution_count": null,
   "id": "e9d898b5-2c51-40e5-8d56-391d71032e1b",
   "metadata": {},
   "outputs": [],
   "source": []
  },
  {
   "cell_type": "markdown",
   "id": "b098ee67-5f6f-4e91-a285-4812d3e89651",
   "metadata": {},
   "source": [
    "Y le pegamos las especies que vienen de iris.target_names"
   ]
  },
  {
   "cell_type": "code",
   "execution_count": null,
   "id": "9cc8eb9f-0844-474d-b89c-ad77f994beab",
   "metadata": {},
   "outputs": [],
   "source": []
  },
  {
   "cell_type": "markdown",
   "id": "10bdaec9-3995-474d-9eaa-5c52015f8521",
   "metadata": {},
   "source": [
    "Checa el head del dataset"
   ]
  },
  {
   "cell_type": "code",
   "execution_count": null,
   "id": "949af570-e540-4ace-a202-bb3a229bf55b",
   "metadata": {},
   "outputs": [],
   "source": []
  },
  {
   "cell_type": "markdown",
   "id": "ee064313-c7ac-4810-99c3-05ae7583a6dc",
   "metadata": {},
   "source": [
    "Pon la precision de pandas a 2 decimales"
   ]
  },
  {
   "cell_type": "code",
   "execution_count": null,
   "id": "5b619ce6-bda0-4618-80fc-800e8019664e",
   "metadata": {},
   "outputs": [],
   "source": []
  },
  {
   "cell_type": "markdown",
   "id": "610e7784-106a-43fe-a4ac-ca2e681c6153",
   "metadata": {},
   "source": [
    "Armate un describe del dataframe"
   ]
  },
  {
   "cell_type": "code",
   "execution_count": null,
   "id": "1ec079c6-3aad-4cf7-af5d-d2645e663fb6",
   "metadata": {},
   "outputs": [],
   "source": []
  },
  {
   "cell_type": "markdown",
   "id": "daddf4b0-7bbb-4659-81f8-6bf3c2d1c1dd",
   "metadata": {},
   "source": [
    "Y un describe de la columna de species solamente"
   ]
  },
  {
   "cell_type": "code",
   "execution_count": null,
   "id": "a6df2379-16ad-4e2a-a48b-5d8f0523a781",
   "metadata": {},
   "outputs": [],
   "source": []
  },
  {
   "cell_type": "markdown",
   "id": "60424698-b5d6-44e9-a90a-f7639782fbc2",
   "metadata": {},
   "source": [
    "### 15.7.3  Visualizar el Dataset con Pairplot"
   ]
  },
  {
   "cell_type": "markdown",
   "id": "5416b68a-a224-4d22-8306-63395b41ed9c",
   "metadata": {},
   "source": [
    "Importa seaborn si no lo has hecho"
   ]
  },
  {
   "cell_type": "code",
   "execution_count": null,
   "id": "48886db4-1416-410d-933a-f5549f04d8ad",
   "metadata": {},
   "outputs": [],
   "source": []
  },
  {
   "cell_type": "markdown",
   "id": "5d9f64f5-224b-4b22-99d7-d9425c13b668",
   "metadata": {},
   "source": [
    "Cambia la fuente a 1.1"
   ]
  },
  {
   "cell_type": "code",
   "execution_count": null,
   "id": "a1c808c3-935c-47ed-9d4f-3b43088a540f",
   "metadata": {},
   "outputs": [],
   "source": []
  },
  {
   "cell_type": "markdown",
   "id": "193ade9d-1538-42fd-a0ca-2f746eb5aaf1",
   "metadata": {},
   "source": [
    "Ponlo estilo whitegrid"
   ]
  },
  {
   "cell_type": "code",
   "execution_count": null,
   "id": "0620b42b-cdde-41bc-86fb-9bbb793b679c",
   "metadata": {},
   "outputs": [],
   "source": []
  },
  {
   "cell_type": "markdown",
   "id": "df2076e8-c6e0-4548-a513-e8653a381e96",
   "metadata": {},
   "source": [
    "Arma tu pairplot en un objeto llamado cuadricula"
   ]
  },
  {
   "cell_type": "code",
   "execution_count": null,
   "id": "309dfd3d-9861-4240-bb3f-1714d1542a04",
   "metadata": {},
   "outputs": [],
   "source": []
  },
  {
   "cell_type": "markdown",
   "id": "57ea5b30-0012-42b4-b64a-b5ea2dca7ba2",
   "metadata": {},
   "source": [
    "Ahora mostremos el pairplot en un solo color"
   ]
  },
  {
   "cell_type": "code",
   "execution_count": null,
   "id": "c28d6c27-2cee-4a0a-a7c7-5edbd58e4d38",
   "metadata": {},
   "outputs": [],
   "source": []
  },
  {
   "cell_type": "markdown",
   "id": "c6947fac-53f4-4139-b6a8-66e77242156a",
   "metadata": {},
   "source": [
    "### 15.7.4  Usar un estimador KMeans"
   ]
  },
  {
   "cell_type": "markdown",
   "id": "795ffa9b-56f1-45f8-96cf-71eba4dcf077",
   "metadata": {},
   "source": [
    "Vamos a importar Kmeans desde sklearn.cluster"
   ]
  },
  {
   "cell_type": "code",
   "execution_count": null,
   "id": "dceafe34-47cf-46db-b4b8-4f0014063a0a",
   "metadata": {},
   "outputs": [],
   "source": []
  },
  {
   "cell_type": "markdown",
   "id": "a7b040c6-ee96-42d3-9b43-f444a4cf03f3",
   "metadata": {},
   "source": [
    "Ahora creamos el estimador"
   ]
  },
  {
   "cell_type": "code",
   "execution_count": null,
   "id": "2e80ee04-3f58-4e56-ba9a-8bcab225cce4",
   "metadata": {},
   "outputs": [],
   "source": []
  },
  {
   "cell_type": "markdown",
   "id": "d831656a-6848-46e2-b088-7b2a94d07e41",
   "metadata": {},
   "source": [
    "Entrenamos el modelo con el metodo .fit"
   ]
  },
  {
   "cell_type": "code",
   "execution_count": null,
   "id": "016df048-1193-402a-882c-efdbc95d87de",
   "metadata": {},
   "outputs": [],
   "source": []
  },
  {
   "cell_type": "markdown",
   "id": "eae8693c-0b64-4bcf-9968-2bf706021a5d",
   "metadata": {},
   "source": [
    "Imprimimos los primeros 50 resultados"
   ]
  },
  {
   "cell_type": "code",
   "execution_count": null,
   "id": "3a4a4725-41ff-491d-ad6a-f9fc99186e0a",
   "metadata": {},
   "outputs": [],
   "source": []
  },
  {
   "cell_type": "markdown",
   "id": "5a182abd-da89-42d6-8246-8941655a637f",
   "metadata": {},
   "source": [
    "Ahora los segundos 50"
   ]
  },
  {
   "cell_type": "code",
   "execution_count": null,
   "id": "c6f8056a-0dd1-4944-a3a5-14e7f7ca7e12",
   "metadata": {},
   "outputs": [],
   "source": []
  },
  {
   "cell_type": "markdown",
   "id": "98c07b58-350b-4e9f-a510-20c075fb15ec",
   "metadata": {},
   "source": [
    "Y los ultimos 50"
   ]
  },
  {
   "cell_type": "code",
   "execution_count": null,
   "id": "c1d89565-0809-4de8-8d87-0b6e8730b9d8",
   "metadata": {},
   "outputs": [],
   "source": []
  },
  {
   "cell_type": "markdown",
   "id": "09693f9a-ef6c-46b1-b16d-38393306d0c8",
   "metadata": {},
   "source": [
    "### 15.7.4  Reducción de dimensionalidad con PCA"
   ]
  },
  {
   "cell_type": "markdown",
   "id": "d6525a7d-164c-41b9-9e26-763321b11bf1",
   "metadata": {},
   "source": [
    "Importa PCA de sklearn.decomposition"
   ]
  },
  {
   "cell_type": "code",
   "execution_count": null,
   "id": "120c2a02-e1f2-4f9a-8b79-7549547f25bd",
   "metadata": {},
   "outputs": [],
   "source": []
  },
  {
   "cell_type": "markdown",
   "id": "426fa601-7501-410b-8314-da515989fc60",
   "metadata": {},
   "source": [
    "Arma tu estimador PCA"
   ]
  },
  {
   "cell_type": "code",
   "execution_count": null,
   "id": "7fa0657f-b214-4ae7-8e87-d24c0c60bf3e",
   "metadata": {},
   "outputs": [],
   "source": []
  },
  {
   "cell_type": "markdown",
   "id": "e2d56252-9910-43a6-b573-5356f92809dc",
   "metadata": {},
   "source": [
    "Arma el fit"
   ]
  },
  {
   "cell_type": "code",
   "execution_count": null,
   "id": "18d18cec-01cb-4028-885f-dca6a3cd276d",
   "metadata": {},
   "outputs": [],
   "source": []
  },
  {
   "cell_type": "markdown",
   "id": "9a4c4378-02d7-43a9-b3ae-5447e0c9ef2a",
   "metadata": {},
   "source": [
    "Y luego transforma los datos usando transform"
   ]
  },
  {
   "cell_type": "code",
   "execution_count": null,
   "id": "883875d1-e0bf-464c-944e-8424eae40e7b",
   "metadata": {},
   "outputs": [],
   "source": []
  },
  {
   "cell_type": "markdown",
   "id": "ecbc0b96-95b4-42c6-a568-6618c77dfe01",
   "metadata": {},
   "source": [
    "checa la figura de los datos que devolvió"
   ]
  },
  {
   "cell_type": "code",
   "execution_count": null,
   "id": "02d18ea6-3551-455f-ad0e-298263262e32",
   "metadata": {},
   "outputs": [],
   "source": []
  },
  {
   "cell_type": "markdown",
   "id": "a030d590-4e83-463f-b149-5b08e424fd7d",
   "metadata": {},
   "source": [
    "Veamos losd datos reducidos, pasa esos nuevos datos a un dataframe"
   ]
  },
  {
   "cell_type": "code",
   "execution_count": null,
   "id": "2084a967-d786-41fa-a449-03a866107b43",
   "metadata": {},
   "outputs": [],
   "source": []
  },
  {
   "cell_type": "markdown",
   "id": "371dba41-c808-4606-a3ec-ff42c09d0287",
   "metadata": {},
   "source": [
    "pegale la especie a ese dataframe"
   ]
  },
  {
   "cell_type": "code",
   "execution_count": null,
   "id": "9a780d13-ec07-49b2-8f24-a3e7ca8cf80d",
   "metadata": {},
   "outputs": [],
   "source": []
  },
  {
   "cell_type": "markdown",
   "id": "3db09379-3355-442e-8ed0-e2b59367648a",
   "metadata": {},
   "source": [
    "arma un scatterplot en seaborn"
   ]
  },
  {
   "cell_type": "code",
   "execution_count": null,
   "id": "57014798-5558-49f1-8cb0-996b359c3bd1",
   "metadata": {},
   "outputs": [],
   "source": []
  },
  {
   "cell_type": "markdown",
   "id": "63352fcf-bc85-4c2f-8408-fc0b548ec21a",
   "metadata": {},
   "source": [
    "Vamos armando un objeto centroide para mostrar en seaborn"
   ]
  },
  {
   "cell_type": "code",
   "execution_count": null,
   "id": "49208a63-9eaa-4f19-881c-b179d2173ecf",
   "metadata": {},
   "outputs": [],
   "source": []
  },
  {
   "cell_type": "markdown",
   "id": "6e3d94c1-da57-4227-9387-0669752db839",
   "metadata": {},
   "source": [
    "importa matplotlib"
   ]
  },
  {
   "cell_type": "code",
   "execution_count": null,
   "id": "e5cd38c5-c391-46ff-96af-2d48188e7514",
   "metadata": {},
   "outputs": [],
   "source": []
  },
  {
   "cell_type": "markdown",
   "id": "539ee7c8-315e-4496-b2e8-890f168f7d64",
   "metadata": {},
   "source": [
    "Muestra los scatter"
   ]
  },
  {
   "cell_type": "code",
   "execution_count": null,
   "id": "d4acf40d-4916-4671-b7eb-96b3e562753d",
   "metadata": {},
   "outputs": [],
   "source": []
  },
  {
   "cell_type": "markdown",
   "id": "f2c459e0-1b44-494e-a8af-0d40a1db6707",
   "metadata": {},
   "source": [
    "### 15.7.4  Escoger el mejor estimador de CLustering"
   ]
  },
  {
   "cell_type": "markdown",
   "id": "70da816a-a428-42aa-9ef2-3064210cb4bb",
   "metadata": {},
   "source": [
    "importa DBSCAN, Meanshift, spectral clustering, agglomerative clustering"
   ]
  },
  {
   "cell_type": "code",
   "execution_count": null,
   "id": "4787e2e8-4637-45ef-b3a2-6d7cb398e7d8",
   "metadata": {},
   "outputs": [],
   "source": []
  },
  {
   "cell_type": "markdown",
   "id": "876f0b94-3791-432a-9ffd-60e9a5cded14",
   "metadata": {},
   "source": [
    "Arma un diccionario con los estimadores"
   ]
  },
  {
   "cell_type": "code",
   "execution_count": null,
   "id": "f36974b2-54a5-447b-89cf-229ee5c7ba3e",
   "metadata": {},
   "outputs": [],
   "source": []
  },
  {
   "cell_type": "markdown",
   "id": "ba7bdef2-494e-4514-90d5-e50e8ff267d3",
   "metadata": {},
   "source": [
    "importa Numpy as np"
   ]
  },
  {
   "cell_type": "code",
   "execution_count": null,
   "id": "ce29ca86-c10a-42df-86aa-765569812581",
   "metadata": {},
   "outputs": [],
   "source": []
  },
  {
   "cell_type": "markdown",
   "id": "983ee023-d68b-4308-b8f9-7290eb4bcf56",
   "metadata": {},
   "source": [
    "arma el for que va a hacer los estimadores"
   ]
  },
  {
   "cell_type": "code",
   "execution_count": null,
   "id": "699eda59-dd59-41a3-82f8-fcb2e7955ee6",
   "metadata": {},
   "outputs": [],
   "source": []
  },
  {
   "cell_type": "code",
   "execution_count": null,
   "id": "bb0e7319-c113-4534-9b90-72ee5a85423c",
   "metadata": {},
   "outputs": [],
   "source": []
  }
 ],
 "metadata": {
  "kernelspec": {
   "display_name": "base",
   "language": "python",
   "name": "python3"
  },
  "language_info": {
   "codemirror_mode": {
    "name": "ipython",
    "version": 3
   },
   "file_extension": ".py",
   "mimetype": "text/x-python",
   "name": "python",
   "nbconvert_exporter": "python",
   "pygments_lexer": "ipython3",
   "version": "3.9.13"
  },
  "vscode": {
   "interpreter": {
    "hash": "1d352225c9fd865626f524f90127d68c796d3c92b986ba8ae09ad66b79047805"
   }
  }
 },
 "nbformat": 4,
 "nbformat_minor": 5
}
