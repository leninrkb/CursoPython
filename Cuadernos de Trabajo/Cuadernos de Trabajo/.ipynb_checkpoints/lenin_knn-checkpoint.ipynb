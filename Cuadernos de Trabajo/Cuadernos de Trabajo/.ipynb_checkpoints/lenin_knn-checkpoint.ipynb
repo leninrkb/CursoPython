{
 "cells": [
  {
   "cell_type": "markdown",
   "id": "ab7d14f4-cc22-444d-bc82-6b2b15604191",
   "metadata": {},
   "source": [
    "### importo lo necesario"
   ]
  },
  {
   "cell_type": "code",
   "execution_count": 41,
   "id": "509f7229-6ed2-42c3-b0d9-193496ea2221",
   "metadata": {},
   "outputs": [],
   "source": [
    "import matplotlib.pyplot as plt\n",
    "import pandas as pd\n",
    "import csv\n",
    "from sklearn.neighbors import KNeighborsClassifier"
   ]
  },
  {
   "cell_type": "markdown",
   "id": "9f27e14c-83a3-4e3a-b18c-45f41eebb376",
   "metadata": {},
   "source": [
    "### preparo los datos: pandas"
   ]
  },
  {
   "cell_type": "code",
   "execution_count": 36,
   "id": "b8047db1-9321-494a-a88b-746fafe4fa60",
   "metadata": {},
   "outputs": [
    {
     "name": "stdout",
     "output_type": "stream",
     "text": [
      "train: (60000, 785) test: (10000, 785)\n"
     ]
    }
   ],
   "source": [
    "#preparo los datos\n",
    "datos_train = pd.read_csv('mnist_train.csv')\n",
    "datos_test = pd.read_csv('mnist_test.csv')\n",
    "print('train:',datos_train.shape,'test:',datos_test.shape)"
   ]
  },
  {
   "cell_type": "markdown",
   "id": "7e78e3ed-c01f-4f95-8a32-b76eaedd8fee",
   "metadata": {},
   "source": [
    "### preparo los datos: csv"
   ]
  },
  {
   "cell_type": "code",
   "execution_count": 31,
   "id": "f6150f48-2959-4cf5-8b74-d5cec1d47fe5",
   "metadata": {},
   "outputs": [],
   "source": [
    "datos_train=[]\n",
    "with open('mnist_train.csv', 'r') as f:\n",
    "  reader = csv.DictReader(f)\n",
    "  for row in reader:\n",
    "    datos_train.append(row)\n",
    "\n",
    "datos_test=[]\n",
    "with open('mnist_test.csv', 'r') as f:\n",
    "  reader = csv.DictReader(f)\n",
    "  for row in reader:\n",
    "    datos_test.append(row)"
   ]
  },
  {
   "cell_type": "markdown",
   "id": "c8e70fbf-4250-4872-a005-c846fb9d486d",
   "metadata": {},
   "source": [
    "### preparo train y test"
   ]
  },
  {
   "cell_type": "code",
   "execution_count": 38,
   "id": "cef1cd4a-a85b-43a8-96ce-000a84bad7e9",
   "metadata": {},
   "outputs": [
    {
     "data": {
      "text/plain": [
       "0    5\n",
       "1    0\n",
       "2    4\n",
       "3    1\n",
       "4    9\n",
       "Name: label, dtype: int64"
      ]
     },
     "execution_count": 38,
     "metadata": {},
     "output_type": "execute_result"
    }
   ],
   "source": [
    "xtrain = datos_train.drop('label',axis=1)\n",
    "xtrain.head(5)\n",
    "ytrain = datos_train.iloc[:,0]\n",
    "ytrain.head(5)"
   ]
  },
  {
   "cell_type": "code",
   "execution_count": 39,
   "id": "d88d100a-ca7b-4e72-afc6-48ccbea8026a",
   "metadata": {},
   "outputs": [
    {
     "data": {
      "text/plain": [
       "0    7\n",
       "1    2\n",
       "2    1\n",
       "3    0\n",
       "4    4\n",
       "Name: label, dtype: int64"
      ]
     },
     "execution_count": 39,
     "metadata": {},
     "output_type": "execute_result"
    }
   ],
   "source": [
    "xtest = datos_test.drop('label',axis=1)\n",
    "xtest.head(5)\n",
    "ytest = datos_test.iloc[:,0]\n",
    "ytest.head(5)"
   ]
  },
  {
   "cell_type": "markdown",
   "id": "c6ce2a01-203e-4bdb-aa43-30ea58f07613",
   "metadata": {},
   "source": [
    "### trabajando con el modelo: KNN"
   ]
  },
  {
   "cell_type": "code",
   "execution_count": 43,
   "id": "8370ca6c-7ed5-43f4-9643-34cc1db8807b",
   "metadata": {},
   "outputs": [],
   "source": [
    "#creo un objeto de tipo KNeighborsClassifier\n",
    "knn = KNeighborsClassifier()"
   ]
  },
  {
   "cell_type": "code",
   "execution_count": 44,
   "id": "c276bc93-d460-427e-9400-8fae2b8516b2",
   "metadata": {},
   "outputs": [
    {
     "data": {
      "text/plain": [
       "KNeighborsClassifier()"
      ]
     },
     "execution_count": 44,
     "metadata": {},
     "output_type": "execute_result"
    }
   ],
   "source": [
    "#entreno\n",
    "knn.fit(X=xtrain, y=ytrain) \n",
    "#retorna una funcion con el modelo ya preparado\n",
    "#se ejecuta unicamente cuando ya se lo llame, esto con el fin de no empezar el entrenamiento antes de\n",
    "#que realmente se desea llevar a cabo la accion en cuestion"
   ]
  },
  {
   "cell_type": "code",
   "execution_count": 45,
   "id": "bd98c80d-6981-46cc-b3e0-00b306e82cf4",
   "metadata": {},
   "outputs": [],
   "source": [
    "prediccion = knn.predict(X=xtest) #llama la funcion anterior, entrena y retorna las predicicones\n",
    "esperado = ytest"
   ]
  },
  {
   "cell_type": "code",
   "execution_count": 51,
   "id": "519b953d-8211-4894-ab18-848f5d215b96",
   "metadata": {},
   "outputs": [
    {
     "name": "stdout",
     "output_type": "stream",
     "text": [
      "[7 2 1 0 4 1 4 9 5 9]\n",
      "0    7\n",
      "1    2\n",
      "2    1\n",
      "3    0\n",
      "4    4\n",
      "5    1\n",
      "6    4\n",
      "7    9\n",
      "8    5\n",
      "9    9\n",
      "Name: label, dtype: int64\n"
     ]
    }
   ],
   "source": [
    "print(prediccion[:10])\n",
    "print(esperado[:10])"
   ]
  },
  {
   "cell_type": "code",
   "execution_count": 52,
   "id": "3e3bdc98-934a-4e7b-b121-62fbba30ceee",
   "metadata": {},
   "outputs": [
    {
     "name": "stdout",
     "output_type": "stream",
     "text": [
      "96.88%\n"
     ]
    }
   ],
   "source": [
    "# exactitud de este modelo\n",
    "print(f'{knn.score(xtest, ytest):.2%}')"
   ]
  },
  {
   "cell_type": "code",
   "execution_count": null,
   "id": "6831872e-7e04-4275-b353-6ee4a58bee3e",
   "metadata": {},
   "outputs": [],
   "source": []
  }
 ],
 "metadata": {
  "kernelspec": {
   "display_name": "Python 3 (ipykernel)",
   "language": "python",
   "name": "python3"
  },
  "language_info": {
   "codemirror_mode": {
    "name": "ipython",
    "version": 3
   },
   "file_extension": ".py",
   "mimetype": "text/x-python",
   "name": "python",
   "nbconvert_exporter": "python",
   "pygments_lexer": "ipython3",
   "version": "3.9.15"
  }
 },
 "nbformat": 4,
 "nbformat_minor": 5
}
