{
 "cells": [
  {
   "cell_type": "code",
   "execution_count": 58,
   "id": "26017fe6-9ec6-4e9c-a787-09f43bc35fe6",
   "metadata": {},
   "outputs": [],
   "source": [
    "import tensorflow as tf\n",
    "import pandas as pd\n",
    "import numpy as np\n",
    "import matplotlib.pyplot as plt\n",
    "from tensorflow.keras.models import Sequential\n",
    "from tensorflow.keras.layers import Dense, Flatten, Conv2D, MaxPooling2D, Input\n",
    "from tensorflow.keras.preprocessing.image import load_img, img_to_array\n",
    "import cv2\n",
    "import os\n",
    "from sklearn.model_selection import train_test_split\n"
   ]
  },
  {
   "cell_type": "code",
   "execution_count": 59,
   "id": "ee12f79f-7d35-40ab-8afc-69ea75590794",
   "metadata": {},
   "outputs": [],
   "source": [
    "DATADIR = '/home/lenin/Documents/datasets/colores'\n",
    "CATEGORIES = []\n",
    "IMG_SIZE=28"
   ]
  },
  {
   "cell_type": "code",
   "execution_count": 60,
   "id": "e353fba7-94eb-40d1-b7d1-c2fd003796c6",
   "metadata": {},
   "outputs": [
    {
     "name": "stdout",
     "output_type": "stream",
     "text": [
      "['blanco', 'verde', 'gris', 'negro', 'azul', 'amarillo', 'cafe', 'naranja', 'rosado', 'morado', 'rojo', 'celeste'] 12\n"
     ]
    }
   ],
   "source": [
    "for cate in os.listdir(DATADIR):\n",
    "    if cate == 'testimg': continue\n",
    "    CATEGORIES.append(cate)\n",
    "print(CATEGORIES, len(CATEGORIES))"
   ]
  },
  {
   "cell_type": "code",
   "execution_count": 61,
   "id": "bce2b236-87eb-4b77-b1da-7977d7cf26b5",
   "metadata": {},
   "outputs": [
    {
     "name": "stderr",
     "output_type": "stream",
     "text": [
      "/home/lenin/Apps/anaconda3/lib/python3.9/site-packages/PIL/Image.py:979: UserWarning: Palette images with Transparency expressed in bytes should be converted to RGBA images\n",
      "  warnings.warn(\n"
     ]
    },
    {
     "name": "stdout",
     "output_type": "stream",
     "text": [
      "done\n"
     ]
    }
   ],
   "source": [
    "training_data=[]\n",
    "def create_training_data():\n",
    "    labels=0\n",
    "    for category in CATEGORIES:\n",
    "        path=os.path.join(DATADIR, category)\n",
    "        for fname in os.listdir(path):\n",
    "            img = load_img((path+'/'+fname), target_size=(IMG_SIZE,IMG_SIZE))\n",
    "            x = img_to_array(img)\n",
    "            x=x/255\n",
    "            training_data.append([x,labels])\n",
    "        labels+=1\n",
    "    print('done')\n",
    "create_training_data()"
   ]
  },
  {
   "cell_type": "code",
   "execution_count": 62,
   "id": "5a97043e-2a22-4348-a627-7b288f0750f3",
   "metadata": {},
   "outputs": [
    {
     "name": "stdout",
     "output_type": "stream",
     "text": [
      "2400\n"
     ]
    }
   ],
   "source": [
    "lenofimage = len(training_data)\n",
    "print(lenofimage)"
   ]
  },
  {
   "cell_type": "code",
   "execution_count": 63,
   "id": "602d12db-9234-481c-85db-a5f77b81e1bd",
   "metadata": {},
   "outputs": [
    {
     "name": "stdout",
     "output_type": "stream",
     "text": [
      "done\n"
     ]
    }
   ],
   "source": [
    "X=[]\n",
    "y=[]\n",
    "for img, label in training_data:\n",
    "    X.append(img)\n",
    "    y.append(label)\n",
    "print('done')"
   ]
  },
  {
   "cell_type": "code",
   "execution_count": 64,
   "id": "fbd40671-38ce-40d5-957f-1d6d3bd88689",
   "metadata": {},
   "outputs": [
    {
     "name": "stdout",
     "output_type": "stream",
     "text": [
      "labels (2400,)\n",
      "img (2400, 28, 28, 3)\n"
     ]
    }
   ],
   "source": [
    "X=np.array(X)\n",
    "y=np.array(y)\n",
    "print('labels',y.shape)\n",
    "print('img',X.shape)"
   ]
  },
  {
   "cell_type": "code",
   "execution_count": 65,
   "id": "b72ad600-147f-48fb-aaaf-ce7371cbb17c",
   "metadata": {},
   "outputs": [],
   "source": [
    "X_train, X_test, y_train, y_test = train_test_split(X,y)"
   ]
  },
  {
   "cell_type": "code",
   "execution_count": 66,
   "id": "1cde674f-e53c-40c2-8a58-63586b0d9f77",
   "metadata": {},
   "outputs": [
    {
     "name": "stdout",
     "output_type": "stream",
     "text": [
      "train: 1800, test: 600\n"
     ]
    }
   ],
   "source": [
    "print(f'train: {len(X_train)}, test: {len(X_test)}')"
   ]
  },
  {
   "cell_type": "code",
   "execution_count": 115,
   "id": "dfd474de-89b5-4ea3-91fa-8179ba3196e3",
   "metadata": {},
   "outputs": [],
   "source": [
    "model = Sequential([\n",
    "    Conv2D(32, (3,3), activation='relu', padding='SAME', input_shape=X_train[0].shape),\n",
    "    MaxPooling2D((3,3)),\n",
    "    Flatten(),\n",
    "    Dense(15, activation='relu'),\n",
    "    Dense(len(CATEGORIES), activation='softmax'),\n",
    "])"
   ]
  },
  {
   "cell_type": "code",
   "execution_count": 97,
   "id": "6d494fee-3c0d-427d-bd88-1588b80fa883",
   "metadata": {},
   "outputs": [],
   "source": [
    "# model.summary()"
   ]
  },
  {
   "cell_type": "code",
   "execution_count": 116,
   "id": "2f859ae6-7cb4-49ea-bbbd-4750174cedf5",
   "metadata": {},
   "outputs": [
    {
     "name": "stdout",
     "output_type": "stream",
     "text": [
      "Epoch 1/15\n",
      "90/90 [==============================] - 2s 9ms/step - loss: 2.0689 - accuracy: 0.2839\n",
      "Epoch 2/15\n",
      "90/90 [==============================] - 1s 9ms/step - loss: 1.3261 - accuracy: 0.6150\n",
      "Epoch 3/15\n",
      "90/90 [==============================] - 1s 11ms/step - loss: 1.0398 - accuracy: 0.6906\n",
      "Epoch 4/15\n",
      "90/90 [==============================] - 1s 10ms/step - loss: 0.8155 - accuracy: 0.7417\n",
      "Epoch 5/15\n",
      "90/90 [==============================] - 1s 10ms/step - loss: 0.6452 - accuracy: 0.8039\n",
      "Epoch 6/15\n",
      "90/90 [==============================] - 1s 10ms/step - loss: 0.5612 - accuracy: 0.8078\n",
      "Epoch 7/15\n",
      "90/90 [==============================] - 1s 9ms/step - loss: 0.4532 - accuracy: 0.8433\n",
      "Epoch 8/15\n",
      "90/90 [==============================] - 1s 9ms/step - loss: 0.3871 - accuracy: 0.8572\n",
      "Epoch 9/15\n",
      "90/90 [==============================] - 1s 9ms/step - loss: 0.3311 - accuracy: 0.9033\n",
      "Epoch 10/15\n",
      "90/90 [==============================] - 1s 10ms/step - loss: 0.2977 - accuracy: 0.8978\n",
      "Epoch 11/15\n",
      "90/90 [==============================] - 1s 11ms/step - loss: 0.2947 - accuracy: 0.8967\n",
      "Epoch 12/15\n",
      "90/90 [==============================] - 1s 11ms/step - loss: 0.2697 - accuracy: 0.8989\n",
      "Epoch 13/15\n",
      "90/90 [==============================] - 1s 10ms/step - loss: 0.2433 - accuracy: 0.9161\n",
      "Epoch 14/15\n",
      "90/90 [==============================] - 1s 9ms/step - loss: 0.2248 - accuracy: 0.9239\n",
      "Epoch 15/15\n",
      "90/90 [==============================] - 1s 9ms/step - loss: 0.2087 - accuracy: 0.9278\n"
     ]
    },
    {
     "data": {
      "text/plain": [
       "<keras.callbacks.History at 0x7f94f822b9d0>"
      ]
     },
     "execution_count": 116,
     "metadata": {},
     "output_type": "execute_result"
    }
   ],
   "source": [
    "model.compile(optimizer='adam', loss='sparse_categorical_crossentropy', metrics=['accuracy'])\n",
    "model.fit(X_train, y_train, epochs=15, batch_size=20)"
   ]
  },
  {
   "cell_type": "code",
   "execution_count": 117,
   "id": "5d7ea52d-23cd-4728-96e0-8e4752f448f8",
   "metadata": {},
   "outputs": [
    {
     "name": "stdout",
     "output_type": "stream",
     "text": [
      "test loss 0.2889305055141449\n",
      "test accuracy 0.9100000262260437\n"
     ]
    }
   ],
   "source": [
    "test_loss, test_accuracy = model.evaluate(X_test, y_test, verbose=0)\n",
    "print('test loss',test_loss)\n",
    "print('test accuracy',test_accuracy)"
   ]
  },
  {
   "cell_type": "code",
   "execution_count": 121,
   "id": "e86bf61d-018e-411a-9a1f-683777c7daf2",
   "metadata": {},
   "outputs": [
    {
     "name": "stdout",
     "output_type": "stream",
     "text": [
      "1/1 [==============================] - 0s 24ms/step\n",
      "prediccion = cafe\n"
     ]
    },
    {
     "data": {
      "image/png": "[encoded data removed]",
      "text/plain": [
       "<Figure size 640x480 with 1 Axes>"
      ]
     },
     "metadata": {},
     "output_type": "display_data"
    }
   ],
   "source": [
    "path = DATADIR + '/testimg' + '/48.jpg'\n",
    "img = load_img(path, target_size=(IMG_SIZE,IMG_SIZE))\n",
    "x = img_to_array(img)\n",
    "x=x/255\n",
    "x = x[np.newaxis, ...]\n",
    "plt.imshow(img)\n",
    "resp = model.predict(x)\n",
    "print(f'prediccion = {CATEGORIES[np.argmax(resp[0])]}')"
   ]
  },
  {
   "cell_type": "code",
   "execution_count": 73,
   "id": "d61211a5-3416-449d-9764-f9a5be8c2b29",
   "metadata": {},
   "outputs": [],
   "source": [
    "model.save('mod_color_v1.h5')"
   ]
  },
  {
   "cell_type": "code",
   "execution_count": null,
   "id": "a12a6d2b-031b-42ea-af87-cb3a32e54d37",
   "metadata": {},
   "outputs": [],
   "source": []
  }
 ],
 "metadata": {
  "kernelspec": {
   "display_name": "Python 3 (ipykernel)",
   "language": "python",
   "name": "python3"
  },
  "language_info": {
   "codemirror_mode": {
    "name": "ipython",
    "version": 3
   },
   "file_extension": ".py",
   "mimetype": "text/x-python",
   "name": "python",
   "nbconvert_exporter": "python",
   "pygments_lexer": "ipython3",
   "version": "3.9.15"
  }
 },
 "nbformat": 4,
 "nbformat_minor": 5
}
