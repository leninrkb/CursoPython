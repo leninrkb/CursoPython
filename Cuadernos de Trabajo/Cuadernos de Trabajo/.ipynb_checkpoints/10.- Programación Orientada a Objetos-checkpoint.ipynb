{
 "cells": [
  {
   "cell_type": "markdown",
   "id": "301c0d4d-8cca-497b-a778-d78262aff151",
   "metadata": {},
   "source": [
    "# 10.- Programación Orientada a Objetos"
   ]
  },
  {
   "cell_type": "markdown",
   "id": "ccb9c437-96be-4ed0-9d2a-15237fa3c108",
   "metadata": {},
   "source": [
    "## 10.2.- Metodos y Clases"
   ]
  },
  {
   "cell_type": "markdown",
   "id": "6de2362b-82ba-44ab-b7ed-61b7daf0ed83",
   "metadata": {},
   "source": [
    "Vamos a crear una clase \"Mascota\" con los atributos tipo (pequeño), raza (chihuahaua), y tarea (guardian)\n",
    "\n",
    "Imprime los atributos raza y tarea"
   ]
  },
  {
   "cell_type": "code",
   "execution_count": 2,
   "id": "7a3db4a6-3e13-4a7b-8aef-d116e7c4a75a",
   "metadata": {},
   "outputs": [],
   "source": [
    "class Mascota:\n",
    "    tipo='peque'\n",
    "    raza='chihuahua'\n",
    "    tarea='guardian'"
   ]
  },
  {
   "cell_type": "code",
   "execution_count": 3,
   "id": "3c88d1b6-c2f3-4f0f-b47d-5cdb24ddeb31",
   "metadata": {},
   "outputs": [
    {
     "data": {
      "text/plain": [
       "'guardian'"
      ]
     },
     "execution_count": 3,
     "metadata": {},
     "output_type": "execute_result"
    }
   ],
   "source": [
    "perro = Mascota()\n",
    "perro.tarea"
   ]
  },
  {
   "cell_type": "markdown",
   "id": "91f895d9-1fc3-42b6-beb1-e749b8ee4f31",
   "metadata": {},
   "source": [
    "Cambia el atributo tarea por amigo, imprimelo"
   ]
  },
  {
   "cell_type": "code",
   "execution_count": 7,
   "id": "83464d55-1eb2-4392-bdef-92c4393367be",
   "metadata": {},
   "outputs": [
    {
     "data": {
      "text/plain": [
       "'amigo'"
      ]
     },
     "execution_count": 7,
     "metadata": {},
     "output_type": "execute_result"
    }
   ],
   "source": [
    "setattr(perro,'tarea','amigo')\n",
    "perro.tarea"
   ]
  },
  {
   "cell_type": "code",
   "execution_count": 8,
   "id": "3f84c39b-7f81-41a3-b55b-1f345c81f106",
   "metadata": {},
   "outputs": [
    {
     "data": {
      "text/plain": [
       "'guardian'"
      ]
     },
     "execution_count": 8,
     "metadata": {},
     "output_type": "execute_result"
    }
   ],
   "source": [
    "delattr(perro,'tarea')\n",
    "perro.tarea\n",
    "#restaura los valores default del obj"
   ]
  },
  {
   "cell_type": "markdown",
   "id": "b0882dd9-6743-465a-9e46-4cd1a2c49d9e",
   "metadata": {},
   "source": [
    "Vamos a hacer ahora un registro de aspirante a un puesto, creamos una clase \"Registro\""
   ]
  },
  {
   "cell_type": "code",
   "execution_count": 10,
   "id": "8143fd46-f4a5-4956-acaa-4ecc573a03a6",
   "metadata": {},
   "outputs": [],
   "source": [
    "class Registro:\n",
    "    pass"
   ]
  },
  {
   "cell_type": "code",
   "execution_count": 14,
   "id": "203be262-0f94-49e6-bc86-f19b2d1d5d78",
   "metadata": {},
   "outputs": [],
   "source": [
    "lenin = Registro()\n",
    "lenin.edad = 22 #creo nuevos atributos que no estan originalmente en el objeto\n",
    "lenin.exp = 6\n",
    "\n",
    "eva = Registro()\n",
    "eva.edad = 23 #creo nuevos atributos que no estan originalmente en el objeto\n",
    "eva.exp = 4\n",
    "eva.est='soltera'"
   ]
  },
  {
   "cell_type": "code",
   "execution_count": 20,
   "id": "110c2714-75bd-4694-b876-4dacae4bae41",
   "metadata": {},
   "outputs": [
    {
     "name": "stdout",
     "output_type": "stream",
     "text": [
      "22\n",
      "23\n",
      "soltera\n"
     ]
    },
    {
     "ename": "AttributeError",
     "evalue": "'Registro' object has no attribute 'est'",
     "output_type": "error",
     "traceback": [
      "\u001b[0;31m---------------------------------------------------------------------------\u001b[0m",
      "\u001b[0;31mAttributeError\u001b[0m                            Traceback (most recent call last)",
      "\u001b[0;32m/tmp/ipykernel_26188/736272190.py\u001b[0m in \u001b[0;36m<module>\u001b[0;34m\u001b[0m\n\u001b[1;32m      2\u001b[0m \u001b[0mprint\u001b[0m\u001b[0;34m(\u001b[0m\u001b[0meva\u001b[0m\u001b[0;34m.\u001b[0m\u001b[0medad\u001b[0m\u001b[0;34m)\u001b[0m\u001b[0;34m\u001b[0m\u001b[0;34m\u001b[0m\u001b[0m\n\u001b[1;32m      3\u001b[0m \u001b[0mprint\u001b[0m\u001b[0;34m(\u001b[0m\u001b[0meva\u001b[0m\u001b[0;34m.\u001b[0m\u001b[0mest\u001b[0m\u001b[0;34m)\u001b[0m\u001b[0;34m\u001b[0m\u001b[0;34m\u001b[0m\u001b[0m\n\u001b[0;32m----> 4\u001b[0;31m \u001b[0mprint\u001b[0m\u001b[0;34m(\u001b[0m\u001b[0mlenin\u001b[0m\u001b[0;34m.\u001b[0m\u001b[0mest\u001b[0m\u001b[0;34m)\u001b[0m\u001b[0;34m\u001b[0m\u001b[0;34m\u001b[0m\u001b[0m\n\u001b[0m",
      "\u001b[0;31mAttributeError\u001b[0m: 'Registro' object has no attribute 'est'"
     ]
    }
   ],
   "source": [
    "print(lenin.edad)\n",
    "print(eva.edad)\n",
    "print(eva.est)\n",
    "print(lenin.est)"
   ]
  },
  {
   "cell_type": "markdown",
   "id": "1e50df73-61f0-47d0-bed0-420d0667038c",
   "metadata": {},
   "source": [
    "Ahora creemos la clase \"Oferta\", que tendrá una función aplicada a ella llamda Descuento - sus valores iniciales seran un costo de 1200 y un descuento del 0.15"
   ]
  },
  {
   "cell_type": "code",
   "execution_count": 4,
   "id": "3c31bcef-0591-495b-843e-c634c26e772b",
   "metadata": {},
   "outputs": [],
   "source": [
    "class Oferta:\n",
    "    def descuento(self):\n",
    "        self.costo=12\n",
    "        self.desc=0.15"
   ]
  },
  {
   "cell_type": "code",
   "execution_count": 5,
   "id": "289d02c4-e74c-40de-840c-1b488f9689c6",
   "metadata": {},
   "outputs": [
    {
     "name": "stdout",
     "output_type": "stream",
     "text": [
      "1.7999999999999998\n"
     ]
    }
   ],
   "source": [
    "r = Oferta()\n",
    "r.descuento()\n",
    "print(r.costo * r.desc)"
   ]
  },
  {
   "cell_type": "markdown",
   "id": "5eeb42af-4c52-4c34-9c3b-1aade04d6890",
   "metadata": {},
   "source": [
    "## 10.3.- La clase \"Cuenta\""
   ]
  },
  {
   "cell_type": "markdown",
   "id": "08f77a21-f430-482d-908a-2b82fdcac649",
   "metadata": {},
   "source": [
    "Ahora vamos a crear una clase que simule una cuenta de banco\n",
    "\n",
    "La clase tendrá 2 funciones - la inicial para marcar el nombre y ahorro, y la de deposito para irle sumando dinero a la cuenta"
   ]
  },
  {
   "cell_type": "code",
   "execution_count": 6,
   "id": "5a9ff1e0-2664-4e59-8415-89444f6786b8",
   "metadata": {},
   "outputs": [],
   "source": [
    "from decimal import Decimal"
   ]
  },
  {
   "cell_type": "code",
   "execution_count": 7,
   "id": "cacc2b0e-2bf0-4d0c-bbde-e44bf5fc588c",
   "metadata": {},
   "outputs": [],
   "source": [
    "class Cuenta:\n",
    "    def __init__(self,nombre,ahorro):\n",
    "        if ahorro < Decimal('0.00'):\n",
    "            raise ValueError('el capital debe ser mayor a cero')\n",
    "        self.nombre = nombre\n",
    "        self.ahorro = ahorro\n",
    "    def deposito(self,c):\n",
    "        if c<Decimal('0.00'):\n",
    "            raise ValueError('la cantidad debe ser positiva')\n",
    "        self.ahorro += c"
   ]
  },
  {
   "cell_type": "code",
   "execution_count": 8,
   "id": "19e6aba8-b776-437b-ae7d-ed513c355abb",
   "metadata": {},
   "outputs": [],
   "source": [
    "c = Cuenta('lenin',2000)"
   ]
  },
  {
   "cell_type": "code",
   "execution_count": 9,
   "id": "7e1b9ba7-8601-4fc6-8cb9-2acf84acb9d4",
   "metadata": {},
   "outputs": [
    {
     "name": "stdout",
     "output_type": "stream",
     "text": [
      "lenin 2000\n"
     ]
    }
   ],
   "source": [
    "print(c.nombre,c.ahorro)"
   ]
  },
  {
   "cell_type": "code",
   "execution_count": 12,
   "id": "b4bddc51-258c-4159-8813-aa4cd7b866e4",
   "metadata": {},
   "outputs": [],
   "source": [
    "c.deposito(90)"
   ]
  },
  {
   "cell_type": "markdown",
   "id": "f7d45aed-d55e-4da1-b0b2-c7cf5a7dadfe",
   "metadata": {},
   "source": [
    "## 10.4.- Herencia"
   ]
  },
  {
   "cell_type": "markdown",
   "id": "08cc0b28-878a-488e-bba1-09b766ee99be",
   "metadata": {},
   "source": [
    "## 10.5.- La clase Personal"
   ]
  },
  {
   "cell_type": "markdown",
   "id": "ff3cd80e-1c97-4d9e-8264-f4d7732d59be",
   "metadata": {},
   "source": [
    "Ahora vamos a simular el personal que labora en una fabrica\n",
    "\n",
    "Creemos la clase Personal, con un afunción que define el nombre, profesión y cargo, y otra función llama detalle que devuelve la oración \"\" es un \"\" y tiene el cargo de \"\""
   ]
  },
  {
   "cell_type": "code",
   "execution_count": 20,
   "id": "f1739209-3b9b-4925-af9b-f6e21edba7da",
   "metadata": {},
   "outputs": [],
   "source": [
    "class Personal:\n",
    "    def __init__(self,nombre,profesion,cargo):\n",
    "        self.nombre=nombre\n",
    "        self.profesion=profesion\n",
    "        self.cargo=cargo\n",
    "    def detalle(self):\n",
    "        return '{} es un {} y tiene el cargo de {}',format(self.nombre,self.profesion,self.cargo)\n"
   ]
  },
  {
   "cell_type": "markdown",
   "id": "2ebd7952-cd1a-4ec6-8351-ebedb0ba64ba",
   "metadata": {},
   "source": [
    "Ahora se muestran estas 2 clases, llamadas pers_nuevo y pers_advo, y heredan la estructura d ela primera"
   ]
  },
  {
   "cell_type": "code",
   "execution_count": 25,
   "id": "0f3169aa-444b-461c-a9aa-fd49057ab977",
   "metadata": {},
   "outputs": [],
   "source": [
    "class Administrativo(Personal):\n",
    "    def contratacion(self,con):\n",
    "        return '{} tiene un contrato: {}'.format(self.nombre,con)"
   ]
  },
  {
   "cell_type": "markdown",
   "id": "4a97aee6-4445-4e04-b400-48d6a8646fd3",
   "metadata": {},
   "source": [
    "Ahora vamos a crear un constructor apara diseñar un bojeto de clase pers_nuevo, que tendrá los atributos de Personal y también el metodo detalle"
   ]
  },
  {
   "cell_type": "code",
   "execution_count": 26,
   "id": "9a266767-0657-4df4-bf7b-efd69f7e2e7f",
   "metadata": {},
   "outputs": [
    {
     "data": {
      "text/plain": [
       "'lenin tiene un contrato: software'"
      ]
     },
     "execution_count": 26,
     "metadata": {},
     "output_type": "execute_result"
    }
   ],
   "source": [
    "p = Administrativo('lenin','ing','admin')\n",
    "p.contratacion('software')"
   ]
  },
  {
   "cell_type": "markdown",
   "id": "5caa1784-0aaf-4d29-9c06-606cfb03a00c",
   "metadata": {},
   "source": [
    "Ahora con la clase Cuenta\n",
    "\n",
    "Importemos decimal\n",
    "\n",
    "y luego definamos cuenta, con de la siguiente manera"
   ]
  },
  {
   "cell_type": "code",
   "execution_count": 27,
   "id": "6bb17119-9db9-4286-89a6-91e60ba6c89a",
   "metadata": {},
   "outputs": [],
   "source": [
    "class Cuenta:\n",
    "    def __init__(self,nombre,ahorro):\n",
    "        if ahorro < Decimal('0.00'):\n",
    "            raise ValueError('el capital debe ser mayor a cero')\n",
    "        self.nombre = nombre\n",
    "        self.ahorro = ahorro\n",
    "    def info(self):\n",
    "        return '{} tiene ahorro de {}'.format(self.nombre,self.ahorro)"
   ]
  },
  {
   "cell_type": "markdown",
   "id": "a4cc372b-26dc-43b3-84b3-a0b45dd9d2f9",
   "metadata": {},
   "source": [
    "Y ahora vamos a darle 2 subclases, la de ahorro y la de gasto. EN la de ahorro nos aseguraremos de devolver la frase \"\" tiene ahora en su cuenta \"\""
   ]
  },
  {
   "cell_type": "code",
   "execution_count": null,
   "id": "b15db194-47a6-46d1-9292-2128372f367c",
   "metadata": {},
   "outputs": [],
   "source": [
    "class Ahorro(Cuenta):\n",
    "    def dep(self,c):\n",
    "        self.ahorro += c"
   ]
  },
  {
   "cell_type": "markdown",
   "id": "78f1351e-af32-4e2f-b6c7-eed08a0aee95",
   "metadata": {},
   "source": [
    "Y en la de gasto vamos a retirar dinero, hay que asegurarse de que se puede hacer el retiro, y que devuelve una frase \"\" tiene ahora en su cuenta \"\""
   ]
  },
  {
   "cell_type": "code",
   "execution_count": null,
   "id": "244cbf00-764d-410f-bca8-b47b0dd84bb5",
   "metadata": {},
   "outputs": [],
   "source": [
    "class Gasto(Cuenta):\n",
    "    def ret(self,c):\n",
    "        self.ahorro -= c"
   ]
  },
  {
   "cell_type": "markdown",
   "id": "ece98648-e7ce-4337-bb6c-24027e2b4d31",
   "metadata": {},
   "source": [
    "## 10.6.- Métodos de Clase"
   ]
  },
  {
   "cell_type": "code",
   "execution_count": null,
   "id": "14156792-cd44-44e7-a721-fd58409b660b",
   "metadata": {},
   "outputs": [],
   "source": []
  },
  {
   "cell_type": "code",
   "execution_count": null,
   "id": "4ecb4225-71f2-46c5-b968-1eccdc65c0a3",
   "metadata": {},
   "outputs": [],
   "source": []
  },
  {
   "cell_type": "code",
   "execution_count": null,
   "id": "7b0a2d27-a716-4856-a3a8-5a8ba7530ccd",
   "metadata": {},
   "outputs": [],
   "source": []
  },
  {
   "cell_type": "markdown",
   "id": "2c9c608f-7697-4da2-90a0-51ae3a640f6f",
   "metadata": {},
   "source": [
    "## 10.7.- Polimorfismo"
   ]
  },
  {
   "cell_type": "markdown",
   "id": "0b3389d2-20a8-4ff3-8303-865ad06049d9",
   "metadata": {},
   "source": [
    "Creemos 2 clases, un llamada matematicas y otra idioma - vamos a darles numeros de cretidos diferentes"
   ]
  },
  {
   "cell_type": "code",
   "execution_count": 1,
   "id": "702162f3-270e-4325-95b5-be52d5287e79",
   "metadata": {},
   "outputs": [
    {
     "name": "stdout",
     "output_type": "stream",
     "text": [
      "mate tiene 8\n"
     ]
    }
   ],
   "source": [
    "class Mate:\n",
    "    cred=8\n",
    "    def creditos(self):\n",
    "        print(f'mate tiene {self.cred}')\n",
    "class Ing:\n",
    "    cred=8\n",
    "    def creditos(self):\n",
    "        print(f'ingles tiene {self.cred}')\n",
    "a = Mate()\n",
    "a.creditos()"
   ]
  },
  {
   "cell_type": "code",
   "execution_count": 2,
   "id": "d0211e1f-9348-4050-bd20-702632dbbcdc",
   "metadata": {},
   "outputs": [
    {
     "name": "stdout",
     "output_type": "stream",
     "text": [
      "ingles tiene 8\n"
     ]
    }
   ],
   "source": [
    "a = Ing()\n",
    "a.creditos()"
   ]
  },
  {
   "cell_type": "markdown",
   "id": "5d7b3e9e-920a-4565-b58f-69cce4305851",
   "metadata": {},
   "source": [
    "Sigue el polimorfismo por método\n",
    "\n",
    "Crearemos diferentes paises, todos con el método moneda"
   ]
  },
  {
   "cell_type": "code",
   "execution_count": 3,
   "id": "735a8f76-6408-4f4e-a568-6c200491652b",
   "metadata": {},
   "outputs": [],
   "source": [
    "class Pais:\n",
    "    def moneda(self):\n",
    "        print('cada pais tiene su moneda')\n",
    "class ec(Pais):\n",
    "    def moneda(self):\n",
    "        print('ecuador tiene su moneda')\n",
    "class ar(Pais):\n",
    "    def moneda(self):\n",
    "        print('argentina tiene su moneda')"
   ]
  },
  {
   "cell_type": "markdown",
   "id": "f92d2df3-ca6a-4267-97a4-bdcdbf392a5f",
   "metadata": {},
   "source": [
    "Muestra los resultados"
   ]
  },
  {
   "cell_type": "code",
   "execution_count": 6,
   "id": "41ec3fdb-6519-438d-929d-627f4e53dc98",
   "metadata": {},
   "outputs": [
    {
     "name": "stdout",
     "output_type": "stream",
     "text": [
      "cada pais tiene su moneda\n"
     ]
    }
   ],
   "source": [
    "d = Pais()\n",
    "d.moneda()"
   ]
  },
  {
   "cell_type": "code",
   "execution_count": 7,
   "id": "1b917be9-5072-4cc9-b679-c89dd939ebe4",
   "metadata": {},
   "outputs": [
    {
     "name": "stdout",
     "output_type": "stream",
     "text": [
      "ecuador tiene su moneda\n"
     ]
    }
   ],
   "source": [
    "d = ec()\n",
    "d.moneda()"
   ]
  },
  {
   "cell_type": "code",
   "execution_count": 8,
   "id": "e1a437cc-3811-429a-808b-80f951b3e596",
   "metadata": {},
   "outputs": [
    {
     "name": "stdout",
     "output_type": "stream",
     "text": [
      "argentina tiene su moneda\n"
     ]
    }
   ],
   "source": [
    "d = ar()\n",
    "d.moneda()"
   ]
  }
 ],
 "metadata": {
  "kernelspec": {
   "display_name": "Python 3 (ipykernel)",
   "language": "python",
   "name": "python3"
  },
  "language_info": {
   "codemirror_mode": {
    "name": "ipython",
    "version": 3
   },
   "file_extension": ".py",
   "mimetype": "text/x-python",
   "name": "python",
   "nbconvert_exporter": "python",
   "pygments_lexer": "ipython3",
   "version": "3.9.15"
  }
 },
 "nbformat": 4,
 "nbformat_minor": 5
}
