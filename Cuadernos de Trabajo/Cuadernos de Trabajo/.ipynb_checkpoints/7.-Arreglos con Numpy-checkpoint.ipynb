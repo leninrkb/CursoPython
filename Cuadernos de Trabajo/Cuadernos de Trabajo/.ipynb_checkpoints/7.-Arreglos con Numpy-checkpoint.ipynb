{
 "cells": [
  {
   "cell_type": "markdown",
   "id": "97440181-c103-476a-92f2-f0f1ecec1172",
   "metadata": {},
   "source": [
    "# 7.- Arreglos con NUMPY"
   ]
  },
  {
   "cell_type": "markdown",
   "id": "fcba5f60-4ce2-4b2b-8ab3-896104c16476",
   "metadata": {},
   "source": [
    "En este capítulo aprenderás a utilizar algunas cualidades básicas de NumPy (Numerical Python).\n",
    "NumPy es una de las librerías más populares de Python, ya que puede procesar listas de múltiples\n",
    "dimensiones"
   ]
  },
  {
   "cell_type": "markdown",
   "id": "bff5b478-ff7c-49cd-bc26-438dafb70e07",
   "metadata": {},
   "source": [
    "## 7.2.- Arreglo de Datos"
   ]
  },
  {
   "cell_type": "markdown",
   "id": "c7835682-242d-40e4-9908-daf68081945b",
   "metadata": {},
   "source": [
    "Como en la sección anterior, invocaremos a la librería NumPy como np"
   ]
  },
  {
   "cell_type": "code",
   "execution_count": 3,
   "id": "2cde2abf-8d84-467b-b59d-d8866870e94f",
   "metadata": {},
   "outputs": [],
   "source": [
    "import numpy as np"
   ]
  },
  {
   "cell_type": "markdown",
   "id": "642ae354-9ae2-40e0-acdc-45566af97cb4",
   "metadata": {},
   "source": [
    "Armemos un arreglo de todos los factoriales del 1 al 6"
   ]
  },
  {
   "cell_type": "code",
   "execution_count": 4,
   "id": "b4d6af33-6688-4dd8-9970-0a2e06491112",
   "metadata": {},
   "outputs": [
    {
     "data": {
      "text/plain": [
       "array([  1,   6,  24, 120, 720])"
      ]
     },
     "execution_count": 4,
     "metadata": {},
     "output_type": "execute_result"
    }
   ],
   "source": [
    "fac = np.array([1,6,24,120,720])\n",
    "fac"
   ]
  },
  {
   "cell_type": "markdown",
   "id": "3e0a5ef0-5ffe-4591-968e-ca4346c7ea9d",
   "metadata": {},
   "source": [
    "Verifica el tipo de objeto que generamos"
   ]
  },
  {
   "cell_type": "code",
   "execution_count": 3,
   "id": "9f0bcf80-e875-43f6-8768-a710cc9348c7",
   "metadata": {},
   "outputs": [
    {
     "data": {
      "text/plain": [
       "numpy.ndarray"
      ]
     },
     "execution_count": 3,
     "metadata": {},
     "output_type": "execute_result"
    }
   ],
   "source": [
    "type(fac)"
   ]
  },
  {
   "cell_type": "markdown",
   "id": "735ed935-98ff-4e17-9088-0c9dec7cb593",
   "metadata": {},
   "source": [
    "La función array copia automáticamente las dimensiones del argumento. Por ejemplo, el siguiente arreglo (array) está formado por tres filas y dos columnas."
   ]
  },
  {
   "cell_type": "code",
   "execution_count": 6,
   "id": "be75e011-3b03-44a4-9e6c-cad9c045bca4",
   "metadata": {},
   "outputs": [
    {
     "data": {
      "text/plain": [
       "array([[1, 2, 3],\n",
       "       [4, 5, 6],\n",
       "       [7, 8, 9]])"
      ]
     },
     "execution_count": 6,
     "metadata": {},
     "output_type": "execute_result"
    }
   ],
   "source": [
    "dim = np.array([[1,2,3],[4,5,6],[7,8,9]])\n",
    "dim"
   ]
  },
  {
   "cell_type": "markdown",
   "id": "22058497-7040-44fe-97a8-247f62a52d3f",
   "metadata": {},
   "source": [
    "#### Por tu cuenta\n",
    "\n",
    "Arma un arreglo de una dimensión desde una compresnidón de lista que produce todos los números nones del 1 al 30"
   ]
  },
  {
   "cell_type": "code",
   "execution_count": 3,
   "id": "361d9943-b067-4a77-8ffa-99ac2297267f",
   "metadata": {},
   "outputs": [
    {
     "data": {
      "text/plain": [
       "array([ 1,  3,  5,  7,  9, 11, 13, 15, 17, 19, 21, 23, 25, 27, 29])"
      ]
     },
     "execution_count": 3,
     "metadata": {},
     "output_type": "execute_result"
    }
   ],
   "source": [
    "dim = np.array([i for i  in range(1,31,1) if not i%2==0])\n",
    "dim"
   ]
  },
  {
   "cell_type": "markdown",
   "id": "91b4e247-d7c9-473a-a77a-45890ae5877d",
   "metadata": {},
   "source": [
    "### 7.2.2 - Atributos de Arreglos"
   ]
  },
  {
   "cell_type": "markdown",
   "id": "585c03f9-c00a-4dbf-bf10-0073ef735d74",
   "metadata": {},
   "source": [
    "En esta sección usaremos los siguientes 2 arreglos\n",
    "\n",
    "enteros = np.array([[9,10,11,12],[8,7,6,5]])\n",
    "\n",
    "flotantes=np.array([[9**(1/2),10**(1/2),3.33,],[10/3,3.4,3.03]])"
   ]
  },
  {
   "cell_type": "code",
   "execution_count": 4,
   "id": "4c3638cb-f453-45fd-a7f2-d2498c6a45df",
   "metadata": {},
   "outputs": [],
   "source": [
    "enteros = np.array([[9,10,11,12],[8,7,6,5]])\n",
    "flotantes=np.array([[9**(1/2),10**(1/2),3.33,],[10/3,3.4,3.03]])"
   ]
  },
  {
   "cell_type": "markdown",
   "id": "25723a8f-407c-4e96-b3fc-1a3599a235d2",
   "metadata": {},
   "source": [
    "Checa el tipo de elemento con dtype"
   ]
  },
  {
   "cell_type": "code",
   "execution_count": 7,
   "id": "16a77235-c2b1-481d-83d0-868b5ae497c6",
   "metadata": {},
   "outputs": [
    {
     "name": "stdout",
     "output_type": "stream",
     "text": [
      "int64\n",
      "float64\n"
     ]
    }
   ],
   "source": [
    "print(enteros.dtype)\n",
    "print(flotantes.dtype)"
   ]
  },
  {
   "cell_type": "markdown",
   "id": "2877de72-2877-4d1b-a890-9eb4bb383b41",
   "metadata": {},
   "source": [
    "Revisa que puedes ver dimensione con ndim y forma con shape del arreglo"
   ]
  },
  {
   "cell_type": "code",
   "execution_count": 8,
   "id": "fc0831b6-2514-4266-a070-fabf58ba64da",
   "metadata": {},
   "outputs": [
    {
     "data": {
      "text/plain": [
       "2"
      ]
     },
     "execution_count": 8,
     "metadata": {},
     "output_type": "execute_result"
    }
   ],
   "source": [
    "enteros.ndim"
   ]
  },
  {
   "cell_type": "code",
   "execution_count": 11,
   "id": "9bf00a06-b6ca-4e4b-acfd-c6aa2e1f7056",
   "metadata": {},
   "outputs": [
    {
     "data": {
      "text/plain": [
       "(2, 4)"
      ]
     },
     "execution_count": 11,
     "metadata": {},
     "output_type": "execute_result"
    }
   ],
   "source": [
    "enteros.shape #(filas, columnas)"
   ]
  },
  {
   "cell_type": "markdown",
   "id": "304c7d0b-d297-4a95-acc1-4d65e136a123",
   "metadata": {},
   "source": [
    "Size y itemsize te permite conocer el numero de elemntos y de bytes para almacenar"
   ]
  },
  {
   "cell_type": "code",
   "execution_count": 12,
   "id": "31222166-9d8a-4f67-b823-79ae42350f17",
   "metadata": {},
   "outputs": [
    {
     "data": {
      "text/plain": [
       "8"
      ]
     },
     "execution_count": 12,
     "metadata": {},
     "output_type": "execute_result"
    }
   ],
   "source": [
    "enteros.size"
   ]
  },
  {
   "cell_type": "code",
   "execution_count": 13,
   "id": "8ced9eca-499d-44dd-af7a-e6eb2e9ab698",
   "metadata": {},
   "outputs": [
    {
     "data": {
      "text/plain": [
       "8"
      ]
     },
     "execution_count": 13,
     "metadata": {},
     "output_type": "execute_result"
    }
   ],
   "source": [
    "enteros.itemsize"
   ]
  },
  {
   "cell_type": "markdown",
   "id": "77944a1b-3dfc-418f-895b-9f60ed6d2639",
   "metadata": {},
   "source": [
    "Se puede iterar facilmente a través de un arreglo"
   ]
  },
  {
   "cell_type": "code",
   "execution_count": 15,
   "id": "90e1bada-72bd-4fb3-a539-0f40aa3734a3",
   "metadata": {},
   "outputs": [
    {
     "name": "stdout",
     "output_type": "stream",
     "text": [
      "3.0, 3.1622776601683795, 3.33, \n",
      "3.3333333333333335, 3.4, 3.03, \n"
     ]
    }
   ],
   "source": [
    "for fila in flotantes:\n",
    "    for columna in fila:\n",
    "        print(columna, end=', ')\n",
    "    print()"
   ]
  },
  {
   "cell_type": "markdown",
   "id": "142d034c-3e20-4b20-ba51-6000becb42f5",
   "metadata": {},
   "source": [
    "#### Por tu cuenta\n",
    "\n",
    "Para el arreglo que armaste en el \"Por tu cuenta\" previo, checa el numero de dmiensiones y forma del arreglo"
   ]
  },
  {
   "cell_type": "code",
   "execution_count": 16,
   "id": "992b5cc8-7814-41d3-8d20-138b12f9b93e",
   "metadata": {},
   "outputs": [
    {
     "data": {
      "text/plain": [
       "1"
      ]
     },
     "execution_count": 16,
     "metadata": {},
     "output_type": "execute_result"
    }
   ],
   "source": [
    "dim.ndim"
   ]
  },
  {
   "cell_type": "code",
   "execution_count": 17,
   "id": "b381994a-8b83-4cd4-b0b6-7ff1d3910730",
   "metadata": {},
   "outputs": [
    {
     "data": {
      "text/plain": [
       "(15,)"
      ]
     },
     "execution_count": 17,
     "metadata": {},
     "output_type": "execute_result"
    }
   ],
   "source": [
    "dim.shape"
   ]
  },
  {
   "cell_type": "markdown",
   "id": "6c576a2d-67d9-4a39-a251-bf1cb325bc61",
   "metadata": {},
   "source": [
    "### 7.2.3 - Creando Arreglos desde Rangos"
   ]
  },
  {
   "cell_type": "markdown",
   "id": "8ecb1f66-72c9-4d1d-8332-0670ff49049b",
   "metadata": {},
   "source": [
    "La función arange (una sola R!!!!) nos permite crear rangos de enteros. Crea:\n",
    "\n",
    "- Un arreglo del 0 al 7\n",
    "- Un arreglo del 3 al 7\n",
    "- Un arreglo del 12 al 2 en pasos de 3 en 3 (si, en orden inverso)"
   ]
  },
  {
   "cell_type": "code",
   "execution_count": 18,
   "id": "398b8572-3b35-4a9b-b3d2-df69be4b8c62",
   "metadata": {},
   "outputs": [
    {
     "data": {
      "text/plain": [
       "array([0, 1, 2, 3, 4, 5, 6, 7])"
      ]
     },
     "execution_count": 18,
     "metadata": {},
     "output_type": "execute_result"
    }
   ],
   "source": [
    "arange1 = np.arange(8)\n",
    "arange1"
   ]
  },
  {
   "cell_type": "code",
   "execution_count": 19,
   "id": "5dddb086-837f-46fb-8129-78913c9045fc",
   "metadata": {},
   "outputs": [
    {
     "data": {
      "text/plain": [
       "array([3, 4, 5, 6, 7])"
      ]
     },
     "execution_count": 19,
     "metadata": {},
     "output_type": "execute_result"
    }
   ],
   "source": [
    "arange1 = np.arange(3,8)\n",
    "arange1"
   ]
  },
  {
   "cell_type": "code",
   "execution_count": 21,
   "id": "70d50bbe-7686-4514-be0a-089b18f83551",
   "metadata": {},
   "outputs": [
    {
     "data": {
      "text/plain": [
       "array([12,  9,  6,  3])"
      ]
     },
     "execution_count": 21,
     "metadata": {},
     "output_type": "execute_result"
    }
   ],
   "source": [
    "arange1 = np.arange(12,2,-3)\n",
    "arange1"
   ]
  },
  {
   "cell_type": "markdown",
   "id": "8c3940c8-1c11-4224-bc25-7739b60e3256",
   "metadata": {},
   "source": [
    "Tambien se pueden usar tamaños de paso no enteros. Crea un arreglo con linspace de 0 al 1 que vaya de .25 en .25"
   ]
  },
  {
   "cell_type": "code",
   "execution_count": 25,
   "id": "b532a32c-f674-48f8-bb15-9ebb58120172",
   "metadata": {},
   "outputs": [
    {
     "data": {
      "text/plain": [
       "array([0.        , 0.01010101, 0.02020202, 0.03030303, 0.04040404,\n",
       "       0.05050505, 0.06060606, 0.07070707, 0.08080808, 0.09090909,\n",
       "       0.1010101 , 0.11111111, 0.12121212, 0.13131313, 0.14141414,\n",
       "       0.15151515, 0.16161616, 0.17171717, 0.18181818, 0.19191919,\n",
       "       0.2020202 , 0.21212121, 0.22222222, 0.23232323, 0.24242424,\n",
       "       0.25252525, 0.26262626, 0.27272727, 0.28282828, 0.29292929,\n",
       "       0.3030303 , 0.31313131, 0.32323232, 0.33333333, 0.34343434,\n",
       "       0.35353535, 0.36363636, 0.37373737, 0.38383838, 0.39393939,\n",
       "       0.4040404 , 0.41414141, 0.42424242, 0.43434343, 0.44444444,\n",
       "       0.45454545, 0.46464646, 0.47474747, 0.48484848, 0.49494949,\n",
       "       0.50505051, 0.51515152, 0.52525253, 0.53535354, 0.54545455,\n",
       "       0.55555556, 0.56565657, 0.57575758, 0.58585859, 0.5959596 ,\n",
       "       0.60606061, 0.61616162, 0.62626263, 0.63636364, 0.64646465,\n",
       "       0.65656566, 0.66666667, 0.67676768, 0.68686869, 0.6969697 ,\n",
       "       0.70707071, 0.71717172, 0.72727273, 0.73737374, 0.74747475,\n",
       "       0.75757576, 0.76767677, 0.77777778, 0.78787879, 0.7979798 ,\n",
       "       0.80808081, 0.81818182, 0.82828283, 0.83838384, 0.84848485,\n",
       "       0.85858586, 0.86868687, 0.87878788, 0.88888889, 0.8989899 ,\n",
       "       0.90909091, 0.91919192, 0.92929293, 0.93939394, 0.94949495,\n",
       "       0.95959596, 0.96969697, 0.97979798, 0.98989899, 1.        ])"
      ]
     },
     "execution_count": 25,
     "metadata": {},
     "output_type": "execute_result"
    }
   ],
   "source": [
    "lin = np.linspace(0, 1, num=100)\n",
    "lin"
   ]
  },
  {
   "cell_type": "markdown",
   "id": "ca52697a-dd29-4a72-ab8c-2e1d2b7df73a",
   "metadata": {},
   "source": [
    "Y se puede cambiar la forma del arreglo con reshape. Crea un arreglo con arange que vaya del 21 al 1 en orden inverso, y luego dale forma de matriz de 4x5"
   ]
  },
  {
   "cell_type": "code",
   "execution_count": 34,
   "id": "82dd73a2-4e8e-4dd8-a3c3-9132dc655b22",
   "metadata": {},
   "outputs": [
    {
     "name": "stdout",
     "output_type": "stream",
     "text": [
      "[21 20 19 18 17 16 15 14 13 12 11 10  9  8  7  6  5  4  3  2]\n",
      "[[21 20 19 18 17]\n",
      " [16 15 14 13 12]\n",
      " [11 10  9  8  7]\n",
      " [ 6  5  4  3  2]]\n"
     ]
    }
   ],
   "source": [
    "resh=np.arange(21,1,-1)\n",
    "print(resh)\n",
    "nresh = resh.reshape(4,5)\n",
    "print(nresh)"
   ]
  },
  {
   "cell_type": "markdown",
   "id": "1e3f03c1-f451-4dca-9320-1d5846b18995",
   "metadata": {},
   "source": [
    "Checate que si el arreglo tiene 1000 o más elementos, numpy no muestra la totalidad de los datos. Generaun arreglo de 0 a 9999 y dale forma de 5 x 2000"
   ]
  },
  {
   "cell_type": "code",
   "execution_count": 38,
   "id": "b6948944-d77f-440d-a781-30fb1cf26565",
   "metadata": {},
   "outputs": [
    {
     "data": {
      "text/plain": [
       "array([[   0,    1,    2,    3,    4],\n",
       "       [   5,    6,    7,    8,    9],\n",
       "       [  10,   11,   12,   13,   14],\n",
       "       ...,\n",
       "       [9985, 9986, 9987, 9988, 9989],\n",
       "       [9990, 9991, 9992, 9993, 9994],\n",
       "       [9995, 9996, 9997, 9998, 9999]])"
      ]
     },
     "execution_count": 38,
     "metadata": {},
     "output_type": "execute_result"
    }
   ],
   "source": [
    "np.arange(10000).reshape(2000,5)"
   ]
  },
  {
   "cell_type": "markdown",
   "id": "965587b4-2bd7-4b09-99d4-e1f26fc2d99e",
   "metadata": {},
   "source": [
    "#### Por tu cuenta\n",
    "\n",
    "Usa la función arange para crear una rreglo de 20 enteros pares del 42 al 80, y luego rearmalo en una matriz de 4x5"
   ]
  },
  {
   "cell_type": "code",
   "execution_count": 42,
   "id": "8a01c49c-d067-4e8e-aade-42784ffc2340",
   "metadata": {},
   "outputs": [
    {
     "name": "stdout",
     "output_type": "stream",
     "text": [
      "[42 44 46 48 50 52 54 56 58 60 62 64 66 68 70 72 74 76 78 80]\n",
      "[[42 44 46 48 50]\n",
      " [52 54 56 58 60]\n",
      " [62 64 66 68 70]\n",
      " [72 74 76 78 80]]\n"
     ]
    }
   ],
   "source": [
    "var1 = np.arange(42,81,2)\n",
    "print(var1)\n",
    "var2 = var1.reshape(4,5)\n",
    "print(var2)"
   ]
  },
  {
   "cell_type": "markdown",
   "id": "85ffe47c-dc04-4458-befc-8a7785b2da5b",
   "metadata": {},
   "source": [
    "### 7.2.4 - ¿Que tan más rapido es un arreglo?"
   ]
  },
  {
   "cell_type": "markdown",
   "id": "3dbffa17-9288-473d-b503-c25bb402a7be",
   "metadata": {},
   "source": [
    "Usa la magia %timeit y la librería random para crear una comprensión de lista que simule un tiro de dao 6000000 de veces y medir su tiempo"
   ]
  },
  {
   "cell_type": "code",
   "execution_count": 44,
   "id": "bd3bd30e-876d-4935-8c75-214fe973d19f",
   "metadata": {},
   "outputs": [
    {
     "name": "stdout",
     "output_type": "stream",
     "text": [
      "5.73 s ± 77.6 ms per loop (mean ± std. dev. of 7 runs, 1 loop each)\n"
     ]
    }
   ],
   "source": [
    "import random as rn\n",
    "%timeit tiros1 = [rn.randint(1,7) for i  in range(6000000)]"
   ]
  },
  {
   "cell_type": "markdown",
   "id": "9722dcf5-f8f6-4b28-8891-fadbd3877ab3",
   "metadata": {
    "tags": []
   },
   "source": [
    "Ahora usa %timeit para medir el tiempo de un tiro de dado 6000000 de veces pero hecho con arreglo"
   ]
  },
  {
   "cell_type": "code",
   "execution_count": 45,
   "id": "34fd2bed-c4cc-4cf7-96ef-9f0b505f957f",
   "metadata": {},
   "outputs": [
    {
     "name": "stdout",
     "output_type": "stream",
     "text": [
      "76.9 ms ± 53.1 µs per loop (mean ± std. dev. of 7 runs, 10 loops each)\n"
     ]
    }
   ],
   "source": [
    "%timeit tiros2 = np.random.randint(1,7,6000000)"
   ]
  },
  {
   "cell_type": "markdown",
   "id": "eee97850-27e6-4a96-8429-9aed475b904a",
   "metadata": {},
   "source": [
    "#### Por tu cuenta\n",
    "\n",
    "Usa %timeit para ver que es mas rapido - una lista que sume todos los enteros del 0 al 9 999 999 o un arreglo que haga lo mismo con el metodo sum"
   ]
  },
  {
   "cell_type": "code",
   "execution_count": 64,
   "id": "a6e227ad-e538-42a0-839a-ce702f63fddb",
   "metadata": {},
   "outputs": [
    {
     "name": "stdout",
     "output_type": "stream",
     "text": [
      "49999985000001\n"
     ]
    }
   ],
   "source": [
    "s=0\n",
    "for i in range(9999999):\n",
    "    s=s+i \n",
    "print(s)"
   ]
  },
  {
   "cell_type": "code",
   "execution_count": 67,
   "id": "7f307c70-75af-4205-884b-84405a895784",
   "metadata": {},
   "outputs": [
    {
     "data": {
      "text/plain": [
       "499999998500000001"
      ]
     },
     "execution_count": 67,
     "metadata": {},
     "output_type": "execute_result"
    }
   ],
   "source": [
    "var3 = np.arange(999999999)\n",
    "sum(var3)"
   ]
  },
  {
   "cell_type": "markdown",
   "id": "cafa5e49-63a5-4719-b986-b9c05504efae",
   "metadata": {},
   "source": [
    "## 7.3.- Operaciones con Arreglos"
   ]
  },
  {
   "cell_type": "markdown",
   "id": "4af27e94-54ba-4f6d-9d33-e95cbe99ada3",
   "metadata": {},
   "source": [
    "Arma un arreglo de todos los pares del 2 al 15.\n",
    "\n",
    "- Sumale 1 al arreglo\n",
    "- Multiplicalo por 3\n",
    "- Sacale raiz cuadrada"
   ]
  },
  {
   "cell_type": "code",
   "execution_count": 69,
   "id": "d9d83ede-2f50-4336-aae2-95c0343fad8e",
   "metadata": {},
   "outputs": [
    {
     "data": {
      "text/plain": [
       "array([ 2,  3,  4,  5,  6,  7,  8,  9, 10, 11, 12, 13, 14])"
      ]
     },
     "execution_count": 69,
     "metadata": {},
     "output_type": "execute_result"
    }
   ],
   "source": [
    "var1 = np.arange(2,15)\n",
    "var1"
   ]
  },
  {
   "cell_type": "code",
   "execution_count": 71,
   "id": "6c1f412b-b92a-4c19-bb65-1296b497edef",
   "metadata": {},
   "outputs": [
    {
     "data": {
      "text/plain": [
       "array([ 3,  4,  5,  6,  7,  8,  9, 10, 11, 12, 13, 14, 15])"
      ]
     },
     "execution_count": 71,
     "metadata": {},
     "output_type": "execute_result"
    }
   ],
   "source": [
    "var1 = var1+1\n",
    "var1"
   ]
  },
  {
   "cell_type": "code",
   "execution_count": 72,
   "id": "09baa0f6-b9ea-42a3-958c-b5303f808258",
   "metadata": {},
   "outputs": [
    {
     "data": {
      "text/plain": [
       "array([ 9, 12, 15, 18, 21, 24, 27, 30, 33, 36, 39, 42, 45])"
      ]
     },
     "execution_count": 72,
     "metadata": {},
     "output_type": "execute_result"
    }
   ],
   "source": [
    "var1 = var1*3\n",
    "var1"
   ]
  },
  {
   "cell_type": "code",
   "execution_count": 73,
   "id": "e32ebd73-e7cf-4ba6-bd42-a3be47dc11aa",
   "metadata": {},
   "outputs": [
    {
     "data": {
      "text/plain": [
       "array([ 4.5,  6. ,  7.5,  9. , 10.5, 12. , 13.5, 15. , 16.5, 18. , 19.5,\n",
       "       21. , 22.5])"
      ]
     },
     "execution_count": 73,
     "metadata": {},
     "output_type": "execute_result"
    }
   ],
   "source": [
    "var1 = var1**1/2\n",
    "var1"
   ]
  },
  {
   "cell_type": "markdown",
   "id": "2695f776-821c-4f8b-9f05-2d0e9b354b47",
   "metadata": {},
   "source": [
    "Al mismo arreglo, aplicale un +=10"
   ]
  },
  {
   "cell_type": "code",
   "execution_count": 76,
   "id": "d4992259-1122-4944-a0d6-374d0575804d",
   "metadata": {},
   "outputs": [
    {
     "data": {
      "text/plain": [
       "array([24.5, 26. , 27.5, 29. , 30.5, 32. , 33.5, 35. , 36.5, 38. , 39.5,\n",
       "       41. , 42.5])"
      ]
     },
     "execution_count": 76,
     "metadata": {},
     "output_type": "execute_result"
    }
   ],
   "source": [
    "var1+=10\n",
    "var1"
   ]
  },
  {
   "cell_type": "markdown",
   "id": "b22e54c6-c577-4ac8-aa03-ba0bcac2d3fc",
   "metadata": {},
   "source": [
    "Arma un arreglo (lista1) que vaya del 2 al 18 de 3 en 3, y otro arreglo (lista2) usando linspace que vaya del -2 al 20 dividido en 6 numeros\n",
    "\n",
    "- Resta lista1 de lista2\n",
    "- divide lista2 entre lista1"
   ]
  },
  {
   "cell_type": "code",
   "execution_count": 4,
   "id": "18e9cece-f0e9-4f9a-add7-f4c826b504a3",
   "metadata": {},
   "outputs": [
    {
     "name": "stdout",
     "output_type": "stream",
     "text": [
      "[ 2  5  8 11 14 17]\n",
      "[ 2.   5.6  9.2 12.8 16.4 20. ]\n"
     ]
    }
   ],
   "source": [
    "var1 = np.arange(2,19,3)\n",
    "var2 = np.linspace(2,20,num=6)\n",
    "print(var1)\n",
    "print(var2)"
   ]
  },
  {
   "cell_type": "code",
   "execution_count": 78,
   "id": "ac48faaf-cfa5-48cf-b223-9a5b5bc97fc6",
   "metadata": {},
   "outputs": [
    {
     "data": {
      "text/plain": [
       "array([0. , 0.6, 1.2, 1.8, 2.4, 3. ])"
      ]
     },
     "execution_count": 78,
     "metadata": {},
     "output_type": "execute_result"
    }
   ],
   "source": [
    "var2 - var1"
   ]
  },
  {
   "cell_type": "markdown",
   "id": "5897287a-8941-4907-bdb1-32dba5bd7136",
   "metadata": {},
   "source": [
    "También puedes comparar los arreglos"
   ]
  },
  {
   "cell_type": "code",
   "execution_count": 5,
   "id": "b23d20d4-d9fd-4d1f-ad75-9647a364d9f5",
   "metadata": {},
   "outputs": [
    {
     "data": {
      "text/plain": [
       "array([False,  True,  True,  True,  True,  True])"
      ]
     },
     "execution_count": 5,
     "metadata": {},
     "output_type": "execute_result"
    }
   ],
   "source": [
    "var2 > var1"
   ]
  },
  {
   "cell_type": "markdown",
   "id": "389ac864-c467-451f-859c-7c9e4de35514",
   "metadata": {},
   "source": [
    "#### Por tu cuenta\n",
    "\n",
    "Crea un arreglo de los valores que vayan del 1 al 5, y luego elvealo al cuadrado usando **"
   ]
  },
  {
   "cell_type": "code",
   "execution_count": 8,
   "id": "11c82b43-a26b-4b77-ae97-b8386c278888",
   "metadata": {},
   "outputs": [
    {
     "name": "stdout",
     "output_type": "stream",
     "text": [
      "[1 2 3 4 5]\n",
      "[ 1  4  9 16 25]\n"
     ]
    }
   ],
   "source": [
    "var1 = np.arange(1,6)\n",
    "print(var1)\n",
    "var1 = var1**2\n",
    "print(var1)"
   ]
  },
  {
   "cell_type": "markdown",
   "id": "f41f14b1-01d8-442e-b531-f5fa0f0548b2",
   "metadata": {},
   "source": [
    "### 7.3.2.- Métodos de Cálculo"
   ]
  },
  {
   "cell_type": "markdown",
   "id": "f358182e-1d2b-4c85-9e45-cc051902608d",
   "metadata": {},
   "source": [
    "Considera el siguiente arreglo \n",
    "\n",
    "ventas=np.array( [[554,606,710,851],[1244,898,416,1763],\n",
    " [841,655,1105,1067]])\n"
   ]
  },
  {
   "cell_type": "code",
   "execution_count": 9,
   "id": "62b63afa-5b31-4302-b574-54de2e11c304",
   "metadata": {},
   "outputs": [
    {
     "name": "stdout",
     "output_type": "stream",
     "text": [
      "[[ 554  606  710  851]\n",
      " [1244  898  416 1763]\n",
      " [ 841  655 1105 1067]]\n"
     ]
    }
   ],
   "source": [
    "ventas=np.array( [[554,606,710,851],[1244,898,416,1763], [841,655,1105,1067]])\n",
    "print(ventas)"
   ]
  },
  {
   "cell_type": "markdown",
   "id": "0b33e26b-2f84-4781-8752-12add9733bb5",
   "metadata": {},
   "source": [
    "Podemos usar métodos para calcular la sum, min, max, mean, std, var. "
   ]
  },
  {
   "cell_type": "code",
   "execution_count": 10,
   "id": "4b99c6a9-d05c-4a90-87c1-5dbb23bb249c",
   "metadata": {},
   "outputs": [
    {
     "data": {
      "text/plain": [
       "892.5"
      ]
     },
     "execution_count": 10,
     "metadata": {},
     "output_type": "execute_result"
    }
   ],
   "source": [
    "ventas.mean()"
   ]
  },
  {
   "cell_type": "code",
   "execution_count": 11,
   "id": "c371d504-5563-49b4-b758-e74a1affdade",
   "metadata": {},
   "outputs": [
    {
     "data": {
      "text/plain": [
       "10710"
      ]
     },
     "execution_count": 11,
     "metadata": {},
     "output_type": "execute_result"
    }
   ],
   "source": [
    "ventas.sum()"
   ]
  },
  {
   "cell_type": "code",
   "execution_count": 12,
   "id": "03d298ff-741f-4d10-bf40-4507d884fc07",
   "metadata": {},
   "outputs": [
    {
     "data": {
      "text/plain": [
       "416"
      ]
     },
     "execution_count": 12,
     "metadata": {},
     "output_type": "execute_result"
    }
   ],
   "source": [
    "ventas.min()"
   ]
  },
  {
   "cell_type": "code",
   "execution_count": 13,
   "id": "d9924a54-4ac2-4f57-a3a5-4b9318b0bdcd",
   "metadata": {},
   "outputs": [
    {
     "data": {
      "text/plain": [
       "1763"
      ]
     },
     "execution_count": 13,
     "metadata": {},
     "output_type": "execute_result"
    }
   ],
   "source": [
    "ventas.max()"
   ]
  },
  {
   "cell_type": "code",
   "execution_count": 14,
   "id": "0b5c6875-ac14-46da-a30b-8229ba473f3f",
   "metadata": {},
   "outputs": [
    {
     "data": {
      "text/plain": [
       "350.56656524355924"
      ]
     },
     "execution_count": 14,
     "metadata": {},
     "output_type": "execute_result"
    }
   ],
   "source": [
    "ventas.std()"
   ]
  },
  {
   "cell_type": "code",
   "execution_count": 15,
   "id": "1b5f65d3-9aeb-4b2d-b777-7e86be52bc03",
   "metadata": {},
   "outputs": [
    {
     "data": {
      "text/plain": [
       "122896.91666666667"
      ]
     },
     "execution_count": 15,
     "metadata": {},
     "output_type": "execute_result"
    }
   ],
   "source": [
    "ventas.var()"
   ]
  },
  {
   "cell_type": "markdown",
   "id": "4fc48e4b-2a8d-40d6-ba91-eb30e2f74b0f",
   "metadata": {},
   "source": [
    "También es posible hacerlo por filas y columnas. Checa como se hace con axis = 1 y 0"
   ]
  },
  {
   "cell_type": "code",
   "execution_count": 16,
   "id": "27844143-2c16-4e20-a7f4-6802139181cd",
   "metadata": {},
   "outputs": [
    {
     "data": {
      "text/plain": [
       "array([ 879.66666667,  719.66666667,  743.66666667, 1227.        ])"
      ]
     },
     "execution_count": 16,
     "metadata": {},
     "output_type": "execute_result"
    }
   ],
   "source": [
    "ventas.mean(axis=0) #calcula en relacion a las columnas"
   ]
  },
  {
   "cell_type": "code",
   "execution_count": 17,
   "id": "24329b3a-551e-4f32-860f-b7b9335c4712",
   "metadata": {},
   "outputs": [
    {
     "data": {
      "text/plain": [
       "array([ 680.25, 1080.25,  917.  ])"
      ]
     },
     "execution_count": 17,
     "metadata": {},
     "output_type": "execute_result"
    }
   ],
   "source": [
    "ventas.mean(axis=1) #calcula en relacion a las filas"
   ]
  },
  {
   "cell_type": "markdown",
   "id": "e4b63208-01e1-4caf-b071-d748fc92cac2",
   "metadata": {},
   "source": [
    "#### Por tu cuenta\n",
    "\n",
    "Usa el generador de numeros aleatoreos de numpy (np.random.randint) para crear una rreglo de 12 calificaciones aleatorias del 60 al 100, y luego dale forma en una matriz de 3x4. Calcula el promedio de todas las calificaciones, el promedio de cada columna y de cada fila. "
   ]
  },
  {
   "cell_type": "code",
   "execution_count": 19,
   "id": "fd074537-07c6-4f51-8d20-217a489c4ae0",
   "metadata": {},
   "outputs": [
    {
     "name": "stdout",
     "output_type": "stream",
     "text": [
      "[[84 70 71 77]\n",
      " [99 70 89 80]\n",
      " [77 75 67 85]]\n"
     ]
    }
   ],
   "source": [
    "var1 = np.random.randint(60,100,12).reshape(3,4)\n",
    "print(var1)"
   ]
  },
  {
   "cell_type": "code",
   "execution_count": 20,
   "id": "ecca310d-e9df-4cc5-ad5a-db3b9f3dd206",
   "metadata": {},
   "outputs": [
    {
     "data": {
      "text/plain": [
       "array([86.66666667, 71.66666667, 75.66666667, 80.66666667])"
      ]
     },
     "execution_count": 20,
     "metadata": {},
     "output_type": "execute_result"
    }
   ],
   "source": [
    "var1.mean(axis=0) #columna"
   ]
  },
  {
   "cell_type": "code",
   "execution_count": 21,
   "id": "2441919c-8411-469b-bc59-6bc01ab76f18",
   "metadata": {},
   "outputs": [
    {
     "data": {
      "text/plain": [
       "array([75.5, 84.5, 76. ])"
      ]
     },
     "execution_count": 21,
     "metadata": {},
     "output_type": "execute_result"
    }
   ],
   "source": [
    "var1.mean(axis=1) #fila"
   ]
  },
  {
   "cell_type": "markdown",
   "id": "fc6ab829-7417-43f3-942b-a28077f414bb",
   "metadata": {},
   "source": [
    "## 7.4.- Indexando y Cortando arreglos"
   ]
  },
  {
   "cell_type": "markdown",
   "id": "c969a299-6e36-4460-a97c-4f776bbe3740",
   "metadata": {},
   "source": [
    "Crea el arreglo\n",
    "\n",
    "ventas=np.array ([[ 554, 606, 710, 851],\n",
    " [1244, 898, 416, 1763],\n",
    " [ 841, 655, 1105, 1067]])\n",
    " \n",
    " - Selecciona el item 2,1\n",
    " - Selecciona el item 1,3\n",
    " - Selecciona la fila 1"
   ]
  },
  {
   "cell_type": "code",
   "execution_count": 23,
   "id": "dc7dce56-e29e-45aa-adc1-ac67a936f86e",
   "metadata": {},
   "outputs": [
    {
     "name": "stdout",
     "output_type": "stream",
     "text": [
      "[[ 554  606  710  851]\n",
      " [1244  898  416 1763]\n",
      " [ 841  655 1105 1067]]\n"
     ]
    }
   ],
   "source": [
    "ventas=np.array ([[ 554, 606, 710, 851], [1244, 898, 416, 1763], [ 841, 655, 1105, 1067]])\n",
    "print(ventas)"
   ]
  },
  {
   "cell_type": "code",
   "execution_count": 25,
   "id": "193a6130-ce9e-463a-a488-6b88fc39cb2f",
   "metadata": {},
   "outputs": [
    {
     "data": {
      "text/plain": [
       "655"
      ]
     },
     "execution_count": 25,
     "metadata": {},
     "output_type": "execute_result"
    }
   ],
   "source": [
    "ventas[2,1] #[fila,columna]"
   ]
  },
  {
   "cell_type": "code",
   "execution_count": 26,
   "id": "c58d0d27-c881-4071-8d6a-42f002cfea08",
   "metadata": {},
   "outputs": [
    {
     "data": {
      "text/plain": [
       "1763"
      ]
     },
     "execution_count": 26,
     "metadata": {},
     "output_type": "execute_result"
    }
   ],
   "source": [
    "ventas[1,3]"
   ]
  },
  {
   "cell_type": "code",
   "execution_count": 27,
   "id": "4b1daeea-2436-4048-83d3-1b90d7ba6f63",
   "metadata": {},
   "outputs": [
    {
     "data": {
      "text/plain": [
       "array([1244,  898,  416, 1763])"
      ]
     },
     "execution_count": 27,
     "metadata": {},
     "output_type": "execute_result"
    }
   ],
   "source": [
    "ventas[1,:]"
   ]
  },
  {
   "cell_type": "markdown",
   "id": "d6ff1f34-3be0-4546-abbd-74d4b8e13e53",
   "metadata": {},
   "source": [
    "Solicita las filas con índices 0 y 1"
   ]
  },
  {
   "cell_type": "code",
   "execution_count": 29,
   "id": "9dee066c-16bd-431e-9118-9662c6fcb08a",
   "metadata": {},
   "outputs": [
    {
     "data": {
      "text/plain": [
       "array([[ 554,  606,  710,  851],\n",
       "       [1244,  898,  416, 1763]])"
      ]
     },
     "execution_count": 29,
     "metadata": {},
     "output_type": "execute_result"
    }
   ],
   "source": [
    "ventas[:2]"
   ]
  },
  {
   "cell_type": "markdown",
   "id": "f24b5167-113b-4444-9e32-67c12458f5eb",
   "metadata": {},
   "source": [
    "Ahora para solicitar las filas con indices 1 y 2"
   ]
  },
  {
   "cell_type": "code",
   "execution_count": 30,
   "id": "5154ad7e-fc6c-4b61-9841-6dd7c7fd34c9",
   "metadata": {},
   "outputs": [
    {
     "data": {
      "text/plain": [
       "array([[1244,  898,  416, 1763],\n",
       "       [ 841,  655, 1105, 1067]])"
      ]
     },
     "execution_count": 30,
     "metadata": {},
     "output_type": "execute_result"
    }
   ],
   "source": [
    "ventas[1:3]"
   ]
  },
  {
   "cell_type": "markdown",
   "id": "c33757ef-e644-4547-9727-f310d0237e90",
   "metadata": {},
   "source": [
    "Quieres solo los elementos de la primera columna?"
   ]
  },
  {
   "cell_type": "code",
   "execution_count": 32,
   "id": "b0fbfc3a-1414-47be-94ac-df18d65cafc7",
   "metadata": {},
   "outputs": [
    {
     "data": {
      "text/plain": [
       "array([ 554, 1244,  841])"
      ]
     },
     "execution_count": 32,
     "metadata": {},
     "output_type": "execute_result"
    }
   ],
   "source": [
    "ventas[:,0]"
   ]
  },
  {
   "cell_type": "markdown",
   "id": "f8969bc1-1bbf-42c0-a38d-c59f861738e2",
   "metadata": {},
   "source": [
    "Que la las columnas con indices 0 y 2?"
   ]
  },
  {
   "cell_type": "code",
   "execution_count": 34,
   "id": "b8eb35a1-cf95-481f-8f4c-548132319028",
   "metadata": {},
   "outputs": [
    {
     "data": {
      "text/plain": [
       "array([[ 554,  710],\n",
       "       [1244,  416],\n",
       "       [ 841, 1105]])"
      ]
     },
     "execution_count": 34,
     "metadata": {},
     "output_type": "execute_result"
    }
   ],
   "source": [
    "ventas[:,[0,2]]"
   ]
  },
  {
   "cell_type": "markdown",
   "id": "cb73821a-c475-42e6-a7ea-503f89504517",
   "metadata": {},
   "source": [
    "#### Por tu cuenta\n",
    "\n",
    "Dado el siguiente arreglo\n",
    "\n",
    "array([[1,2,3,4,5],\n",
    "     [6,7,8,9,10],\n",
    "     [11,12,13,14,15]])\n",
    "\n",
    "- Selecciona la segunda fila\n",
    "- Selecciona la primera y tercera fila\n",
    "- Selecciona las tres columnas de enmedio"
   ]
  },
  {
   "cell_type": "code",
   "execution_count": 36,
   "id": "675c1945-945d-4b06-b0f6-72daed5b59a7",
   "metadata": {},
   "outputs": [
    {
     "name": "stdout",
     "output_type": "stream",
     "text": [
      "[[ 1  2  3  4  5]\n",
      " [ 6  7  8  9 10]\n",
      " [11 12 13 14 15]]\n"
     ]
    }
   ],
   "source": [
    "var1=np.array([[1,2,3,4,5], [6,7,8,9,10], [11,12,13,14,15]])\n",
    "print(var1)"
   ]
  },
  {
   "cell_type": "code",
   "execution_count": 37,
   "id": "9d980184-42de-45f3-8bd1-b327cbb0f14c",
   "metadata": {},
   "outputs": [
    {
     "data": {
      "text/plain": [
       "array([ 6,  7,  8,  9, 10])"
      ]
     },
     "execution_count": 37,
     "metadata": {},
     "output_type": "execute_result"
    }
   ],
   "source": [
    "var1[1]"
   ]
  },
  {
   "cell_type": "code",
   "execution_count": 39,
   "id": "7b48f140-6ab2-4815-a56f-a18d0e6549d9",
   "metadata": {},
   "outputs": [
    {
     "data": {
      "text/plain": [
       "array([[ 1,  2,  3,  4,  5],\n",
       "       [11, 12, 13, 14, 15]])"
      ]
     },
     "execution_count": 39,
     "metadata": {},
     "output_type": "execute_result"
    }
   ],
   "source": [
    "var1[[0,2],:]"
   ]
  },
  {
   "cell_type": "code",
   "execution_count": 40,
   "id": "2ea8f01a-aedb-419d-98b9-5c503f43db91",
   "metadata": {},
   "outputs": [
    {
     "data": {
      "text/plain": [
       "array([[ 2,  3,  4],\n",
       "       [ 7,  8,  9],\n",
       "       [12, 13, 14]])"
      ]
     },
     "execution_count": 40,
     "metadata": {},
     "output_type": "execute_result"
    }
   ],
   "source": [
    "var1[:,[1,2,3]]"
   ]
  },
  {
   "cell_type": "markdown",
   "id": "8ed698fe-8ed9-4b5a-9d46-245c1c01cda3",
   "metadata": {},
   "source": [
    "### 7.4.2.- Transponer"
   ]
  },
  {
   "cell_type": "markdown",
   "id": "c7fd8c57-a81a-46ca-a28a-798ba2768691",
   "metadata": {},
   "source": [
    "Con **reshape** puedes producir una copia superficial del arreglo con una nueva dimension. \n",
    "\n",
    "ventas = np.array([[ 500, 600, 550, 800],\n",
    " [1200, 800, 400,1000]])\n",
    "\n",
    "Usa el arreglo anterior para darle dimension de 1x8"
   ]
  },
  {
   "cell_type": "code",
   "execution_count": 41,
   "id": "58e2c7e7-96a8-4c4b-a295-57302850205f",
   "metadata": {},
   "outputs": [],
   "source": [
    "ventas = np.array([[ 500, 600, 550, 800], [1200, 800, 400,1000]])"
   ]
  },
  {
   "cell_type": "code",
   "execution_count": 43,
   "id": "e16542fe-41f9-4087-982b-47cca3737cba",
   "metadata": {},
   "outputs": [
    {
     "data": {
      "text/plain": [
       "array([[ 500,  600,  550,  800, 1200,  800,  400, 1000]])"
      ]
     },
     "execution_count": 43,
     "metadata": {},
     "output_type": "execute_result"
    }
   ],
   "source": [
    "ventas.reshape(1,8) #no modifica ele original"
   ]
  },
  {
   "cell_type": "code",
   "execution_count": 44,
   "id": "0fffef55-2c77-45d0-9bce-0fe170f6624a",
   "metadata": {},
   "outputs": [
    {
     "data": {
      "text/plain": [
       "array([[ 500,  600,  550,  800],\n",
       "       [1200,  800,  400, 1000]])"
      ]
     },
     "execution_count": 44,
     "metadata": {},
     "output_type": "execute_result"
    }
   ],
   "source": [
    "ventas"
   ]
  },
  {
   "cell_type": "markdown",
   "id": "e6acba71-89bf-4dad-9a32-97d0456a9d42",
   "metadata": {},
   "source": [
    "El metodo **resize** modifica la forma del original (no crea copia)"
   ]
  },
  {
   "cell_type": "code",
   "execution_count": 45,
   "id": "d3a09d74-276a-4058-b7eb-626be83f46ca",
   "metadata": {},
   "outputs": [],
   "source": [
    "ventas.resize(1,8)"
   ]
  },
  {
   "cell_type": "code",
   "execution_count": 46,
   "id": "0b6c4b5e-217b-452e-bb6a-da4bc127160c",
   "metadata": {},
   "outputs": [
    {
     "data": {
      "text/plain": [
       "array([[ 500,  600,  550,  800, 1200,  800,  400, 1000]])"
      ]
     },
     "execution_count": 46,
     "metadata": {},
     "output_type": "execute_result"
    }
   ],
   "source": [
    "ventas"
   ]
  },
  {
   "cell_type": "markdown",
   "id": "e29a637e-549e-4c80-b2c7-0ec892cc5823",
   "metadata": {},
   "source": [
    "Y **transpose** rapidamente le da la vuelta a filas y columnas, este se hace aplicando el atributo T, que no modifica el original, solo una vista."
   ]
  },
  {
   "cell_type": "code",
   "execution_count": 47,
   "id": "405d533c-7fe5-40a6-b050-09768d004b2e",
   "metadata": {},
   "outputs": [
    {
     "data": {
      "text/plain": [
       "array([[ 500, 1200],\n",
       "       [ 600,  800],\n",
       "       [ 550,  400],\n",
       "       [ 800, 1000]])"
      ]
     },
     "execution_count": 47,
     "metadata": {},
     "output_type": "execute_result"
    }
   ],
   "source": [
    "ventas = np.array([[ 500, 600, 550, 800], [1200, 800, 400,1000]])\n",
    "ventas.T #no modifica el original"
   ]
  },
  {
   "cell_type": "code",
   "execution_count": 48,
   "id": "c031a146-107d-4f31-94a0-5a2e448ea493",
   "metadata": {},
   "outputs": [
    {
     "data": {
      "text/plain": [
       "array([[ 500,  600,  550,  800],\n",
       "       [1200,  800,  400, 1000]])"
      ]
     },
     "execution_count": 48,
     "metadata": {},
     "output_type": "execute_result"
    }
   ],
   "source": [
    "ventas"
   ]
  },
  {
   "cell_type": "markdown",
   "id": "446be823-0988-4ba6-b774-dd4be5653627",
   "metadata": {},
   "source": [
    "## 7.5.- Pandas - Series"
   ]
  },
  {
   "cell_type": "markdown",
   "id": "b3a5d8b4-6ecf-4679-bf47-9903d80d6d30",
   "metadata": {},
   "source": [
    "Vamos a usar estos datos para Series - tiempo_web = pd.Series([160,256,98,108])\n",
    "\n",
    "Este es el tiempo que invierten en videojuegos 4 estudiantes"
   ]
  },
  {
   "cell_type": "code",
   "execution_count": 49,
   "id": "e5e4af90-829b-41bd-83ee-9d98686e646c",
   "metadata": {},
   "outputs": [],
   "source": [
    "import pandas as pd"
   ]
  },
  {
   "cell_type": "code",
   "execution_count": 50,
   "id": "90dcae4b-11c5-477d-a2e6-6f74e51e4ba8",
   "metadata": {},
   "outputs": [],
   "source": [
    "tiempo_web = pd.Series([160,256,98,108])"
   ]
  },
  {
   "cell_type": "code",
   "execution_count": 51,
   "id": "21d21aba-f304-4ef5-8f4f-3237e68c0265",
   "metadata": {},
   "outputs": [
    {
     "data": {
      "text/plain": [
       "0    160\n",
       "1    256\n",
       "2     98\n",
       "3    108\n",
       "dtype: int64"
      ]
     },
     "execution_count": 51,
     "metadata": {},
     "output_type": "execute_result"
    }
   ],
   "source": [
    "tiempo_web"
   ]
  },
  {
   "cell_type": "markdown",
   "id": "6328aaa1-5e96-4f5f-8e8a-d3a0955eb951",
   "metadata": {},
   "source": [
    "Para crear una serie con el mismo elemento"
   ]
  },
  {
   "cell_type": "code",
   "execution_count": 52,
   "id": "533c703a-ffaf-4bbb-9bc4-91265e3a1597",
   "metadata": {},
   "outputs": [],
   "source": [
    "var1 = pd.Series(3.14,range(5))"
   ]
  },
  {
   "cell_type": "code",
   "execution_count": 53,
   "id": "e42c5090-f2a6-4615-8257-ddc98dbc4825",
   "metadata": {},
   "outputs": [
    {
     "data": {
      "text/plain": [
       "0    3.14\n",
       "1    3.14\n",
       "2    3.14\n",
       "3    3.14\n",
       "4    3.14\n",
       "dtype: float64"
      ]
     },
     "execution_count": 53,
     "metadata": {},
     "output_type": "execute_result"
    }
   ],
   "source": [
    "var1"
   ]
  },
  {
   "cell_type": "markdown",
   "id": "84913618-dc50-4d63-bfae-c8df7ba75e90",
   "metadata": {},
   "source": [
    "Acceder a un elemento es facil"
   ]
  },
  {
   "cell_type": "code",
   "execution_count": 54,
   "id": "f554ada1-b2ff-4cc4-b78e-e762f1c798f4",
   "metadata": {},
   "outputs": [
    {
     "data": {
      "text/plain": [
       "3.14"
      ]
     },
     "execution_count": 54,
     "metadata": {},
     "output_type": "execute_result"
    }
   ],
   "source": [
    "var1[0]"
   ]
  },
  {
   "cell_type": "markdown",
   "id": "53762262-5359-4a6a-9b5b-677280c94372",
   "metadata": {},
   "source": [
    "Series tiene acceso a los mismos metodos que arreglos para estadistica descriptiva"
   ]
  },
  {
   "cell_type": "code",
   "execution_count": 55,
   "id": "1825114c-1497-4321-9d4d-938ae5b677f7",
   "metadata": {},
   "outputs": [
    {
     "data": {
      "text/plain": [
       "155.5"
      ]
     },
     "execution_count": 55,
     "metadata": {},
     "output_type": "execute_result"
    }
   ],
   "source": [
    "tiempo_web.mean()"
   ]
  },
  {
   "cell_type": "markdown",
   "id": "da94bc72-a01b-4e21-a69d-aea7ad822baf",
   "metadata": {},
   "source": [
    "Tambien, todo esto se puede resumir con **describe**"
   ]
  },
  {
   "cell_type": "code",
   "execution_count": 56,
   "id": "c00b33fc-5444-485f-b5c2-d9166b3f24e2",
   "metadata": {},
   "outputs": [
    {
     "data": {
      "text/plain": [
       "count      4.000000\n",
       "mean     155.500000\n",
       "std       72.302605\n",
       "min       98.000000\n",
       "25%      105.500000\n",
       "50%      134.000000\n",
       "75%      184.000000\n",
       "max      256.000000\n",
       "dtype: float64"
      ]
     },
     "execution_count": 56,
     "metadata": {},
     "output_type": "execute_result"
    }
   ],
   "source": [
    "tiempo_web.describe()"
   ]
  },
  {
   "cell_type": "markdown",
   "id": "699ec1ca-880f-4b3b-8bff-b0bbab8bd490",
   "metadata": {},
   "source": [
    "También podemos personalizar los indices de series a traves de index\n",
    "\n",
    "['Laura','Daniel','Alberto','Eva'] \n",
    "\n",
    "Asigna esos nombres"
   ]
  },
  {
   "cell_type": "code",
   "execution_count": 57,
   "id": "431dd272-ae38-4c30-aff9-c66824336000",
   "metadata": {},
   "outputs": [],
   "source": [
    "tiempo_web = pd.Series([160,256,98,108],index=['Laura','Daniel','Alberto','Eva'])"
   ]
  },
  {
   "cell_type": "code",
   "execution_count": 58,
   "id": "51517755-9a53-41bd-9804-d76aca88820d",
   "metadata": {},
   "outputs": [
    {
     "data": {
      "text/plain": [
       "Laura      160\n",
       "Daniel     256\n",
       "Alberto     98\n",
       "Eva        108\n",
       "dtype: int64"
      ]
     },
     "execution_count": 58,
     "metadata": {},
     "output_type": "execute_result"
    }
   ],
   "source": [
    "tiempo_web"
   ]
  },
  {
   "cell_type": "code",
   "execution_count": 59,
   "id": "01e78f65-f529-41ee-bebb-2034956ce2a7",
   "metadata": {},
   "outputs": [
    {
     "data": {
      "text/plain": [
       "108"
      ]
     },
     "execution_count": 59,
     "metadata": {},
     "output_type": "execute_result"
    }
   ],
   "source": [
    "tiempo_web['Eva']"
   ]
  },
  {
   "cell_type": "markdown",
   "id": "2493cf0c-c4e6-41ae-b13d-2dd390c2a460",
   "metadata": {},
   "source": [
    "O puedes usar un diccionario para eso:"
   ]
  },
  {
   "cell_type": "code",
   "execution_count": 60,
   "id": "41c0aa8c-e1a5-432d-8274-b8452c635249",
   "metadata": {},
   "outputs": [],
   "source": [
    "tiempo_web = pd.Series({'eva':22,'lenin':23})"
   ]
  },
  {
   "cell_type": "code",
   "execution_count": 61,
   "id": "21cf3969-a19e-4e88-9a46-d4c90e005058",
   "metadata": {},
   "outputs": [
    {
     "data": {
      "text/plain": [
       "eva      22\n",
       "lenin    23\n",
       "dtype: int64"
      ]
     },
     "execution_count": 61,
     "metadata": {},
     "output_type": "execute_result"
    }
   ],
   "source": [
    "tiempo_web"
   ]
  },
  {
   "cell_type": "markdown",
   "id": "96b10252-661d-40dd-8272-9aec8d23fa4f",
   "metadata": {},
   "source": [
    "Puedes llamar a los elementos personalizados"
   ]
  },
  {
   "cell_type": "code",
   "execution_count": 62,
   "id": "9840eec1-0ffe-43fc-8bde-c04fef78798d",
   "metadata": {},
   "outputs": [
    {
     "data": {
      "text/plain": [
       "23"
      ]
     },
     "execution_count": 62,
     "metadata": {},
     "output_type": "execute_result"
    }
   ],
   "source": [
    "tiempo_web['lenin']"
   ]
  },
  {
   "cell_type": "markdown",
   "id": "4fda0170-2977-4b09-b632-970103acfb2a",
   "metadata": {},
   "source": [
    "Tambien se pueden llamar como atributos"
   ]
  },
  {
   "cell_type": "code",
   "execution_count": 63,
   "id": "c34e0016-7036-4fc8-9d97-ada58c9e333a",
   "metadata": {},
   "outputs": [
    {
     "data": {
      "text/plain": [
       "23"
      ]
     },
     "execution_count": 63,
     "metadata": {},
     "output_type": "execute_result"
    }
   ],
   "source": [
    "tiempo_web.lenin"
   ]
  },
  {
   "cell_type": "markdown",
   "id": "cc54c19a-3e01-4b0f-a387-8b30c1f73249",
   "metadata": {},
   "source": [
    "#### Por tu cuenta\n",
    "\n",
    "Usa el generador aleatorio de NumPy (np.random.randint) para generar 6 calificaciones del 60 al 100 y guardarlos en una serie. \n",
    "\n",
    "A continuación arma las siguientes tareas:\n",
    "\n",
    "- Convierte el arreglo en una serie llamada calificacion\n",
    "- Determina la min, max y promedio\n",
    "- Produce TODAS las estadisticas descriptivas"
   ]
  },
  {
   "cell_type": "code",
   "execution_count": 65,
   "id": "0c738c46-099d-4a90-9dd7-e75f1fc17d52",
   "metadata": {},
   "outputs": [
    {
     "data": {
      "text/plain": [
       "array([97, 76, 32, 22, 70, 79])"
      ]
     },
     "execution_count": 65,
     "metadata": {},
     "output_type": "execute_result"
    }
   ],
   "source": [
    "var1 = np.random.randint(20,100,6)\n",
    "var1"
   ]
  },
  {
   "cell_type": "code",
   "execution_count": 67,
   "id": "4d0ce195-7796-4f58-a524-b7da09833be7",
   "metadata": {},
   "outputs": [
    {
     "data": {
      "text/plain": [
       "0    97\n",
       "1    76\n",
       "2    32\n",
       "3    22\n",
       "4    70\n",
       "5    79\n",
       "dtype: int64"
      ]
     },
     "execution_count": 67,
     "metadata": {},
     "output_type": "execute_result"
    }
   ],
   "source": [
    "calificacion = pd.Series(var1)\n",
    "calificacion"
   ]
  },
  {
   "cell_type": "code",
   "execution_count": 68,
   "id": "a3cd89e8-9222-4d01-9a6d-a1ff25d4f3a1",
   "metadata": {},
   "outputs": [
    {
     "data": {
      "text/plain": [
       "22"
      ]
     },
     "execution_count": 68,
     "metadata": {},
     "output_type": "execute_result"
    }
   ],
   "source": [
    "calificacion.min()"
   ]
  },
  {
   "cell_type": "code",
   "execution_count": 69,
   "id": "b25f696d-1314-414f-82f3-073fd2208405",
   "metadata": {},
   "outputs": [
    {
     "data": {
      "text/plain": [
       "97"
      ]
     },
     "execution_count": 69,
     "metadata": {},
     "output_type": "execute_result"
    }
   ],
   "source": [
    "calificacion.max()"
   ]
  },
  {
   "cell_type": "code",
   "execution_count": 70,
   "id": "94f44153-38d3-458e-96da-f48b83e00ba4",
   "metadata": {},
   "outputs": [
    {
     "data": {
      "text/plain": [
       "62.666666666666664"
      ]
     },
     "execution_count": 70,
     "metadata": {},
     "output_type": "execute_result"
    }
   ],
   "source": [
    "calificacion.mean()"
   ]
  },
  {
   "cell_type": "code",
   "execution_count": 71,
   "id": "6013999b-053e-47f2-9bbd-0a5bc7109049",
   "metadata": {},
   "outputs": [
    {
     "data": {
      "text/plain": [
       "count     6.000000\n",
       "mean     62.666667\n",
       "std      29.227841\n",
       "min      22.000000\n",
       "25%      41.500000\n",
       "50%      73.000000\n",
       "75%      78.250000\n",
       "max      97.000000\n",
       "dtype: float64"
      ]
     },
     "execution_count": 71,
     "metadata": {},
     "output_type": "execute_result"
    }
   ],
   "source": [
    "calificacion.describe()"
   ]
  },
  {
   "cell_type": "markdown",
   "id": "e1d8562d-ea27-411c-8862-52d3582dceaf",
   "metadata": {},
   "source": [
    "## 7.6.- Pandas - DataFrames"
   ]
  },
  {
   "cell_type": "markdown",
   "id": "fd5a2577-feb0-4dab-bfd5-af9d59bcfe5e",
   "metadata": {},
   "source": [
    "##### Crear un Dataframe de un diccionario\n",
    "\n",
    "Agarra este diccionario y conviertelo en un dataframe\n",
    "\n",
    " reg_peso = {'Vanesa':[68,67,66,65],'Kevin':[89,89,90,88],\n",
    " 'Fernanda':[59,60,60,62],'Patricia':[70,68,67,65]}"
   ]
  },
  {
   "cell_type": "code",
   "execution_count": 73,
   "id": "63b5157c-a78c-4c4f-8485-f758c37389af",
   "metadata": {},
   "outputs": [
    {
     "data": {
      "text/plain": [
       "{'Vanesa': [68, 67, 66, 65],\n",
       " 'Kevin': [89, 89, 90, 88],\n",
       " 'Fernanda': [59, 60, 60, 62],\n",
       " 'Patricia': [70, 68, 67, 65]}"
      ]
     },
     "execution_count": 73,
     "metadata": {},
     "output_type": "execute_result"
    }
   ],
   "source": [
    "reg_peso = {'Vanesa':[68,67,66,65],'Kevin':[89,89,90,88], 'Fernanda':[59,60,60,62],'Patricia':[70,68,67,65]}\n",
    "reg_peso"
   ]
  },
  {
   "cell_type": "code",
   "execution_count": 74,
   "id": "cd368165-eb15-486b-87e4-8707bcc57418",
   "metadata": {},
   "outputs": [
    {
     "data": {
      "text/html": [
       "<div>\n",
       "<style scoped>\n",
       "    .dataframe tbody tr th:only-of-type {\n",
       "        vertical-align: middle;\n",
       "    }\n",
       "\n",
       "    .dataframe tbody tr th {\n",
       "        vertical-align: top;\n",
       "    }\n",
       "\n",
       "    .dataframe thead th {\n",
       "        text-align: right;\n",
       "    }\n",
       "</style>\n",
       "<table border=\"1\" class=\"dataframe\">\n",
       "  <thead>\n",
       "    <tr style=\"text-align: right;\">\n",
       "      <th></th>\n",
       "      <th>Vanesa</th>\n",
       "      <th>Kevin</th>\n",
       "      <th>Fernanda</th>\n",
       "      <th>Patricia</th>\n",
       "    </tr>\n",
       "  </thead>\n",
       "  <tbody>\n",
       "    <tr>\n",
       "      <th>0</th>\n",
       "      <td>68</td>\n",
       "      <td>89</td>\n",
       "      <td>59</td>\n",
       "      <td>70</td>\n",
       "    </tr>\n",
       "    <tr>\n",
       "      <th>1</th>\n",
       "      <td>67</td>\n",
       "      <td>89</td>\n",
       "      <td>60</td>\n",
       "      <td>68</td>\n",
       "    </tr>\n",
       "    <tr>\n",
       "      <th>2</th>\n",
       "      <td>66</td>\n",
       "      <td>90</td>\n",
       "      <td>60</td>\n",
       "      <td>67</td>\n",
       "    </tr>\n",
       "    <tr>\n",
       "      <th>3</th>\n",
       "      <td>65</td>\n",
       "      <td>88</td>\n",
       "      <td>62</td>\n",
       "      <td>65</td>\n",
       "    </tr>\n",
       "  </tbody>\n",
       "</table>\n",
       "</div>"
      ],
      "text/plain": [
       "   Vanesa  Kevin  Fernanda  Patricia\n",
       "0      68     89        59        70\n",
       "1      67     89        60        68\n",
       "2      66     90        60        67\n",
       "3      65     88        62        65"
      ]
     },
     "execution_count": 74,
     "metadata": {},
     "output_type": "execute_result"
    }
   ],
   "source": [
    "peso = pd.DataFrame(reg_peso)\n",
    "peso"
   ]
  },
  {
   "cell_type": "code",
   "execution_count": 75,
   "id": "c93dc85f-c74b-4592-aadf-ac6e7102ab5c",
   "metadata": {},
   "outputs": [
    {
     "data": {
      "text/plain": [
       "0    70\n",
       "1    68\n",
       "2    67\n",
       "3    65\n",
       "Name: Patricia, dtype: int64"
      ]
     },
     "execution_count": 75,
     "metadata": {},
     "output_type": "execute_result"
    }
   ],
   "source": [
    "peso.Patricia"
   ]
  },
  {
   "cell_type": "code",
   "execution_count": 77,
   "id": "42f7fa26-0ab1-42db-a5c5-72d2754120d6",
   "metadata": {},
   "outputs": [
    {
     "data": {
      "text/plain": [
       "0    59\n",
       "1    60\n",
       "2    60\n",
       "3    62\n",
       "Name: Fernanda, dtype: int64"
      ]
     },
     "execution_count": 77,
     "metadata": {},
     "output_type": "execute_result"
    }
   ],
   "source": [
    "peso['Fernanda']"
   ]
  },
  {
   "cell_type": "markdown",
   "id": "dbc1ed3b-ea2f-489f-8b47-68c90c6e37f3",
   "metadata": {},
   "source": [
    "##### El atributo Index\n",
    "\n",
    "Añade los siguientes indices personalizados\n",
    "\n",
    "peso.index = ['Mes 1','Mes 2','Mes 3','Mes 4']"
   ]
  },
  {
   "cell_type": "code",
   "execution_count": 78,
   "id": "5fb7e38f-4046-401e-8ba4-09e01d79fc56",
   "metadata": {},
   "outputs": [],
   "source": [
    "peso.index = ['Mes 1','Mes 2','Mes 3','Mes 4']"
   ]
  },
  {
   "cell_type": "code",
   "execution_count": 79,
   "id": "c7fcaed2-3ecf-4375-8e6b-2405b3656327",
   "metadata": {},
   "outputs": [
    {
     "data": {
      "text/html": [
       "<div>\n",
       "<style scoped>\n",
       "    .dataframe tbody tr th:only-of-type {\n",
       "        vertical-align: middle;\n",
       "    }\n",
       "\n",
       "    .dataframe tbody tr th {\n",
       "        vertical-align: top;\n",
       "    }\n",
       "\n",
       "    .dataframe thead th {\n",
       "        text-align: right;\n",
       "    }\n",
       "</style>\n",
       "<table border=\"1\" class=\"dataframe\">\n",
       "  <thead>\n",
       "    <tr style=\"text-align: right;\">\n",
       "      <th></th>\n",
       "      <th>Vanesa</th>\n",
       "      <th>Kevin</th>\n",
       "      <th>Fernanda</th>\n",
       "      <th>Patricia</th>\n",
       "    </tr>\n",
       "  </thead>\n",
       "  <tbody>\n",
       "    <tr>\n",
       "      <th>Mes 1</th>\n",
       "      <td>68</td>\n",
       "      <td>89</td>\n",
       "      <td>59</td>\n",
       "      <td>70</td>\n",
       "    </tr>\n",
       "    <tr>\n",
       "      <th>Mes 2</th>\n",
       "      <td>67</td>\n",
       "      <td>89</td>\n",
       "      <td>60</td>\n",
       "      <td>68</td>\n",
       "    </tr>\n",
       "    <tr>\n",
       "      <th>Mes 3</th>\n",
       "      <td>66</td>\n",
       "      <td>90</td>\n",
       "      <td>60</td>\n",
       "      <td>67</td>\n",
       "    </tr>\n",
       "    <tr>\n",
       "      <th>Mes 4</th>\n",
       "      <td>65</td>\n",
       "      <td>88</td>\n",
       "      <td>62</td>\n",
       "      <td>65</td>\n",
       "    </tr>\n",
       "  </tbody>\n",
       "</table>\n",
       "</div>"
      ],
      "text/plain": [
       "       Vanesa  Kevin  Fernanda  Patricia\n",
       "Mes 1      68     89        59        70\n",
       "Mes 2      67     89        60        68\n",
       "Mes 3      66     90        60        67\n",
       "Mes 4      65     88        62        65"
      ]
     },
     "execution_count": 79,
     "metadata": {},
     "output_type": "execute_result"
    }
   ],
   "source": [
    "peso"
   ]
  },
  {
   "cell_type": "markdown",
   "id": "5865da9f-efe7-4389-8930-b80dfa1dfb4c",
   "metadata": {},
   "source": [
    "##### Accesar Columnas\n",
    "\n",
    "Selecciona la información de Fernanda"
   ]
  },
  {
   "cell_type": "code",
   "execution_count": 80,
   "id": "ad5133f7-8a39-4064-b38d-475570f0a83d",
   "metadata": {},
   "outputs": [
    {
     "data": {
      "text/plain": [
       "Mes 1    59\n",
       "Mes 2    60\n",
       "Mes 3    60\n",
       "Mes 4    62\n",
       "Name: Fernanda, dtype: int64"
      ]
     },
     "execution_count": 80,
     "metadata": {},
     "output_type": "execute_result"
    }
   ],
   "source": [
    "peso['Fernanda']"
   ]
  },
  {
   "cell_type": "markdown",
   "id": "de73087e-5f5a-4c42-a28d-c3d49adc5e62",
   "metadata": {},
   "source": [
    "Selecciona la de Patricia pero como atributo"
   ]
  },
  {
   "cell_type": "code",
   "execution_count": 81,
   "id": "922e871d-4817-43ae-80f4-0c3fa0689fcd",
   "metadata": {},
   "outputs": [
    {
     "data": {
      "text/plain": [
       "Mes 1    70\n",
       "Mes 2    68\n",
       "Mes 3    67\n",
       "Mes 4    65\n",
       "Name: Patricia, dtype: int64"
      ]
     },
     "execution_count": 81,
     "metadata": {},
     "output_type": "execute_result"
    }
   ],
   "source": [
    "peso.Patricia"
   ]
  },
  {
   "cell_type": "markdown",
   "id": "ddc61884-7689-47b4-acad-14c07386226c",
   "metadata": {},
   "source": [
    "##### Loc y iloc\n",
    "\n",
    "Selecciona la información del Mes1 usando Loc"
   ]
  },
  {
   "cell_type": "code",
   "execution_count": 83,
   "id": "1133eeb0-6a7f-4ee9-aa19-1b5d69e9aba9",
   "metadata": {},
   "outputs": [
    {
     "data": {
      "text/plain": [
       "Vanesa      68\n",
       "Kevin       89\n",
       "Fernanda    59\n",
       "Patricia    70\n",
       "Name: Mes 1, dtype: int64"
      ]
     },
     "execution_count": 83,
     "metadata": {},
     "output_type": "execute_result"
    }
   ],
   "source": [
    "peso.loc['Mes 1']"
   ]
  },
  {
   "cell_type": "markdown",
   "id": "43b4a2a9-021f-461f-96c5-a711cd27354d",
   "metadata": {},
   "source": [
    "Ahora solo la fila 1 usando iloc"
   ]
  },
  {
   "cell_type": "code",
   "execution_count": 84,
   "id": "77d9df78-af24-4652-bade-bf87cbbafd10",
   "metadata": {},
   "outputs": [
    {
     "data": {
      "text/plain": [
       "Vanesa      67\n",
       "Kevin       89\n",
       "Fernanda    60\n",
       "Patricia    68\n",
       "Name: Mes 2, dtype: int64"
      ]
     },
     "execution_count": 84,
     "metadata": {},
     "output_type": "execute_result"
    }
   ],
   "source": [
    "peso.iloc[1]"
   ]
  },
  {
   "cell_type": "markdown",
   "id": "e41971f3-a6cb-4dd9-91a3-58d240d8baa4",
   "metadata": {},
   "source": [
    "Ahora del Mes 1 al Mes 3 usando loc"
   ]
  },
  {
   "cell_type": "code",
   "execution_count": 85,
   "id": "0aead456-79b0-4de7-895b-064466924796",
   "metadata": {},
   "outputs": [
    {
     "data": {
      "text/html": [
       "<div>\n",
       "<style scoped>\n",
       "    .dataframe tbody tr th:only-of-type {\n",
       "        vertical-align: middle;\n",
       "    }\n",
       "\n",
       "    .dataframe tbody tr th {\n",
       "        vertical-align: top;\n",
       "    }\n",
       "\n",
       "    .dataframe thead th {\n",
       "        text-align: right;\n",
       "    }\n",
       "</style>\n",
       "<table border=\"1\" class=\"dataframe\">\n",
       "  <thead>\n",
       "    <tr style=\"text-align: right;\">\n",
       "      <th></th>\n",
       "      <th>Vanesa</th>\n",
       "      <th>Kevin</th>\n",
       "      <th>Fernanda</th>\n",
       "      <th>Patricia</th>\n",
       "    </tr>\n",
       "  </thead>\n",
       "  <tbody>\n",
       "    <tr>\n",
       "      <th>Mes 1</th>\n",
       "      <td>68</td>\n",
       "      <td>89</td>\n",
       "      <td>59</td>\n",
       "      <td>70</td>\n",
       "    </tr>\n",
       "    <tr>\n",
       "      <th>Mes 2</th>\n",
       "      <td>67</td>\n",
       "      <td>89</td>\n",
       "      <td>60</td>\n",
       "      <td>68</td>\n",
       "    </tr>\n",
       "    <tr>\n",
       "      <th>Mes 3</th>\n",
       "      <td>66</td>\n",
       "      <td>90</td>\n",
       "      <td>60</td>\n",
       "      <td>67</td>\n",
       "    </tr>\n",
       "  </tbody>\n",
       "</table>\n",
       "</div>"
      ],
      "text/plain": [
       "       Vanesa  Kevin  Fernanda  Patricia\n",
       "Mes 1      68     89        59        70\n",
       "Mes 2      67     89        60        68\n",
       "Mes 3      66     90        60        67"
      ]
     },
     "execution_count": 85,
     "metadata": {},
     "output_type": "execute_result"
    }
   ],
   "source": [
    "peso.loc['Mes 1':'Mes 3']"
   ]
  },
  {
   "cell_type": "markdown",
   "id": "f3c15123-91f2-4e18-be70-ea286393715b",
   "metadata": {},
   "source": [
    "Saca filas especificas (mes 1 y 3) usando loc"
   ]
  },
  {
   "cell_type": "code",
   "execution_count": 89,
   "id": "f55a53bb-ea3e-4800-a10f-a1d2526ce6d7",
   "metadata": {},
   "outputs": [
    {
     "data": {
      "text/html": [
       "<div>\n",
       "<style scoped>\n",
       "    .dataframe tbody tr th:only-of-type {\n",
       "        vertical-align: middle;\n",
       "    }\n",
       "\n",
       "    .dataframe tbody tr th {\n",
       "        vertical-align: top;\n",
       "    }\n",
       "\n",
       "    .dataframe thead th {\n",
       "        text-align: right;\n",
       "    }\n",
       "</style>\n",
       "<table border=\"1\" class=\"dataframe\">\n",
       "  <thead>\n",
       "    <tr style=\"text-align: right;\">\n",
       "      <th></th>\n",
       "      <th>Vanesa</th>\n",
       "      <th>Kevin</th>\n",
       "      <th>Fernanda</th>\n",
       "      <th>Patricia</th>\n",
       "    </tr>\n",
       "  </thead>\n",
       "  <tbody>\n",
       "    <tr>\n",
       "      <th>Mes 1</th>\n",
       "      <td>68</td>\n",
       "      <td>89</td>\n",
       "      <td>59</td>\n",
       "      <td>70</td>\n",
       "    </tr>\n",
       "    <tr>\n",
       "      <th>Mes 3</th>\n",
       "      <td>66</td>\n",
       "      <td>90</td>\n",
       "      <td>60</td>\n",
       "      <td>67</td>\n",
       "    </tr>\n",
       "  </tbody>\n",
       "</table>\n",
       "</div>"
      ],
      "text/plain": [
       "       Vanesa  Kevin  Fernanda  Patricia\n",
       "Mes 1      68     89        59        70\n",
       "Mes 3      66     90        60        67"
      ]
     },
     "execution_count": 89,
     "metadata": {},
     "output_type": "execute_result"
    }
   ],
   "source": [
    "peso.loc[['Mes 1','Mes 3']]"
   ]
  },
  {
   "cell_type": "markdown",
   "id": "047a7464-3cc9-4a78-8f91-6eab1f4ebea1",
   "metadata": {},
   "source": [
    "Y ahora los Meses 2 y 3 de Vanesa y Patricia solamente con loc"
   ]
  },
  {
   "cell_type": "code",
   "execution_count": 90,
   "id": "de605887-1a1b-4443-ab51-34ccabc0da62",
   "metadata": {},
   "outputs": [
    {
     "data": {
      "text/html": [
       "<div>\n",
       "<style scoped>\n",
       "    .dataframe tbody tr th:only-of-type {\n",
       "        vertical-align: middle;\n",
       "    }\n",
       "\n",
       "    .dataframe tbody tr th {\n",
       "        vertical-align: top;\n",
       "    }\n",
       "\n",
       "    .dataframe thead th {\n",
       "        text-align: right;\n",
       "    }\n",
       "</style>\n",
       "<table border=\"1\" class=\"dataframe\">\n",
       "  <thead>\n",
       "    <tr style=\"text-align: right;\">\n",
       "      <th></th>\n",
       "      <th>Vanesa</th>\n",
       "      <th>Patricia</th>\n",
       "    </tr>\n",
       "  </thead>\n",
       "  <tbody>\n",
       "    <tr>\n",
       "      <th>Mes 2</th>\n",
       "      <td>67</td>\n",
       "      <td>68</td>\n",
       "    </tr>\n",
       "    <tr>\n",
       "      <th>Mes 3</th>\n",
       "      <td>66</td>\n",
       "      <td>67</td>\n",
       "    </tr>\n",
       "  </tbody>\n",
       "</table>\n",
       "</div>"
      ],
      "text/plain": [
       "       Vanesa  Patricia\n",
       "Mes 2      67        68\n",
       "Mes 3      66        67"
      ]
     },
     "execution_count": 90,
     "metadata": {},
     "output_type": "execute_result"
    }
   ],
   "source": [
    "peso.loc[['Mes 2','Mes 3'],['Vanesa','Patricia']]"
   ]
  },
  {
   "cell_type": "markdown",
   "id": "dff5c389-8633-4f16-bb42-e11a3f1430a1",
   "metadata": {},
   "source": [
    "##### Indices Booleanos\n",
    "\n",
    "Dime los pesos mayores a 70kg en la tabla"
   ]
  },
  {
   "cell_type": "code",
   "execution_count": 91,
   "id": "d3b29ad2-ac97-49fa-9c0c-1c0521dffd22",
   "metadata": {},
   "outputs": [
    {
     "data": {
      "text/html": [
       "<div>\n",
       "<style scoped>\n",
       "    .dataframe tbody tr th:only-of-type {\n",
       "        vertical-align: middle;\n",
       "    }\n",
       "\n",
       "    .dataframe tbody tr th {\n",
       "        vertical-align: top;\n",
       "    }\n",
       "\n",
       "    .dataframe thead th {\n",
       "        text-align: right;\n",
       "    }\n",
       "</style>\n",
       "<table border=\"1\" class=\"dataframe\">\n",
       "  <thead>\n",
       "    <tr style=\"text-align: right;\">\n",
       "      <th></th>\n",
       "      <th>Vanesa</th>\n",
       "      <th>Kevin</th>\n",
       "      <th>Fernanda</th>\n",
       "      <th>Patricia</th>\n",
       "    </tr>\n",
       "  </thead>\n",
       "  <tbody>\n",
       "    <tr>\n",
       "      <th>Mes 1</th>\n",
       "      <td>NaN</td>\n",
       "      <td>89</td>\n",
       "      <td>NaN</td>\n",
       "      <td>70.0</td>\n",
       "    </tr>\n",
       "    <tr>\n",
       "      <th>Mes 2</th>\n",
       "      <td>NaN</td>\n",
       "      <td>89</td>\n",
       "      <td>NaN</td>\n",
       "      <td>NaN</td>\n",
       "    </tr>\n",
       "    <tr>\n",
       "      <th>Mes 3</th>\n",
       "      <td>NaN</td>\n",
       "      <td>90</td>\n",
       "      <td>NaN</td>\n",
       "      <td>NaN</td>\n",
       "    </tr>\n",
       "    <tr>\n",
       "      <th>Mes 4</th>\n",
       "      <td>NaN</td>\n",
       "      <td>88</td>\n",
       "      <td>NaN</td>\n",
       "      <td>NaN</td>\n",
       "    </tr>\n",
       "  </tbody>\n",
       "</table>\n",
       "</div>"
      ],
      "text/plain": [
       "       Vanesa  Kevin  Fernanda  Patricia\n",
       "Mes 1     NaN     89       NaN      70.0\n",
       "Mes 2     NaN     89       NaN       NaN\n",
       "Mes 3     NaN     90       NaN       NaN\n",
       "Mes 4     NaN     88       NaN       NaN"
      ]
     },
     "execution_count": 91,
     "metadata": {},
     "output_type": "execute_result"
    }
   ],
   "source": [
    "peso[peso>=70]"
   ]
  },
  {
   "cell_type": "markdown",
   "id": "57e29244-e5a0-4ff1-8fb0-a1722694f8e1",
   "metadata": {},
   "source": [
    "Y ahora los pesos mayores a 65kg y menores a 80kg"
   ]
  },
  {
   "cell_type": "code",
   "execution_count": 96,
   "id": "1f2f7128-8878-4fe7-a0be-7cf802513daf",
   "metadata": {},
   "outputs": [
    {
     "data": {
      "text/html": [
       "<div>\n",
       "<style scoped>\n",
       "    .dataframe tbody tr th:only-of-type {\n",
       "        vertical-align: middle;\n",
       "    }\n",
       "\n",
       "    .dataframe tbody tr th {\n",
       "        vertical-align: top;\n",
       "    }\n",
       "\n",
       "    .dataframe thead th {\n",
       "        text-align: right;\n",
       "    }\n",
       "</style>\n",
       "<table border=\"1\" class=\"dataframe\">\n",
       "  <thead>\n",
       "    <tr style=\"text-align: right;\">\n",
       "      <th></th>\n",
       "      <th>Vanesa</th>\n",
       "      <th>Kevin</th>\n",
       "      <th>Fernanda</th>\n",
       "      <th>Patricia</th>\n",
       "    </tr>\n",
       "  </thead>\n",
       "  <tbody>\n",
       "    <tr>\n",
       "      <th>Mes 1</th>\n",
       "      <td>68</td>\n",
       "      <td>89</td>\n",
       "      <td>59</td>\n",
       "      <td>70</td>\n",
       "    </tr>\n",
       "    <tr>\n",
       "      <th>Mes 2</th>\n",
       "      <td>67</td>\n",
       "      <td>89</td>\n",
       "      <td>60</td>\n",
       "      <td>68</td>\n",
       "    </tr>\n",
       "    <tr>\n",
       "      <th>Mes 3</th>\n",
       "      <td>66</td>\n",
       "      <td>90</td>\n",
       "      <td>60</td>\n",
       "      <td>67</td>\n",
       "    </tr>\n",
       "    <tr>\n",
       "      <th>Mes 4</th>\n",
       "      <td>65</td>\n",
       "      <td>88</td>\n",
       "      <td>62</td>\n",
       "      <td>65</td>\n",
       "    </tr>\n",
       "  </tbody>\n",
       "</table>\n",
       "</div>"
      ],
      "text/plain": [
       "       Vanesa  Kevin  Fernanda  Patricia\n",
       "Mes 1      68     89        59        70\n",
       "Mes 2      67     89        60        68\n",
       "Mes 3      66     90        60        67\n",
       "Mes 4      65     88        62        65"
      ]
     },
     "execution_count": 96,
     "metadata": {},
     "output_type": "execute_result"
    }
   ],
   "source": [
    "peso[peso>64 & (peso<80)]"
   ]
  },
  {
   "cell_type": "markdown",
   "id": "90c14bd6-1e0b-4075-aac5-4b535f422e5b",
   "metadata": {},
   "source": [
    "##### Accesar una celda especifica de un Dataframe\n",
    "\n",
    "Que pasa si solo queremos cuanto pesaba Patricia en el mes 3? Usa at"
   ]
  },
  {
   "cell_type": "code",
   "execution_count": 99,
   "id": "1bb262d0-6d83-4802-aadf-dbac198386fa",
   "metadata": {},
   "outputs": [
    {
     "data": {
      "text/plain": [
       "67"
      ]
     },
     "execution_count": 99,
     "metadata": {},
     "output_type": "execute_result"
    }
   ],
   "source": [
    "peso.at['Mes 3','Patricia']"
   ]
  },
  {
   "cell_type": "markdown",
   "id": "21bc424c-ee80-447b-8473-6bf8a8f4cf16",
   "metadata": {},
   "source": [
    "Resulta que Kevin en realidad pesaba 85kg en el mes 4, cambia su valor usando at"
   ]
  },
  {
   "cell_type": "code",
   "execution_count": null,
   "id": "47135819-af97-4cea-bb7a-9483bf8cf3ec",
   "metadata": {},
   "outputs": [],
   "source": []
  },
  {
   "cell_type": "code",
   "execution_count": null,
   "id": "f7886329-4b1d-467d-a71b-53f8ca53ca0f",
   "metadata": {},
   "outputs": [],
   "source": []
  },
  {
   "cell_type": "code",
   "execution_count": null,
   "id": "e6ec390f-904b-4b1d-906b-28df03fae7d8",
   "metadata": {},
   "outputs": [],
   "source": []
  },
  {
   "cell_type": "markdown",
   "id": "3d2c9477-5a2d-4c10-9e3d-a95ffa60941b",
   "metadata": {},
   "source": [
    "##### Estádistica descriptiva\n",
    "\n",
    "Puedes usar el metodo **Describe** para sacar todas las estadisticas del dataframe"
   ]
  },
  {
   "cell_type": "code",
   "execution_count": null,
   "id": "99a4bb9a-8837-4142-8a73-bca6cd941204",
   "metadata": {},
   "outputs": [],
   "source": []
  },
  {
   "cell_type": "markdown",
   "id": "c398e7ad-c0c7-4b91-be05-1afb9a28b2cc",
   "metadata": {},
   "source": [
    "También puedes cambiar la cantidad de decimales usando **Precision**"
   ]
  },
  {
   "cell_type": "code",
   "execution_count": null,
   "id": "e23483aa-11e5-488f-a341-0ce6bd2ca718",
   "metadata": {},
   "outputs": [],
   "source": []
  },
  {
   "cell_type": "code",
   "execution_count": null,
   "id": "e130504d-22b0-4b29-a6f5-aba46dfc2d9c",
   "metadata": {},
   "outputs": [],
   "source": []
  },
  {
   "cell_type": "markdown",
   "id": "62e66306-03f4-443a-917e-f3d10a1e7603",
   "metadata": {},
   "source": [
    "Y también se pueden aplicar los metodos de estadistica descriptiva individuales como mean"
   ]
  },
  {
   "cell_type": "code",
   "execution_count": null,
   "id": "81950ce6-bf4a-4d18-8de5-5a58d24c64ca",
   "metadata": {},
   "outputs": [],
   "source": []
  },
  {
   "cell_type": "markdown",
   "id": "467812ad-6fc3-4458-908b-4033b8d8e1b5",
   "metadata": {},
   "source": [
    "##### Transponer\n",
    "\n",
    "Si quisieramos voltear el dataframe, tendríamos que hacer el método T"
   ]
  },
  {
   "cell_type": "code",
   "execution_count": null,
   "id": "c7e2e759-2640-4b2d-8b39-0cd8c411b222",
   "metadata": {},
   "outputs": [],
   "source": []
  },
  {
   "cell_type": "markdown",
   "id": "6e48f3ca-e4a7-41ae-8d72-ad5ad28645d8",
   "metadata": {},
   "source": [
    "Y ahora eso nos ayudaría a sacar los estadísticos para los meses en vez de para las personas"
   ]
  },
  {
   "cell_type": "code",
   "execution_count": null,
   "id": "ce0909d6-6404-499c-aa41-866a88d836dd",
   "metadata": {},
   "outputs": [],
   "source": []
  },
  {
   "cell_type": "markdown",
   "id": "8066a37e-b1d7-43f9-ab02-2fdc92eb76fb",
   "metadata": {},
   "source": [
    "Y el peso promedio por mes de nuestra gente"
   ]
  },
  {
   "cell_type": "code",
   "execution_count": null,
   "id": "64970fa2-ceed-45c3-a87d-dda435d321f1",
   "metadata": {},
   "outputs": [],
   "source": []
  },
  {
   "cell_type": "markdown",
   "id": "b49b3eee-2eae-409c-8977-e731035f11ce",
   "metadata": {},
   "source": [
    "##### Ordenar el Dataframe\n",
    "\n",
    "Ahora vamos a arreglar el dataframe por fila, con los indices en orden descendente"
   ]
  },
  {
   "cell_type": "code",
   "execution_count": null,
   "id": "3e95f594-f9b0-4ba5-a9ca-63485e8197af",
   "metadata": {},
   "outputs": [],
   "source": []
  },
  {
   "cell_type": "markdown",
   "id": "69f1fef4-c2e4-4930-b82d-8b1f8bd73c48",
   "metadata": {},
   "source": [
    "Las columnas en orden ascendente"
   ]
  },
  {
   "cell_type": "code",
   "execution_count": null,
   "id": "82e908f9-97ea-48f0-9b53-7340985b9566",
   "metadata": {},
   "outputs": [],
   "source": []
  },
  {
   "cell_type": "markdown",
   "id": "29f1f219-b455-4984-ac22-864e7c088638",
   "metadata": {},
   "source": [
    "Y también se vale ordenar los valores según una fila o columna especifica.  El siguiente código ordena de forma descendente los datos del DataFrame con respecto\n",
    "a los valores del Mes 1."
   ]
  },
  {
   "cell_type": "code",
   "execution_count": null,
   "id": "cf6c2851-8e01-4996-a057-c903645feb59",
   "metadata": {},
   "outputs": [],
   "source": []
  },
  {
   "cell_type": "code",
   "execution_count": null,
   "id": "65255a14-b79c-4ce5-81bc-1ce0e774d059",
   "metadata": {},
   "outputs": [],
   "source": []
  }
 ],
 "metadata": {
  "kernelspec": {
   "display_name": "Python 3 (ipykernel)",
   "language": "python",
   "name": "python3"
  },
  "language_info": {
   "codemirror_mode": {
    "name": "ipython",
    "version": 3
   },
   "file_extension": ".py",
   "mimetype": "text/x-python",
   "name": "python",
   "nbconvert_exporter": "python",
   "pygments_lexer": "ipython3",
   "version": "3.9.12"
  }
 },
 "nbformat": 4,
 "nbformat_minor": 5
}
