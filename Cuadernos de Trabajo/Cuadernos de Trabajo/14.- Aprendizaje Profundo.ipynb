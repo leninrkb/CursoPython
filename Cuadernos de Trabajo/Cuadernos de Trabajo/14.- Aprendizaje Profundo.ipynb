{
 "cells": [
  {
   "cell_type": "markdown",
   "id": "effa394c-d3a8-4dc1-82a0-a410b4576d10",
   "metadata": {},
   "source": [
    "## Clasificación Múltiple con el Dataset MINST"
   ]
  },
  {
   "cell_type": "markdown",
   "id": "7dbe36b3-6f98-42ce-bc6b-8abf22aa4356",
   "metadata": {},
   "source": [
    "### Cargar el Dataset de MINST"
   ]
  },
  {
   "cell_type": "markdown",
   "id": "2ec99d1e-acda-47f7-ba5b-3e34ca925729",
   "metadata": {},
   "source": [
    "IMportemos el mdoulo de MINST desde keras"
   ]
  },
  {
   "cell_type": "code",
   "execution_count": 3,
   "id": "bd902d6e-b4e4-4333-9504-4f9a972a8f76",
   "metadata": {},
   "outputs": [],
   "source": [
    "import warnings\n",
    "warnings.filterwarnings(\"ignore\", category=UserWarning)\n",
    "warnings.simplefilter(action='ignore', category=FutureWarning)\n",
    "\n",
    "\n",
    "from tensorflow.keras.datasets import mnist"
   ]
  },
  {
   "cell_type": "markdown",
   "id": "0d8c1cd0-9791-4b18-8308-ec2e6c95c410",
   "metadata": {},
   "source": [
    "Carguemos los datos a nuestras tuplas clásicas de Train y test"
   ]
  },
  {
   "cell_type": "code",
   "execution_count": 2,
   "id": "8ef48c18-bd69-4955-b384-5cd5e9e7f05e",
   "metadata": {},
   "outputs": [],
   "source": [
    "(xtrain,ytrain),(xtest,ytest) = mnist.load_data()"
   ]
  },
  {
   "cell_type": "markdown",
   "id": "6fc7aeb2-bab8-41b2-9467-61ce0f467c3b",
   "metadata": {},
   "source": [
    "### Exploración de Datos"
   ]
  },
  {
   "cell_type": "markdown",
   "id": "655bc987-bd1b-477c-8770-f9d0326c8181",
   "metadata": {},
   "source": [
    "Obten el Shape de XTrain"
   ]
  },
  {
   "cell_type": "code",
   "execution_count": 3,
   "id": "60113bf6-0316-41be-8f7a-73c83dada43b",
   "metadata": {},
   "outputs": [
    {
     "data": {
      "text/plain": [
       "(60000, 28, 28)"
      ]
     },
     "execution_count": 3,
     "metadata": {},
     "output_type": "execute_result"
    }
   ],
   "source": [
    "xtrain.shape"
   ]
  },
  {
   "cell_type": "markdown",
   "id": "c20cb0a2-9f1f-42b7-a941-4d1c80545f25",
   "metadata": {},
   "source": [
    "Obten el Shape de yTrain"
   ]
  },
  {
   "cell_type": "code",
   "execution_count": 4,
   "id": "86cabfda-faca-479f-8473-1996bad3c10e",
   "metadata": {},
   "outputs": [
    {
     "data": {
      "text/plain": [
       "(60000,)"
      ]
     },
     "execution_count": 4,
     "metadata": {},
     "output_type": "execute_result"
    }
   ],
   "source": [
    "ytrain.shape"
   ]
  },
  {
   "cell_type": "markdown",
   "id": "f6a146ad-bc01-4c09-a1a5-8a688a2d76fd",
   "metadata": {},
   "source": [
    "Obten el Shape de XTest"
   ]
  },
  {
   "cell_type": "code",
   "execution_count": 5,
   "id": "916ef597-192b-4b70-9ee1-ddc58e6863b2",
   "metadata": {},
   "outputs": [
    {
     "data": {
      "text/plain": [
       "(10000, 28, 28)"
      ]
     },
     "execution_count": 5,
     "metadata": {},
     "output_type": "execute_result"
    }
   ],
   "source": [
    "xtest.shape"
   ]
  },
  {
   "cell_type": "markdown",
   "id": "6e66d2d4-ab44-4b5b-82cb-b2fe1cf8321c",
   "metadata": {},
   "source": [
    "Obten el Shape de yTrain"
   ]
  },
  {
   "cell_type": "code",
   "execution_count": 6,
   "id": "479392af-6df1-456d-b8ce-e6a50a2c6c79",
   "metadata": {},
   "outputs": [
    {
     "data": {
      "text/plain": [
       "(10000,)"
      ]
     },
     "execution_count": 6,
     "metadata": {},
     "output_type": "execute_result"
    }
   ],
   "source": [
    "ytest.shape"
   ]
  },
  {
   "cell_type": "markdown",
   "id": "e848d250-7181-4ce9-b482-71c9c6d82857",
   "metadata": {},
   "source": [
    "### Preparar los datos"
   ]
  },
  {
   "cell_type": "markdown",
   "id": "28bc2386-45d0-45b3-b95d-610e19a80a2f",
   "metadata": {},
   "source": [
    "Cambia la figura de Xtrain a 60000 x 28 x 28 x 1"
   ]
  },
  {
   "cell_type": "code",
   "execution_count": 7,
   "id": "4eb4494e-12b3-4a0d-86a2-dfbee1853907",
   "metadata": {},
   "outputs": [],
   "source": [
    "xtrain = xtrain.reshape((60000,28,28,1))"
   ]
  },
  {
   "cell_type": "markdown",
   "id": "d74c336f-0462-4a99-babb-d348b99c72cd",
   "metadata": {},
   "source": [
    "Cambia la figura de Xshape a 10000 x 28 x 28 x 1"
   ]
  },
  {
   "cell_type": "code",
   "execution_count": 8,
   "id": "bae501d9-d1a3-4a9b-80ba-c3382c270443",
   "metadata": {},
   "outputs": [],
   "source": [
    "xtest = xtest.reshape((10000,28,28,1))"
   ]
  },
  {
   "cell_type": "markdown",
   "id": "a6ac6b59-a54a-4a24-a005-6b0a9fa8a91c",
   "metadata": {},
   "source": [
    "Normaliza con astype Xtrain"
   ]
  },
  {
   "cell_type": "code",
   "execution_count": 9,
   "id": "b9b26a6c-ba06-4cd4-9814-ab43b7ad62ba",
   "metadata": {},
   "outputs": [],
   "source": [
    "xtrain = xtrain.astype('float32')/255\n",
    "xtest = xtest.astype('float32')/255"
   ]
  },
  {
   "cell_type": "markdown",
   "id": "7cee3b47-e1df-4835-91e0-90a5ecc9a38a",
   "metadata": {},
   "source": [
    "Desde tensorflow importa to_categorical"
   ]
  },
  {
   "cell_type": "code",
   "execution_count": 10,
   "id": "9a115845-b19b-4593-919e-2e19b91c7ad1",
   "metadata": {},
   "outputs": [],
   "source": [
    "from tensorflow.keras.utils import to_categorical "
   ]
  },
  {
   "cell_type": "markdown",
   "id": "79aa6046-521b-4516-8fb3-a3dc5dd9d3c1",
   "metadata": {},
   "source": [
    "aplicalo a Y_train"
   ]
  },
  {
   "cell_type": "code",
   "execution_count": 11,
   "id": "1a15cfc6-a827-4f10-9267-9f881029c18d",
   "metadata": {},
   "outputs": [],
   "source": [
    "ytrain = to_categorical(ytrain)\n",
    "ytest = to_categorical(ytest)"
   ]
  },
  {
   "cell_type": "markdown",
   "id": "cc7ae7e4-a8b5-43f9-a3e1-a45ba2e21945",
   "metadata": {},
   "source": [
    "Checa su shape"
   ]
  },
  {
   "cell_type": "code",
   "execution_count": 12,
   "id": "6f06f02a-507c-44e0-a3f2-eb08868034e7",
   "metadata": {},
   "outputs": [
    {
     "data": {
      "text/plain": [
       "(60000, 10)"
      ]
     },
     "execution_count": 12,
     "metadata": {},
     "output_type": "execute_result"
    }
   ],
   "source": [
    "ytrain.shape"
   ]
  },
  {
   "cell_type": "markdown",
   "id": "7686fa07-1aa6-415e-af15-a218612f0642",
   "metadata": {},
   "source": [
    "Checa el primer dato de Y_train"
   ]
  },
  {
   "cell_type": "code",
   "execution_count": 13,
   "id": "810b786b-eafe-4b58-90ae-cdb782adb6bc",
   "metadata": {},
   "outputs": [
    {
     "data": {
      "text/plain": [
       "array([0., 0., 0., 0., 0., 1., 0., 0., 0., 0.], dtype=float32)"
      ]
     },
     "execution_count": 13,
     "metadata": {},
     "output_type": "execute_result"
    }
   ],
   "source": [
    "ytrain[0]"
   ]
  },
  {
   "cell_type": "markdown",
   "id": "a10a678a-7843-4cc8-bcd1-43909c2d589a",
   "metadata": {},
   "source": [
    "### Crear la Red Neuronal"
   ]
  },
  {
   "cell_type": "markdown",
   "id": "e0192ecc-3739-4e08-95e8-dfc8beeef1ea",
   "metadata": {},
   "source": [
    "Importa Sequential desde tf"
   ]
  },
  {
   "cell_type": "code",
   "execution_count": 14,
   "id": "6207963f-634f-41f2-bf59-365c492f76c1",
   "metadata": {},
   "outputs": [],
   "source": [
    "from tensorflow.keras.models import Sequential "
   ]
  },
  {
   "cell_type": "markdown",
   "id": "fb8bfb91-da1a-481a-bd04-c3b6c10d6a0f",
   "metadata": {},
   "source": [
    "Crea tu objeto cnn"
   ]
  },
  {
   "cell_type": "code",
   "execution_count": 15,
   "id": "13659451-101b-46c2-81a4-f0d60b67c740",
   "metadata": {},
   "outputs": [
    {
     "name": "stderr",
     "output_type": "stream",
     "text": [
      "2023-03-01 12:23:26.883899: E tensorflow/compiler/xla/stream_executor/cuda/cuda_driver.cc:267] failed call to cuInit: CUDA_ERROR_NO_DEVICE: no CUDA-capable device is detected\n",
      "2023-03-01 12:23:26.883946: I tensorflow/compiler/xla/stream_executor/cuda/cuda_diagnostics.cc:156] kernel driver does not appear to be running on this host (pop-os): /proc/driver/nvidia/version does not exist\n",
      "2023-03-01 12:23:26.885459: I tensorflow/core/platform/cpu_feature_guard.cc:193] This TensorFlow binary is optimized with oneAPI Deep Neural Network Library (oneDNN) to use the following CPU instructions in performance-critical operations:  AVX2 FMA\n",
      "To enable them in other operations, rebuild TensorFlow with the appropriate compiler flags.\n"
     ]
    }
   ],
   "source": [
    "cnn = Sequential()"
   ]
  },
  {
   "cell_type": "markdown",
   "id": "f10c9340-2f81-4937-b114-56d1ae545fa8",
   "metadata": {},
   "source": [
    "importa las capas que necesitaras desde tf"
   ]
  },
  {
   "cell_type": "code",
   "execution_count": 16,
   "id": "e7ded461-34f9-4a7a-b1aa-f5a4f56846f1",
   "metadata": {},
   "outputs": [],
   "source": [
    "from tensorflow.keras.layers import Conv2D, MaxPooling2D, Flatten, Dense"
   ]
  },
  {
   "cell_type": "markdown",
   "id": "070c565e-911c-44bf-8c1d-67c8a0b8914f",
   "metadata": {},
   "source": [
    "agrega la capa de Conv2d"
   ]
  },
  {
   "cell_type": "code",
   "execution_count": 17,
   "id": "22d28712-60a5-4f70-8288-fd4c8348f12b",
   "metadata": {},
   "outputs": [],
   "source": [
    "cnn.add(Conv2D(filters=64, kernel_size=(3,3), activation='relu', input_shape=(28,28,1)))"
   ]
  },
  {
   "cell_type": "markdown",
   "id": "9fae62b9-85f1-4f19-a265-8e6f36d07dc3",
   "metadata": {},
   "source": [
    "Ahora agrega una capa de Pooling2d"
   ]
  },
  {
   "cell_type": "code",
   "execution_count": 18,
   "id": "f2db3659-b658-40bd-b857-d3845316aeec",
   "metadata": {},
   "outputs": [],
   "source": [
    "cnn.add(MaxPooling2D(pool_size=(2,2)))"
   ]
  },
  {
   "cell_type": "markdown",
   "id": "dda0b019-1c3a-4a9d-ae3c-f4ff0c810a2d",
   "metadata": {},
   "source": [
    "Agrega otra caba de Conv2D"
   ]
  },
  {
   "cell_type": "code",
   "execution_count": 19,
   "id": "132d2600-2788-450a-aeaf-9f62350ac98d",
   "metadata": {},
   "outputs": [],
   "source": [
    "cnn.add(Conv2D(filters=128, kernel_size=(3,3), activation='relu'))\n"
   ]
  },
  {
   "cell_type": "markdown",
   "id": "b08c80e7-d5cc-4184-9d73-41de58820303",
   "metadata": {},
   "source": [
    "Y otra de Pooling"
   ]
  },
  {
   "cell_type": "code",
   "execution_count": 20,
   "id": "3a3c7f8f-6f8d-460e-9c9f-ba7d380d3609",
   "metadata": {},
   "outputs": [],
   "source": [
    "cnn.add(MaxPooling2D(pool_size=(2,2)))"
   ]
  },
  {
   "cell_type": "markdown",
   "id": "cd53350b-2020-4d7e-ac74-010ef79a2a94",
   "metadata": {},
   "source": [
    "Aplana los resultados"
   ]
  },
  {
   "cell_type": "code",
   "execution_count": 21,
   "id": "ae0e8c3e-63b2-49fd-b00c-e5a20fd87ddc",
   "metadata": {},
   "outputs": [],
   "source": [
    "cnn.add(Flatten())"
   ]
  },
  {
   "cell_type": "markdown",
   "id": "1a453f93-5e1b-4c55-9e7e-8b6085f7fc17",
   "metadata": {},
   "source": [
    "Agrega una capa DENSE"
   ]
  },
  {
   "cell_type": "code",
   "execution_count": 22,
   "id": "0c644d94-0134-490a-8f9d-a25d2045daff",
   "metadata": {},
   "outputs": [],
   "source": [
    "cnn.add(Dense(units=128, activation='relu'))"
   ]
  },
  {
   "cell_type": "markdown",
   "id": "cf347883-1b66-497e-b440-b5774dd6b993",
   "metadata": {},
   "source": [
    "Y otra DENSE"
   ]
  },
  {
   "cell_type": "code",
   "execution_count": 23,
   "id": "273232b8-db59-403d-b178-7ac4c5c990ca",
   "metadata": {},
   "outputs": [],
   "source": [
    "cnn.add(Dense(units=10, activation='softmax'))"
   ]
  },
  {
   "cell_type": "markdown",
   "id": "daf5fb6e-d085-43db-853f-53c29a7cf6f2",
   "metadata": {},
   "source": [
    "Imprime el resultado en un resumen"
   ]
  },
  {
   "cell_type": "code",
   "execution_count": 24,
   "id": "6c5c36a7-1c02-4737-90aa-df029cd13589",
   "metadata": {},
   "outputs": [
    {
     "name": "stdout",
     "output_type": "stream",
     "text": [
      "Model: \"sequential\"\n",
      "_________________________________________________________________\n",
      " Layer (type)                Output Shape              Param #   \n",
      "=================================================================\n",
      " conv2d (Conv2D)             (None, 26, 26, 64)        640       \n",
      "                                                                 \n",
      " max_pooling2d (MaxPooling2D  (None, 13, 13, 64)       0         \n",
      " )                                                               \n",
      "                                                                 \n",
      " conv2d_1 (Conv2D)           (None, 11, 11, 128)       73856     \n",
      "                                                                 \n",
      " max_pooling2d_1 (MaxPooling  (None, 5, 5, 128)        0         \n",
      " 2D)                                                             \n",
      "                                                                 \n",
      " flatten (Flatten)           (None, 3200)              0         \n",
      "                                                                 \n",
      " dense (Dense)               (None, 128)               409728    \n",
      "                                                                 \n",
      " dense_1 (Dense)             (None, 10)                1290      \n",
      "                                                                 \n",
      "=================================================================\n",
      "Total params: 485,514\n",
      "Trainable params: 485,514\n",
      "Non-trainable params: 0\n",
      "_________________________________________________________________\n"
     ]
    }
   ],
   "source": [
    "cnn.summary()"
   ]
  },
  {
   "cell_type": "markdown",
   "id": "11060745-95e9-44b6-9ee5-857ee40c5280",
   "metadata": {},
   "source": [
    "Visualiza la estructura del modelo"
   ]
  },
  {
   "cell_type": "code",
   "execution_count": 28,
   "id": "be278372-88d6-47ec-9c49-36cb76f9f7dd",
   "metadata": {},
   "outputs": [],
   "source": [
    "from tensorflow.keras.utils import plot_model\n",
    "from IPython.display import Image"
   ]
  },
  {
   "cell_type": "code",
   "execution_count": 33,
   "id": "2a48bfa0",
   "metadata": {},
   "outputs": [
    {
     "data": {
      "image/png": "[encoded data removed]",
      "text/plain": [
       "<IPython.core.display.Image object>"
      ]
     },
     "execution_count": 33,
     "metadata": {},
     "output_type": "execute_result"
    }
   ],
   "source": [
    "plot_model(cnn,to_file='covnet.png', show_shapes=True, show_layer_names=True)\n",
    "# Image(filename='covnet.png')"
   ]
  },
  {
   "cell_type": "markdown",
   "id": "29617e38-d74f-4259-9c74-2672297630b8",
   "metadata": {},
   "source": [
    "Compila tu modelo"
   ]
  },
  {
   "cell_type": "code",
   "execution_count": 37,
   "id": "055671d7-4211-42e4-84a8-1a3213876a62",
   "metadata": {},
   "outputs": [],
   "source": [
    "cnn.compile(optimizer='adam', loss='categorical_crossentropy', metrics=['accuracy'])"
   ]
  },
  {
   "cell_type": "markdown",
   "id": "3e677d3c-75c5-4301-9c53-70b343903101",
   "metadata": {},
   "source": [
    "### Entrenar y Evaluar el modelo"
   ]
  },
  {
   "cell_type": "markdown",
   "id": "f3ab9d31-bb3c-4472-997c-03ec97966032",
   "metadata": {},
   "source": [
    "Entrena tu modelo con fit"
   ]
  },
  {
   "cell_type": "code",
   "execution_count": 38,
   "id": "1b8d88d4-abc0-4c62-a05a-c5461aef2207",
   "metadata": {},
   "outputs": [
    {
     "name": "stdout",
     "output_type": "stream",
     "text": [
      "Epoch 1/8\n",
      "844/844 [==============================] - 65s 75ms/step - loss: 0.1403 - accuracy: 0.9569 - val_loss: 0.0441 - val_accuracy: 0.9878\n",
      "Epoch 2/8\n",
      "844/844 [==============================] - 62s 74ms/step - loss: 0.0425 - accuracy: 0.9863 - val_loss: 0.0408 - val_accuracy: 0.9893\n",
      "Epoch 3/8\n",
      "844/844 [==============================] - 73s 87ms/step - loss: 0.0286 - accuracy: 0.9910 - val_loss: 0.0314 - val_accuracy: 0.9913\n",
      "Epoch 4/8\n",
      "844/844 [==============================] - 79s 94ms/step - loss: 0.0201 - accuracy: 0.9934 - val_loss: 0.0312 - val_accuracy: 0.9920\n",
      "Epoch 5/8\n",
      "844/844 [==============================] - 74s 88ms/step - loss: 0.0154 - accuracy: 0.9951 - val_loss: 0.0366 - val_accuracy: 0.9917\n",
      "Epoch 6/8\n",
      "844/844 [==============================] - 75s 88ms/step - loss: 0.0119 - accuracy: 0.9961 - val_loss: 0.0373 - val_accuracy: 0.9907\n",
      "Epoch 7/8\n",
      "844/844 [==============================] - 67s 79ms/step - loss: 0.0105 - accuracy: 0.9966 - val_loss: 0.0332 - val_accuracy: 0.9922\n",
      "Epoch 8/8\n",
      "844/844 [==============================] - 66s 78ms/step - loss: 0.0082 - accuracy: 0.9971 - val_loss: 0.0352 - val_accuracy: 0.9927\n"
     ]
    },
    {
     "data": {
      "text/plain": [
       "<keras.callbacks.History at 0x7f1d4844df10>"
      ]
     },
     "execution_count": 38,
     "metadata": {},
     "output_type": "execute_result"
    }
   ],
   "source": [
    "cnn.fit(xtrain, ytrain, epochs=8, batch_size=64, validation_split=0.1)"
   ]
  },
  {
   "cell_type": "markdown",
   "id": "fe9cd8d5-94f0-43af-8812-7e37aa1a5e4f",
   "metadata": {},
   "source": [
    "Evalua le modelo con Evaluate"
   ]
  },
  {
   "cell_type": "code",
   "execution_count": 39,
   "id": "d9d042a3-d4a9-4401-b22f-99d3438ceb24",
   "metadata": {},
   "outputs": [
    {
     "name": "stdout",
     "output_type": "stream",
     "text": [
      "313/313 [==============================] - 5s 17ms/step - loss: 0.0309 - accuracy: 0.9920\n"
     ]
    }
   ],
   "source": [
    "loss, accuracy = cnn.evaluate(xtest, ytest)"
   ]
  },
  {
   "cell_type": "code",
   "execution_count": 40,
   "id": "82d5fef6-6547-47ef-98e7-0c7a41825caa",
   "metadata": {},
   "outputs": [
    {
     "name": "stdout",
     "output_type": "stream",
     "text": [
      "0.03086194209754467  acc:0.9919999837875366\n"
     ]
    }
   ],
   "source": [
    "print(f'{loss}  acc:{accuracy}')"
   ]
  },
  {
   "cell_type": "markdown",
   "id": "cb6ffc06-88b3-4f3b-97c4-82bb3baf3569",
   "metadata": {},
   "source": [
    "Vamos a hacer predicciones"
   ]
  },
  {
   "cell_type": "code",
   "execution_count": 41,
   "id": "d29935c7-c685-4dcb-afef-5229b4d2b39f",
   "metadata": {},
   "outputs": [
    {
     "name": "stdout",
     "output_type": "stream",
     "text": [
      "313/313 [==============================] - 5s 16ms/step\n"
     ]
    }
   ],
   "source": [
    "predicciones = cnn.predict(xtest)"
   ]
  },
  {
   "cell_type": "markdown",
   "id": "5b9a6377-c5eb-4ce6-ab41-7abe6a10b404",
   "metadata": {},
   "source": [
    "checa que dice el primer elemento de ytest"
   ]
  },
  {
   "cell_type": "code",
   "execution_count": 42,
   "id": "d38424d7-6c6e-4af3-ac25-c4fb61b17dee",
   "metadata": {},
   "outputs": [
    {
     "data": {
      "text/plain": [
       "array([0., 0., 0., 0., 0., 0., 0., 1., 0., 0.], dtype=float32)"
      ]
     },
     "execution_count": 42,
     "metadata": {},
     "output_type": "execute_result"
    }
   ],
   "source": [
    "ytest[0]"
   ]
  },
  {
   "cell_type": "markdown",
   "id": "3bd1394d-6c57-4b5e-956d-2f8f8a1f6d39",
   "metadata": {},
   "source": [
    "Y ahora que dice el primer elemento del modelo"
   ]
  },
  {
   "cell_type": "code",
   "execution_count": 50,
   "id": "f4b1b3db-57a3-445f-ae64-9db2aff22439",
   "metadata": {},
   "outputs": [
    {
     "name": "stdout",
     "output_type": "stream",
     "text": [
      "0:  0.0%\n",
      "1:  0.0%\n",
      "2:  0.0%\n",
      "3:  0.0%\n",
      "4:  0.0%\n",
      "5:  0.0%\n",
      "6:  0.0%\n",
      "7:  100.0%\n",
      "8:  0.0%\n",
      "9:  0.0%\n"
     ]
    }
   ],
   "source": [
    "for index, prob in enumerate(predicciones[0]):\n",
    "    print(f'{index}: {prob: .1%}')"
   ]
  },
  {
   "cell_type": "markdown",
   "id": "d0f7943f-bfdb-4230-a261-7c14d046289b",
   "metadata": {},
   "source": [
    "Ubiquemos las predicciones incorreectas"
   ]
  },
  {
   "cell_type": "code",
   "execution_count": 51,
   "id": "5d736eae",
   "metadata": {},
   "outputs": [],
   "source": [
    "import numpy as np"
   ]
  },
  {
   "cell_type": "code",
   "execution_count": 52,
   "id": "80986ef3",
   "metadata": {},
   "outputs": [],
   "source": [
    "ims=xtest.reshape(10000,28,28)\n",
    "predicciones_incorrectas=[]"
   ]
  },
  {
   "cell_type": "code",
   "execution_count": 54,
   "id": "a9c8d00b-140e-4b03-9c6a-2626f9198481",
   "metadata": {},
   "outputs": [],
   "source": [
    "for i , (p,e) in enumerate(zip(predicciones, ytest)):\n",
    "    predecido, esperado = np.argmax(p), np.argmax(e)\n",
    "    if predecido != esperado:\n",
    "        predicciones_incorrectas.append((i, ims[i], predecido, esperado))"
   ]
  },
  {
   "cell_type": "markdown",
   "id": "80577a6c-e804-4eac-8ec6-f78438425828",
   "metadata": {},
   "source": [
    "Obten el largo de esa lista"
   ]
  },
  {
   "cell_type": "code",
   "execution_count": 55,
   "id": "f9e6f74b-dbf1-425a-8552-4a18db2774dc",
   "metadata": {},
   "outputs": [
    {
     "data": {
      "text/plain": [
       "80"
      ]
     },
     "execution_count": 55,
     "metadata": {},
     "output_type": "execute_result"
    }
   ],
   "source": [
    "len(predicciones_incorrectas)"
   ]
  },
  {
   "cell_type": "markdown",
   "id": "16baeca6-fea3-43cc-8ce4-9b9cdba7be00",
   "metadata": {},
   "source": [
    "Visualiza las predicciones incorrectas"
   ]
  },
  {
   "cell_type": "code",
   "execution_count": 58,
   "id": "13befb04",
   "metadata": {},
   "outputs": [],
   "source": [
    "import matplotlib.pyplot as plt"
   ]
  },
  {
   "cell_type": "code",
   "execution_count": 60,
   "id": "2a4b6272-3d1c-46db-b814-341331852edc",
   "metadata": {},
   "outputs": [
    {
     "data": {
      "image/png": "[encoded data removed]",
      "text/plain": [
       "<Figure size 1600x1200 with 24 Axes>"
      ]
     },
     "metadata": {},
     "output_type": "display_data"
    }
   ],
   "source": [
    "figure, axes = plt.subplots(nrows=4, ncols=6, figsize=(16,12))\n",
    "for axes, item in zip(axes.ravel(), predicciones_incorrectas):\n",
    "    index, image, predicted, expected = item\n",
    "    axes.imshow(image, cmap=plt.cm.gray_r)\n",
    "    axes.set_xticks([])\n",
    "    axes.set_yticks([])\n",
    "    axes.set_title(f'index: {index}\\n np:{predicted}; e:{expected}')\n",
    "plt.tight_layout()"
   ]
  },
  {
   "cell_type": "markdown",
   "id": "1bded1e9-a959-4f41-ad79-c20ea20d4706",
   "metadata": {},
   "source": [
    "Arma una funcion que genere un listado de las probabilidades para predicciones incorrectas"
   ]
  },
  {
   "cell_type": "code",
   "execution_count": 61,
   "id": "9cc934ea-981e-48ce-84f5-898d732cee43",
   "metadata": {},
   "outputs": [],
   "source": [
    "def verProbabilidades(pred):\n",
    "    for i, prob in enumerate(pred):\n",
    "        print(f'{i}: {prob: 0.1%}')"
   ]
  },
  {
   "cell_type": "markdown",
   "id": "f3765a74-0de3-40d6-9ca0-4a862bbd875b",
   "metadata": {},
   "source": [
    "Muestra una que otra predicción incorrecta a detalles"
   ]
  },
  {
   "cell_type": "code",
   "execution_count": 62,
   "id": "5a2974b7-7fc4-4937-8c7c-dbb5f247ab70",
   "metadata": {},
   "outputs": [
    {
     "name": "stdout",
     "output_type": "stream",
     "text": [
      "0:  0.0%\n",
      "1:  0.0%\n",
      "2:  0.0%\n",
      "3:  91.0%\n",
      "4:  0.0%\n",
      "5:  9.0%\n",
      "6:  0.0%\n",
      "7:  0.0%\n",
      "8:  0.0%\n",
      "9:  0.0%\n"
     ]
    }
   ],
   "source": [
    "verProbabilidades(predicciones[340])"
   ]
  },
  {
   "cell_type": "markdown",
   "id": "e9c29f76-72b3-4f0b-aafc-ba625108e756",
   "metadata": {},
   "source": [
    "### Guardar tu Modelo"
   ]
  },
  {
   "cell_type": "code",
   "execution_count": 63,
   "id": "294e984d-d848-432e-86d1-8ad319731436",
   "metadata": {},
   "outputs": [],
   "source": [
    "cnn.save('cnn_mnist.h5')"
   ]
  },
  {
   "cell_type": "code",
   "execution_count": 4,
   "id": "5f63b3f1-f7ce-45f9-8fef-4ef5f57efa8f",
   "metadata": {},
   "outputs": [],
   "source": [
    "from tensorflow.keras.models import load_model"
   ]
  },
  {
   "cell_type": "code",
   "execution_count": 5,
   "id": "9c3c7490-8ff9-46e1-b13a-ed5df3eeb1b2",
   "metadata": {},
   "outputs": [],
   "source": [
    "cnn = load_model('cnn_mnist.h5')"
   ]
  },
  {
   "cell_type": "markdown",
   "id": "3bd26c94-294c-434b-b80c-cbd5c2c93ae8",
   "metadata": {},
   "source": [
    "## Analisis de Sentimientos con Redes Neuronales - IMDB"
   ]
  },
  {
   "cell_type": "markdown",
   "id": "468e7db1-8efb-4695-ac70-4a68f430f158",
   "metadata": {},
   "source": [
    "### Cargar el dataset de IMBD"
   ]
  },
  {
   "cell_type": "markdown",
   "id": "cb7f2d03-95f1-4f5c-be0d-33fcde74258a",
   "metadata": {},
   "source": [
    "Import el dataset de imdb desde tensorlfow.keras.datasets"
   ]
  },
  {
   "cell_type": "code",
   "execution_count": 7,
   "id": "1da741cb-176d-4e40-83a4-7433ea48d1f8",
   "metadata": {},
   "outputs": [],
   "source": [
    "from tensorflow.keras.datasets import imdb"
   ]
  },
  {
   "cell_type": "markdown",
   "id": "7c72e076-26ca-4296-8859-fdfd8e26ff76",
   "metadata": {},
   "source": [
    "Carga las 10000 palabras que mas ocurren"
   ]
  },
  {
   "cell_type": "code",
   "execution_count": 9,
   "id": "2eea9e77-4b3d-4aec-b542-9cbeaac58b70",
   "metadata": {},
   "outputs": [],
   "source": [
    "numero_palabras = 10000"
   ]
  },
  {
   "cell_type": "markdown",
   "id": "71239f38-381d-474b-ab25-8adebca85352",
   "metadata": {},
   "source": [
    "Carga tus palabras en tus datasets X_train y X_test y asi"
   ]
  },
  {
   "cell_type": "code",
   "execution_count": 10,
   "id": "2b5682a1-3298-4a99-b327-2004b6d1fef4",
   "metadata": {},
   "outputs": [
    {
     "name": "stdout",
     "output_type": "stream",
     "text": [
      "Downloading data from https://storage.googleapis.com/tensorflow/tf-keras-datasets/imdb.npz\n",
      "17464789/17464789 [==============================] - 2s 0us/step\n"
     ]
    }
   ],
   "source": [
    "(xtrain, ytrain),(xtest, ytest) = imdb.load_data(num_words=numero_palabras)"
   ]
  },
  {
   "cell_type": "markdown",
   "id": "327923f4-f66d-4edd-a0a5-0f4049c499b4",
   "metadata": {},
   "source": [
    "### Exploracion de Datos"
   ]
  },
  {
   "cell_type": "markdown",
   "id": "6ff05689-beb1-4552-9a17-1855fa7c54e3",
   "metadata": {},
   "source": [
    "Figura de X_train"
   ]
  },
  {
   "cell_type": "code",
   "execution_count": 11,
   "id": "f48d87b8-45d5-427a-87f2-b6a39f37f83c",
   "metadata": {},
   "outputs": [
    {
     "data": {
      "text/plain": [
       "(25000,)"
      ]
     },
     "execution_count": 11,
     "metadata": {},
     "output_type": "execute_result"
    }
   ],
   "source": [
    "xtrain.shape"
   ]
  },
  {
   "cell_type": "markdown",
   "id": "2f53adf6-7e86-495f-ba18-d82170e7c77f",
   "metadata": {},
   "source": [
    "Figura de Y_train"
   ]
  },
  {
   "cell_type": "code",
   "execution_count": 12,
   "id": "a3f768f8-71af-4132-92a0-8b14251fbd8d",
   "metadata": {},
   "outputs": [
    {
     "data": {
      "text/plain": [
       "(25000,)"
      ]
     },
     "execution_count": 12,
     "metadata": {},
     "output_type": "execute_result"
    }
   ],
   "source": [
    "ytrain.shape"
   ]
  },
  {
   "cell_type": "markdown",
   "id": "d2bba90f-a255-44aa-9da6-28eb3bf93412",
   "metadata": {},
   "source": [
    "Figura de X_test"
   ]
  },
  {
   "cell_type": "code",
   "execution_count": 13,
   "id": "9b857e90-bca4-4d38-b780-39d4f81418cf",
   "metadata": {},
   "outputs": [
    {
     "data": {
      "text/plain": [
       "(25000,)"
      ]
     },
     "execution_count": 13,
     "metadata": {},
     "output_type": "execute_result"
    }
   ],
   "source": [
    "xtest.shape"
   ]
  },
  {
   "cell_type": "markdown",
   "id": "3dd934d2-7a2e-45d4-86fb-dc2854f8bae2",
   "metadata": {},
   "source": [
    "Figura de y_test"
   ]
  },
  {
   "cell_type": "code",
   "execution_count": 14,
   "id": "6eaa46b4-61e4-48c5-997b-a95b6ae41006",
   "metadata": {},
   "outputs": [
    {
     "data": {
      "text/plain": [
       "(25000,)"
      ]
     },
     "execution_count": 14,
     "metadata": {},
     "output_type": "execute_result"
    }
   ],
   "source": [
    "ytest.shape"
   ]
  },
  {
   "cell_type": "markdown",
   "id": "e4ff036e-ec9e-4e40-85ee-4d2b387c07de",
   "metadata": {},
   "source": [
    "Apaga pretty print"
   ]
  },
  {
   "cell_type": "code",
   "execution_count": 18,
   "id": "1ec1a6fb-b6ca-4159-86e0-6d39d713dcd5",
   "metadata": {},
   "outputs": [
    {
     "name": "stdout",
     "output_type": "stream",
     "text": [
      "Pretty printing has been turned OFF\n"
     ]
    }
   ],
   "source": [
    "%pprint"
   ]
  },
  {
   "cell_type": "markdown",
   "id": "0d5d5526-4ecc-4111-9c61-6ccb273ff9e4",
   "metadata": {},
   "source": [
    "Checa un elemento cualquiera de X_train"
   ]
  },
  {
   "cell_type": "code",
   "execution_count": 19,
   "id": "eb12be4a-a304-4c28-9fb9-52d9ea09fc44",
   "metadata": {},
   "outputs": [
    {
     "data": {
      "text/plain": [
       "[1, 14, 22, 16, 43, 530, 973, 1622, 1385, 65, 458, 4468, 66, 3941, 4, 173, 36, 256, 5, 25, 100, 43, 838, 112, 50, 670, 2, 9, 35, 480, 284, 5, 150, 4, 172, 112, 167, 2, 336, 385, 39, 4, 172, 4536, 1111, 17, 546, 38, 13, 447, 4, 192, 50, 16, 6, 147, 2025, 19, 14, 22, 4, 1920, 4613, 469, 4, 22, 71, 87, 12, 16, 43, 530, 38, 76, 15, 13, 1247, 4, 22, 17, 515, 17, 12, 16, 626, 18, 2, 5, 62, 386, 12, 8, 316, 8, 106, 5, 4, 2223, 5244, 16, 480, 66, 3785, 33, 4, 130, 12, 16, 38, 619, 5, 25, 124, 51, 36, 135, 48, 25, 1415, 33, 6, 22, 12, 215, 28, 77, 52, 5, 14, 407, 16, 82, 2, 8, 4, 107, 117, 5952, 15, 256, 4, 2, 7, 3766, 5, 723, 36, 71, 43, 530, 476, 26, 400, 317, 46, 7, 4, 2, 1029, 13, 104, 88, 4, 381, 15, 297, 98, 32, 2071, 56, 26, 141, 6, 194, 7486, 18, 4, 226, 22, 21, 134, 476, 26, 480, 5, 144, 30, 5535, 18, 51, 36, 28, 224, 92, 25, 104, 4, 226, 65, 16, 38, 1334, 88, 12, 16, 283, 5, 16, 4472, 113, 103, 32, 15, 16, 5345, 19, 178, 32]"
      ]
     },
     "execution_count": 19,
     "metadata": {},
     "output_type": "execute_result"
    }
   ],
   "source": [
    "xtrain[0]"
   ]
  },
  {
   "cell_type": "markdown",
   "id": "2d435e34-6a96-40b4-b039-9a2495d67e1c",
   "metadata": {},
   "source": [
    "Llama la función word to index"
   ]
  },
  {
   "cell_type": "code",
   "execution_count": 20,
   "id": "7bb2e1c1-4925-4035-8203-06f83bd21fff",
   "metadata": {},
   "outputs": [
    {
     "name": "stdout",
     "output_type": "stream",
     "text": [
      "Downloading data from https://storage.googleapis.com/tensorflow/tf-keras-datasets/imdb_word_index.json\n",
      "1641221/1641221 [==============================] - 0s 0us/step\n"
     ]
    }
   ],
   "source": [
    "word_to_index = imdb.get_word_index()"
   ]
  },
  {
   "cell_type": "markdown",
   "id": "4616fec2-2ab0-4f98-aa11-063734dd2bfd",
   "metadata": {},
   "source": [
    "Checa el indice de la palabra \"bad\""
   ]
  },
  {
   "cell_type": "code",
   "execution_count": 21,
   "id": "63b9b812-5d66-4d60-8bbd-02c4daec7a01",
   "metadata": {},
   "outputs": [
    {
     "data": {
      "text/plain": [
       "75"
      ]
     },
     "execution_count": 21,
     "metadata": {},
     "output_type": "execute_result"
    }
   ],
   "source": [
    "word_to_index['bad']"
   ]
  },
  {
   "cell_type": "markdown",
   "id": "e92c3838-c948-476c-976a-5c151cc639cb",
   "metadata": {},
   "source": [
    "Reversa el mapeo del diccionario Word to INdex a Index to Word"
   ]
  },
  {
   "cell_type": "code",
   "execution_count": 25,
   "id": "21ef13b2-3436-45a7-8382-e2a33f8c9bce",
   "metadata": {},
   "outputs": [],
   "source": [
    "index_to_word = {index:word for (word,index) in word_to_index.items()}"
   ]
  },
  {
   "cell_type": "markdown",
   "id": "5b91ca62-eabf-4bec-b6a8-f1c49acf0443",
   "metadata": {},
   "source": [
    "Armate una lista para revisar las 50 palabras mas comunes en el diccionario"
   ]
  },
  {
   "cell_type": "code",
   "execution_count": 27,
   "id": "2fc2f738-3b19-4c29-a42c-f20d39068a31",
   "metadata": {},
   "outputs": [
    {
     "data": {
      "text/plain": [
       "['the', 'and', 'a', 'of', 'to', 'is', 'br', 'in', 'it', 'i', 'this', 'that', 'was', 'as', 'for', 'with', 'movie', 'but', 'film', 'on', 'not', 'you', 'are', 'his', 'have', 'he', 'be', 'one', 'all', 'at', 'by', 'an', 'they', 'who', 'so', 'from', 'like', 'her', 'or', 'just', 'about', \"it's\", 'out', 'has', 'if', 'some', 'there', 'what', 'good', 'more']"
      ]
     },
     "execution_count": 27,
     "metadata": {},
     "output_type": "execute_result"
    }
   ],
   "source": [
    "[index_to_word[i] for i in range(1,51)]\n"
   ]
  },
  {
   "cell_type": "markdown",
   "id": "77302b74-9035-41de-bc05-d824fe46185c",
   "metadata": {},
   "source": [
    "Ok, ya estamos listos para leer una reseña"
   ]
  },
  {
   "cell_type": "code",
   "execution_count": 28,
   "id": "ec1e1149-773e-483c-a86c-ba65295fa9e3",
   "metadata": {},
   "outputs": [
    {
     "data": {
      "text/plain": [
       "'? beautiful and touching movie rich colors great settings good acting and one of the most charming movies i have seen in a while i never saw such an interesting setting when i was in china my wife liked it so much she asked me to ? on and rate it so other would enjoy too'"
      ]
     },
     "execution_count": 28,
     "metadata": {},
     "output_type": "execute_result"
    }
   ],
   "source": [
    "' '.join([index_to_word.get(i-3,'?') for i in xtrain[123]])"
   ]
  },
  {
   "cell_type": "markdown",
   "id": "a28f4c55-7258-4510-aa6a-42f8af7d4676",
   "metadata": {},
   "source": [
    "Y revisa de Y_train la clasificacion de esta reseña"
   ]
  },
  {
   "cell_type": "code",
   "execution_count": 29,
   "id": "a69f03ef-73e2-466d-971b-3a6b7749834a",
   "metadata": {},
   "outputs": [
    {
     "data": {
      "text/plain": [
       "1"
      ]
     },
     "execution_count": 29,
     "metadata": {},
     "output_type": "execute_result"
    }
   ],
   "source": [
    "ytrain[123]"
   ]
  },
  {
   "cell_type": "markdown",
   "id": "5c4a69f5-ce87-47b6-92d8-1625e93f48d0",
   "metadata": {},
   "source": [
    "### Preparación de datos"
   ]
  },
  {
   "cell_type": "markdown",
   "id": "518719da-d571-40e3-8b0a-258b6ae2add6",
   "metadata": {},
   "source": [
    "Define palabras_por_reseña en 200"
   ]
  },
  {
   "cell_type": "code",
   "execution_count": 30,
   "id": "0b185fc6-2150-4a22-b240-fb9ec9c54526",
   "metadata": {},
   "outputs": [],
   "source": [
    "numpal = 200"
   ]
  },
  {
   "cell_type": "markdown",
   "id": "2a3f1449-9197-41d9-8047-7366cca9d6f1",
   "metadata": {},
   "source": [
    "Importa pad_sequences de tensroflow"
   ]
  },
  {
   "cell_type": "code",
   "execution_count": 32,
   "id": "d87b7d0f-a6c3-412b-a7a8-4a5814670faa",
   "metadata": {},
   "outputs": [],
   "source": [
    "from tensorflow.keras.preprocessing.sequence import pad_sequences"
   ]
  },
  {
   "cell_type": "markdown",
   "id": "070faf90-e409-4005-b6a5-0c2a6a2f960f",
   "metadata": {},
   "source": [
    "Define X_train como pad_sequences del viejo X_train"
   ]
  },
  {
   "cell_type": "code",
   "execution_count": 33,
   "id": "309ed94b-bb46-40d3-a39c-3edcdfcf5306",
   "metadata": {},
   "outputs": [],
   "source": [
    "xtrain = pad_sequences(xtrain, maxlen=numpal)"
   ]
  },
  {
   "cell_type": "markdown",
   "id": "20e7343f-944b-4ab9-adad-a17f66fda774",
   "metadata": {},
   "source": [
    "Checa el nuevo shape de X_train"
   ]
  },
  {
   "cell_type": "code",
   "execution_count": 34,
   "id": "47395757-dce8-4db7-9ea1-dca4a12e0633",
   "metadata": {},
   "outputs": [
    {
     "data": {
      "text/plain": [
       "(25000, 200)"
      ]
     },
     "execution_count": 34,
     "metadata": {},
     "output_type": "execute_result"
    }
   ],
   "source": [
    "xtrain.shape"
   ]
  },
  {
   "cell_type": "markdown",
   "id": "a307b8fc-ab1d-483f-952c-66e392ff396a",
   "metadata": {},
   "source": [
    "Hay que reconfigurar X_Test tambien"
   ]
  },
  {
   "cell_type": "code",
   "execution_count": 35,
   "id": "60ea6388-8882-4a74-84a3-63648c99a737",
   "metadata": {},
   "outputs": [],
   "source": [
    "xtest = pad_sequences(xtest, maxlen=numpal)"
   ]
  },
  {
   "cell_type": "markdown",
   "id": "1762f64e-2aca-43c9-820b-3b19cbde7fef",
   "metadata": {},
   "source": [
    "Checa su figura"
   ]
  },
  {
   "cell_type": "code",
   "execution_count": 36,
   "id": "827cf554-1ddd-42a9-9b01-894c33910e2b",
   "metadata": {},
   "outputs": [
    {
     "data": {
      "text/plain": [
       "(25000, 200)"
      ]
     },
     "execution_count": 36,
     "metadata": {},
     "output_type": "execute_result"
    }
   ],
   "source": [
    "xtest.shape"
   ]
  },
  {
   "cell_type": "markdown",
   "id": "fb067c82-ac74-4be6-a176-921990e4f33d",
   "metadata": {},
   "source": [
    "Importa el Train_test_split y definelo sobre tus variables, semilla 11 y tamaño de prueba de .20"
   ]
  },
  {
   "cell_type": "code",
   "execution_count": 37,
   "id": "f2be9629-c0d4-48ad-b0b1-ab0050b340df",
   "metadata": {},
   "outputs": [],
   "source": [
    "from sklearn.model_selection import train_test_split"
   ]
  },
  {
   "cell_type": "code",
   "execution_count": 38,
   "id": "ac05b05e-4e61-4d12-ae85-1f7c4e59cee2",
   "metadata": {},
   "outputs": [],
   "source": [
    "xtest, xval, ytest, yval = train_test_split(xtest, ytest, random_state=11, test_size=0.2)"
   ]
  },
  {
   "cell_type": "markdown",
   "id": "505b2f28-778e-490d-808c-123acfe1aca5",
   "metadata": {},
   "source": [
    "Checa la figura de xtest"
   ]
  },
  {
   "cell_type": "code",
   "execution_count": 39,
   "id": "006dddf3-7498-4ebf-a64d-3659a3f82199",
   "metadata": {},
   "outputs": [
    {
     "data": {
      "text/plain": [
       "(20000, 200)"
      ]
     },
     "execution_count": 39,
     "metadata": {},
     "output_type": "execute_result"
    }
   ],
   "source": [
    "xtest.shape"
   ]
  },
  {
   "cell_type": "markdown",
   "id": "ba089592-e3ef-436b-b190-5a22d7ce314f",
   "metadata": {},
   "source": [
    "Y la de XVal"
   ]
  },
  {
   "cell_type": "code",
   "execution_count": 40,
   "id": "594b4362-16cd-40a8-b081-a8606aa5c5cc",
   "metadata": {},
   "outputs": [
    {
     "data": {
      "text/plain": [
       "(5000, 200)"
      ]
     },
     "execution_count": 40,
     "metadata": {},
     "output_type": "execute_result"
    }
   ],
   "source": [
    "xval.shape"
   ]
  },
  {
   "cell_type": "markdown",
   "id": "13c1cb2e-7a8d-4aa2-a863-a833740830ec",
   "metadata": {},
   "source": [
    "### Crear la red neuronal"
   ]
  },
  {
   "cell_type": "markdown",
   "id": "2d5ef505-3858-4823-8917-fbea81d983dc",
   "metadata": {},
   "source": [
    "Desde Tensorflow importa Sequencial"
   ]
  },
  {
   "cell_type": "code",
   "execution_count": 41,
   "id": "395df404-8241-411c-82a6-30b28c41ac83",
   "metadata": {},
   "outputs": [],
   "source": [
    "from tensorflow.keras.models import Sequential"
   ]
  },
  {
   "cell_type": "markdown",
   "id": "553bb7e8-3ec3-437b-b5b5-dcd7aad84e9a",
   "metadata": {},
   "source": [
    "arma el objeto rnn com oun sequential"
   ]
  },
  {
   "cell_type": "code",
   "execution_count": 42,
   "id": "9460b67c-0ef0-4ee7-9fae-e0c7fed48679",
   "metadata": {},
   "outputs": [],
   "source": [
    "rnn = Sequential()"
   ]
  },
  {
   "cell_type": "markdown",
   "id": "b5d4c846-b572-4655-81a0-1c09639c4ed9",
   "metadata": {},
   "source": [
    "Importa las capas Dense y LSTM"
   ]
  },
  {
   "cell_type": "code",
   "execution_count": 43,
   "id": "cd16f561-182d-4a0a-bad5-2599e2f7e54f",
   "metadata": {},
   "outputs": [],
   "source": [
    "from tensorflow.keras.layers import Dense, LSTM"
   ]
  },
  {
   "cell_type": "markdown",
   "id": "82430225-dbb7-4443-89e2-c7b867e5521e",
   "metadata": {},
   "source": [
    "Importa Embedding"
   ]
  },
  {
   "cell_type": "code",
   "execution_count": 46,
   "id": "198f5ad2-6183-4077-add3-575cff39655e",
   "metadata": {},
   "outputs": [],
   "source": [
    "import tensorflow as tf"
   ]
  },
  {
   "cell_type": "markdown",
   "id": "e800cb76-ee92-475f-ad3c-9496db7c6639",
   "metadata": {},
   "source": [
    "Agrega la capa de Embedding, que salgan 128 dimensiones"
   ]
  },
  {
   "cell_type": "code",
   "execution_count": 48,
   "id": "b2dc296c-ce8c-48f6-8429-d5956a2c20a1",
   "metadata": {},
   "outputs": [],
   "source": [
    "rnn.add(tf.keras.layers.Embedding(input_dim=numero_palabras, output_dim=128, input_length=numpal))"
   ]
  },
  {
   "cell_type": "markdown",
   "id": "2ec1ed3b-3d5d-460d-a772-33cd2b9acfa1",
   "metadata": {},
   "source": [
    "agrega la capa de LSTM"
   ]
  },
  {
   "cell_type": "code",
   "execution_count": 49,
   "id": "64f90ccd-7253-4e2c-9f73-401112d7c36e",
   "metadata": {},
   "outputs": [],
   "source": [
    "rnn.add(LSTM(units=128, dropout=0.2, recurrent_dropout=0.2))"
   ]
  },
  {
   "cell_type": "markdown",
   "id": "6b58cf40-0030-408f-83aa-3185a9d41234",
   "metadata": {},
   "source": [
    "Agrega una capa DENSE"
   ]
  },
  {
   "cell_type": "code",
   "execution_count": 50,
   "id": "f8ce47af-3907-48f2-85f9-1c365a0abf7b",
   "metadata": {},
   "outputs": [],
   "source": [
    "rnn.add(Dense(units=1, activation='sigmoid'))"
   ]
  },
  {
   "cell_type": "markdown",
   "id": "c8ec5dde-e8b0-4a8f-80a1-20f1477b0032",
   "metadata": {},
   "source": [
    "Compila el RNN"
   ]
  },
  {
   "cell_type": "code",
   "execution_count": 51,
   "id": "0d9ad69b-c748-465e-b89d-35b0240e926d",
   "metadata": {},
   "outputs": [],
   "source": [
    "rnn.compile(optimizer='adam', loss='binary_crossentropy', metrics=['accuracy'])"
   ]
  },
  {
   "cell_type": "markdown",
   "id": "1a6a71c4-9f62-4ba2-ba37-1409482e4f4f",
   "metadata": {},
   "source": [
    "Y resvisa el resultado de RNN"
   ]
  },
  {
   "cell_type": "code",
   "execution_count": 52,
   "id": "c284152c-1937-439b-84f0-8270541fe6fe",
   "metadata": {},
   "outputs": [
    {
     "name": "stdout",
     "output_type": "stream",
     "text": [
      "Model: \"sequential\"\n",
      "_________________________________________________________________\n",
      " Layer (type)                Output Shape              Param #   \n",
      "=================================================================\n",
      " embedding (Embedding)       (None, 200, 128)          1280000   \n",
      "                                                                 \n",
      " lstm (LSTM)                 (None, 128)               131584    \n",
      "                                                                 \n",
      " dense (Dense)               (None, 1)                 129       \n",
      "                                                                 \n",
      "=================================================================\n",
      "Total params: 1,411,713\n",
      "Trainable params: 1,411,713\n",
      "Non-trainable params: 0\n",
      "_________________________________________________________________\n"
     ]
    }
   ],
   "source": [
    "rnn.summary()"
   ]
  },
  {
   "cell_type": "markdown",
   "id": "e1794693-7174-414a-b9f2-7489cf090a73",
   "metadata": {},
   "source": [
    "### Entrenar y evaluar el modelo"
   ]
  },
  {
   "cell_type": "markdown",
   "id": "de04a938-4dab-4621-ae19-c3dd519d1e62",
   "metadata": {},
   "source": [
    "Usa Fit para entrenar el mdoelo"
   ]
  },
  {
   "cell_type": "code",
   "execution_count": 53,
   "id": "d1a60a72-b2d5-4546-98a7-c09f9fa9ec59",
   "metadata": {},
   "outputs": [
    {
     "name": "stdout",
     "output_type": "stream",
     "text": [
      "Epoch 1/6\n",
      "782/782 [==============================] - 365s 460ms/step - loss: 0.4128 - accuracy: 0.8079 - val_loss: 0.7225 - val_accuracy: 0.7355\n",
      "Epoch 2/6\n",
      "782/782 [==============================] - 361s 461ms/step - loss: 0.2802 - accuracy: 0.8886 - val_loss: 0.3849 - val_accuracy: 0.8530\n",
      "Epoch 3/6\n",
      "782/782 [==============================] - 453s 580ms/step - loss: 0.2011 - accuracy: 0.9248 - val_loss: 0.3394 - val_accuracy: 0.8619\n",
      "Epoch 4/6\n",
      "782/782 [==============================] - 374s 478ms/step - loss: 0.2131 - accuracy: 0.9163 - val_loss: 0.3805 - val_accuracy: 0.8604\n",
      "Epoch 5/6\n",
      "782/782 [==============================] - 424s 542ms/step - loss: 0.1346 - accuracy: 0.9510 - val_loss: 0.4428 - val_accuracy: 0.8538\n",
      "Epoch 6/6\n",
      "782/782 [==============================] - 409s 524ms/step - loss: 0.0976 - accuracy: 0.9653 - val_loss: 0.4860 - val_accuracy: 0.8510\n"
     ]
    },
    {
     "data": {
      "text/plain": [
       "<keras.callbacks.History object at 0x7fa4150b4c70>"
      ]
     },
     "execution_count": 53,
     "metadata": {},
     "output_type": "execute_result"
    }
   ],
   "source": [
    "rnn.fit(xtrain, ytrain, epochs=6, batch_size=32, validation_data=(xtest, ytest))"
   ]
  },
  {
   "cell_type": "markdown",
   "id": "0254744e-27ef-4441-a727-ffd2cccf874a",
   "metadata": {},
   "source": [
    "Checa tus resultados"
   ]
  },
  {
   "cell_type": "code",
   "execution_count": null,
   "id": "9df1c9ea-0d10-4d3f-a8c9-560f8156d445",
   "metadata": {},
   "outputs": [],
   "source": [
    "rnn.evaluate(xtest, ytest)"
   ]
  },
  {
   "cell_type": "code",
   "execution_count": 54,
   "id": "3ca3cf54",
   "metadata": {},
   "outputs": [],
   "source": [
    "rnn.save('rnn_imdb.h5')"
   ]
  }
 ],
 "metadata": {
  "kernelspec": {
   "display_name": "base",
   "language": "python",
   "name": "python3"
  },
  "language_info": {
   "codemirror_mode": {
    "name": "ipython",
    "version": 3
   },
   "file_extension": ".py",
   "mimetype": "text/x-python",
   "name": "python",
   "nbconvert_exporter": "python",
   "pygments_lexer": "ipython3",
   "version": "3.9.13"
  },
  "vscode": {
   "interpreter": {
    "hash": "1d352225c9fd865626f524f90127d68c796d3c92b986ba8ae09ad66b79047805"
   }
  }
 },
 "nbformat": 4,
 "nbformat_minor": 5
}
