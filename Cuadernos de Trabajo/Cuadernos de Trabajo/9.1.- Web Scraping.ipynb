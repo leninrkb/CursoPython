{
 "cells": [
  {
   "cell_type": "markdown",
   "id": "60e84751-e12f-471a-a779-cd6268b2cafe",
   "metadata": {
    "tags": []
   },
   "source": [
    "# Web Scraping con Python"
   ]
  },
  {
   "cell_type": "markdown",
   "id": "e2e05755-8874-4b1b-b68f-243574073c14",
   "metadata": {},
   "source": [
    "### Librerías"
   ]
  },
  {
   "cell_type": "markdown",
   "id": "5dc5df30-d5b1-4244-b13a-e7bfb769aef5",
   "metadata": {},
   "source": [
    "Vamos a necesitar Selenium, BeautifulSoup y Pandas"
   ]
  },
  {
   "cell_type": "markdown",
   "id": "4781e092-2e23-4a6a-beee-e7baa01de547",
   "metadata": {},
   "source": [
    "Instala Selenium con el siguiente código *conda install -c conda-forge selenium*"
   ]
  },
  {
   "cell_type": "markdown",
   "id": "f26fcb1c-cbdf-404a-b6e8-526b2a81479b",
   "metadata": {},
   "source": [
    "Instala BeautifulSoup con el código *conda install -c anaconda beautifulsoup4*"
   ]
  },
  {
   "cell_type": "markdown",
   "id": "27c2173e-974b-4b77-9c04-349b73f773d4",
   "metadata": {},
   "source": [
    "Ahora Carga Webdriver de Selenium"
   ]
  },
  {
   "cell_type": "code",
   "execution_count": 2,
   "id": "fdefd855-2542-4103-b377-497df841d60a",
   "metadata": {},
   "outputs": [],
   "source": [
    "from selenium import webdriver"
   ]
  },
  {
   "cell_type": "markdown",
   "id": "16d21115-5e77-4893-8225-5de083d94f96",
   "metadata": {},
   "source": [
    "Carga BeautifulSoup de Beautiful Soup"
   ]
  },
  {
   "cell_type": "code",
   "execution_count": 3,
   "id": "1e1cec69-a6f3-4100-aa13-fceb78b62c8f",
   "metadata": {},
   "outputs": [],
   "source": [
    "from bs4 import BeautifulSoup as bt"
   ]
  },
  {
   "cell_type": "markdown",
   "id": "b8a2dd5d-d22f-4566-bd14-659cdaee3197",
   "metadata": {},
   "source": [
    "Y Pandas como PD"
   ]
  },
  {
   "cell_type": "code",
   "execution_count": 4,
   "id": "03da2252-f3c4-42d9-ab86-561744346d97",
   "metadata": {},
   "outputs": [],
   "source": [
    "import pandas as pd"
   ]
  },
  {
   "cell_type": "markdown",
   "id": "fbe2df9a-e83b-4bec-a837-978eb847b023",
   "metadata": {},
   "source": [
    "## Configuración"
   ]
  },
  {
   "cell_type": "markdown",
   "id": "de6f69e5-d9a8-4298-a27e-54800bd3c0bf",
   "metadata": {},
   "source": [
    "Ok, ahora configura webdriver para usar Chrome por default, localiza tu chromedriver y usalo en este comando"
   ]
  },
  {
   "cell_type": "code",
   "execution_count": 5,
   "id": "bc07c1fe-877d-487b-8620-201619c334a4",
   "metadata": {},
   "outputs": [
    {
     "name": "stderr",
     "output_type": "stream",
     "text": [
      "/tmp/ipykernel_21942/4077092541.py:1: DeprecationWarning: executable_path has been deprecated, please pass in a Service object\n",
      "  driver = webdriver.Chrome('/home/lenin/Apps/chromedriver/chromedriver')\n"
     ]
    }
   ],
   "source": [
    "driver = webdriver.Chrome('/home/lenin/Apps/chromedriver/chromedriver')"
   ]
  },
  {
   "cell_type": "markdown",
   "id": "6aea0c37-f62b-4e5a-9437-2fcdecb94c53",
   "metadata": {},
   "source": [
    "Arma 3 listas, una para metros cuadrados, otra para precio y otra para ubicacion"
   ]
  },
  {
   "cell_type": "code",
   "execution_count": 6,
   "id": "1cf22a0d-ba5e-4acd-a71e-d500101b749e",
   "metadata": {},
   "outputs": [],
   "source": [
    "m2sucio=[]\n",
    "preciosucio=[]\n",
    "ubicacionsucio=[]"
   ]
  },
  {
   "cell_type": "code",
   "execution_count": 7,
   "id": "5cddab97-e26e-4186-a774-89c79f3ba5e1",
   "metadata": {},
   "outputs": [],
   "source": [
    "m2=[]\n",
    "precio=[]\n",
    "ubicacion=[]"
   ]
  },
  {
   "cell_type": "markdown",
   "id": "d554199f-de6c-4193-b0bd-2c3f7aa7a0e6",
   "metadata": {},
   "source": [
    "Y arma un driver.get para especificar la página de donde vamos a trabajar"
   ]
  },
  {
   "cell_type": "code",
   "execution_count": 39,
   "id": "2e9e13b8-35da-485d-b0be-b4916778829e",
   "metadata": {},
   "outputs": [],
   "source": [
    "#driver.get(\"https://www.inmuebles24.com/terrenos-en-venta-en-fraccionamiento-bugambilias.html\")\n",
    "driver.get(\"https://www3.animeflv.net\")"
   ]
  },
  {
   "cell_type": "markdown",
   "id": "e76be684-81c9-4620-bac4-a3c841878c06",
   "metadata": {},
   "source": [
    "## Extracción de Datos"
   ]
  },
  {
   "cell_type": "markdown",
   "id": "0e2af542-d356-4ebc-ba56-8329945267f5",
   "metadata": {},
   "source": [
    "Guarda el código HTML de la página en un objeto Contenido"
   ]
  },
  {
   "cell_type": "code",
   "execution_count": 40,
   "id": "100cc676-8746-4af9-ba49-9deaae8ac314",
   "metadata": {},
   "outputs": [],
   "source": [
    "contenido = driver.page_source"
   ]
  },
  {
   "cell_type": "markdown",
   "id": "96838dbf-ae0d-4954-af3a-7b7f6da03ad4",
   "metadata": {},
   "source": [
    "Conviertelo a BeautifulSoup"
   ]
  },
  {
   "cell_type": "code",
   "execution_count": 41,
   "id": "7336ebbb-74e1-480b-975e-32aced23d286",
   "metadata": {},
   "outputs": [],
   "source": [
    "soup = bt(contenido)"
   ]
  },
  {
   "cell_type": "code",
   "execution_count": 42,
   "id": "ed1d3a15-97c3-483b-a6a4-f8cc035b0ce8",
   "metadata": {},
   "outputs": [
    {
     "data": {
      "text/plain": [
       "<title>Ver Anime Online HD  — AnimeFLV</title>"
      ]
     },
     "execution_count": 42,
     "metadata": {},
     "output_type": "execute_result"
    }
   ],
   "source": [
    "soup.title"
   ]
  },
  {
   "cell_type": "code",
   "execution_count": 44,
   "id": "4a81ee77-0be8-4c62-9567-6d398f03f4f7",
   "metadata": {},
   "outputs": [],
   "source": [
    "#soup.find_all('a')"
   ]
  },
  {
   "cell_type": "markdown",
   "id": "9c4ca0f2-1aac-4407-b038-88dbcce7fad8",
   "metadata": {},
   "source": [
    "Arma un for en el que vayas agregando a nuestras listas los datos necesarios con a.find, usa . append para ir agregando los datos a las listas"
   ]
  },
  {
   "cell_type": "code",
   "execution_count": 61,
   "id": "c9f36965-a9f8-46d3-a0ec-c69966a079f8",
   "metadata": {},
   "outputs": [],
   "source": [
    "capitulosucio=[]\n",
    "titulosucio=[]\n",
    "imgsucio=[]\n",
    "for t in soup.find_all('a',attrs={'class':'fa-play'}):\n",
    "    cap = t.find('span',attrs={'class':'Capi'})\n",
    "    capitulosucio.append(cap.text)\n",
    "    \n",
    "    ti = t.find('strong',attrs={'class':'Title'})\n",
    "    titulosucio.append(ti.text)\n",
    "    \n",
    "    im = t.find('img')\n",
    "    imgsucio.append(im)"
   ]
  },
  {
   "cell_type": "code",
   "execution_count": 64,
   "id": "d45d2e5a-ab58-4dbd-bab3-e9a2766aa7f9",
   "metadata": {},
   "outputs": [
    {
     "name": "stdout",
     "output_type": "stream",
     "text": [
      "<img alt=\"Renai Flops\" src=\"/uploads/animes/thumbs/3708.jpg\"/>\n",
      "Renai Flops\n",
      "Episodio 12\n"
     ]
    }
   ],
   "source": [
    "print(imgsucio[0])\n",
    "print(titulosucio[0])\n",
    "print(capitulosucio[0])"
   ]
  },
  {
   "cell_type": "markdown",
   "id": "89b0739a-0f57-4a16-8e1b-e47f686ef53e",
   "metadata": {},
   "source": [
    "Arma un for para limpiar precio"
   ]
  },
  {
   "cell_type": "code",
   "execution_count": 67,
   "id": "bd68a15a-9db7-4712-b303-a421f8709678",
   "metadata": {},
   "outputs": [],
   "source": [
    "img=[]\n",
    "titulo=titulosucio[:]\n",
    "capitulo=[]\n",
    "for i in capitulosucio:\n",
    "    capitulo.append(i.replace('Episodio ',''))"
   ]
  },
  {
   "cell_type": "markdown",
   "id": "3c448576-866a-4159-91b0-c73244f54128",
   "metadata": {},
   "source": [
    "## Almacenamiento"
   ]
  },
  {
   "cell_type": "markdown",
   "id": "b0c0ea92-8e81-418c-bb79-6ef5643f558a",
   "metadata": {},
   "source": [
    "Guarda tus datos en un dataframe"
   ]
  },
  {
   "cell_type": "code",
   "execution_count": 68,
   "id": "af5a6677-24ad-47e6-808b-f8ca9c878d76",
   "metadata": {},
   "outputs": [],
   "source": [
    "df = pd.DataFrame({'titulo':titulo,'capitulo':capitulo})"
   ]
  },
  {
   "cell_type": "code",
   "execution_count": 69,
   "id": "dc17fdda-3e34-4254-9c8a-e14988d97341",
   "metadata": {},
   "outputs": [
    {
     "data": {
      "text/html": [
       "<div>\n",
       "<style scoped>\n",
       "    .dataframe tbody tr th:only-of-type {\n",
       "        vertical-align: middle;\n",
       "    }\n",
       "\n",
       "    .dataframe tbody tr th {\n",
       "        vertical-align: top;\n",
       "    }\n",
       "\n",
       "    .dataframe thead th {\n",
       "        text-align: right;\n",
       "    }\n",
       "</style>\n",
       "<table border=\"1\" class=\"dataframe\">\n",
       "  <thead>\n",
       "    <tr style=\"text-align: right;\">\n",
       "      <th></th>\n",
       "      <th>titulo</th>\n",
       "      <th>capitulo</th>\n",
       "    </tr>\n",
       "  </thead>\n",
       "  <tbody>\n",
       "    <tr>\n",
       "      <th>0</th>\n",
       "      <td>Renai Flops</td>\n",
       "      <td>12</td>\n",
       "    </tr>\n",
       "    <tr>\n",
       "      <th>1</th>\n",
       "      <td>Kage no Jitsuryokusha ni Naritakute!</td>\n",
       "      <td>13</td>\n",
       "    </tr>\n",
       "    <tr>\n",
       "      <th>2</th>\n",
       "      <td>Chainsaw Man</td>\n",
       "      <td>12</td>\n",
       "    </tr>\n",
       "    <tr>\n",
       "      <th>3</th>\n",
       "      <td>Bleach: Sennen Kessen-hen</td>\n",
       "      <td>13</td>\n",
       "    </tr>\n",
       "    <tr>\n",
       "      <th>4</th>\n",
       "      <td>Bleach: Sennen Kessen-hen</td>\n",
       "      <td>12</td>\n",
       "    </tr>\n",
       "  </tbody>\n",
       "</table>\n",
       "</div>"
      ],
      "text/plain": [
       "                                 titulo capitulo\n",
       "0                           Renai Flops       12\n",
       "1  Kage no Jitsuryokusha ni Naritakute!       13\n",
       "2                          Chainsaw Man       12\n",
       "3             Bleach: Sennen Kessen-hen       13\n",
       "4             Bleach: Sennen Kessen-hen       12"
      ]
     },
     "execution_count": 69,
     "metadata": {},
     "output_type": "execute_result"
    }
   ],
   "source": [
    "df.head()"
   ]
  },
  {
   "cell_type": "markdown",
   "id": "5fc17341-c493-4a5f-9076-6863992a28ce",
   "metadata": {},
   "source": [
    "Exporta tu Dataframe a un archivo CSV y abrelo en Excel"
   ]
  },
  {
   "cell_type": "code",
   "execution_count": 70,
   "id": "86dba992-5383-4ba2-b80b-24ce81c5d4d1",
   "metadata": {},
   "outputs": [],
   "source": [
    "df.to_csv('lista_animes.csv',index=False, encoding='utf-8')"
   ]
  }
 ],
 "metadata": {
  "kernelspec": {
   "display_name": "Python 3 (ipykernel)",
   "language": "python",
   "name": "python3"
  },
  "language_info": {
   "codemirror_mode": {
    "name": "ipython",
    "version": 3
   },
   "file_extension": ".py",
   "mimetype": "text/x-python",
   "name": "python",
   "nbconvert_exporter": "python",
   "pygments_lexer": "ipython3",
   "version": "3.9.15"
  }
 },
 "nbformat": 4,
 "nbformat_minor": 5
}
