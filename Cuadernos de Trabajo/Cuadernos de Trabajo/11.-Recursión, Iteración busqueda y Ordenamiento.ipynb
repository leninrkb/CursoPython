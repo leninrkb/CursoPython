{
 "cells": [
  {
   "cell_type": "markdown",
   "id": "c62ad494-a83c-4813-b714-1de3c79b7fe8",
   "metadata": {},
   "source": [
    "# 11.-Recursión, Búsqueda, Ordenamiento, Iteración"
   ]
  },
  {
   "cell_type": "markdown",
   "id": "0ef859f9-42a3-4c99-acf6-4aef58fec780",
   "metadata": {},
   "source": [
    "## 11.2.- Algoritmos iterativos y Recursivos"
   ]
  },
  {
   "cell_type": "markdown",
   "id": "791ef129-54a0-40aa-9177-da4422d09c58",
   "metadata": {},
   "source": [
    "### 11.2.1.- Fibonacci"
   ]
  },
  {
   "cell_type": "markdown",
   "id": "46e9d8f2-9fd2-4f84-9fef-1d45fee9bcc1",
   "metadata": {},
   "source": [
    "Vamos a armar la sucesión de Fibonacci - Comenamos definiendola. Recuerda que los primeros 2 numeros, son 0 y 1, y los numeros subsecuentes son la suma de los 2 anteriores"
   ]
  },
  {
   "cell_type": "code",
   "execution_count": 29,
   "id": "7221f5f0-f2e3-4c4f-a036-b7c0477a8114",
   "metadata": {},
   "outputs": [],
   "source": [
    "def fibonacci(n):\n",
    "    a=0\n",
    "    b=1\n",
    "    while(n>=0):\n",
    "        print(a,end='  ')\n",
    "        a,b=b,a+b\n",
    "        n-=1"
   ]
  },
  {
   "cell_type": "markdown",
   "id": "3c04859c-cf6d-4850-8e37-addd2a130a09",
   "metadata": {},
   "source": [
    "Ahora vamos a probarla, arma un for que muestre lo valores Fibonacci de 0 a 40. "
   ]
  },
  {
   "cell_type": "code",
   "execution_count": 37,
   "id": "39156c16-41fa-4aab-ad45-86cc1b8f9e99",
   "metadata": {},
   "outputs": [
    {
     "name": "stdout",
     "output_type": "stream",
     "text": [
      "0  1  1  2  3  5  8  13  21  34  55  89  144  233  377  610  987  1597  "
     ]
    }
   ],
   "source": [
    "fibonacci(17)"
   ]
  },
  {
   "cell_type": "code",
   "execution_count": 18,
   "id": "4508ea44-4f0c-42b2-bd81-6a1f4f7407f0",
   "metadata": {},
   "outputs": [],
   "source": [
    "def fibo(n):\n",
    "    if n in (0,1):\n",
    "        return n\n",
    "    else:\n",
    "        return fibo(n-2) + fibo(n-1)"
   ]
  },
  {
   "cell_type": "code",
   "execution_count": 20,
   "id": "c5b07369-fedb-44eb-aff3-4a8948f16955",
   "metadata": {},
   "outputs": [
    {
     "name": "stdout",
     "output_type": "stream",
     "text": [
      "102334155\n"
     ]
    }
   ],
   "source": [
    "print(fibo(40)) #se demora demasiado con recursividad"
   ]
  },
  {
   "cell_type": "markdown",
   "id": "e6adabe9-b9f8-4b5c-b1c5-886630b83309",
   "metadata": {
    "tags": []
   },
   "source": [
    "#### Por tu cuenta\n",
    "\n",
    "La versión iterativa de fibonacci es el siguiente programa. Usa %timeit para comparar la versión original vs la iterativa para los numeros 32,33 y 34"
   ]
  },
  {
   "cell_type": "markdown",
   "id": "ef2abe5f-a751-45b2-9893-12cf04b99497",
   "metadata": {},
   "source": [
    "def fibonacci_iterativo(n):\n",
    "    resultado = 0\n",
    "    temp = 1\n",
    "    for j in range(0,n):\n",
    "        temp, resultado = resultado, resultado + temp\n",
    "    return resultado"
   ]
  },
  {
   "cell_type": "code",
   "execution_count": 31,
   "id": "451e92ad-4c45-4cb3-b364-31f494e30289",
   "metadata": {},
   "outputs": [
    {
     "name": "stdout",
     "output_type": "stream",
     "text": [
      "638 µs ± 1.98 µs per loop (mean ± std. dev. of 7 runs, 1000 loops each)\n"
     ]
    }
   ],
   "source": [
    "%timeit fibo(17)"
   ]
  },
  {
   "cell_type": "markdown",
   "id": "c1f5e086-b323-41b4-b4ec-efaa21e2c80a",
   "metadata": {},
   "source": [
    "### 11.2.2.- Series Geometricas"
   ]
  },
  {
   "cell_type": "markdown",
   "id": "cd84dea4-261c-46a9-8cd6-50e2ecd92e0f",
   "metadata": {},
   "source": [
    "Ahora vamos a armar series geometricas. Está tendra a=3, r=1/2 y n=20\n",
    "\n",
    "COmenzamos con la definicion de las variables a y r"
   ]
  },
  {
   "cell_type": "code",
   "execution_count": 42,
   "id": "66b25640-c0da-4d3e-8b8c-cf8627cf121a",
   "metadata": {},
   "outputs": [],
   "source": [
    "a=3 \n",
    "r=1/2\n",
    "n=20"
   ]
  },
  {
   "cell_type": "markdown",
   "id": "a461094b-66a3-43a9-8ec1-ff2501752f41",
   "metadata": {},
   "source": [
    "Ahora vamos a la definición de la función serie_geom(n)"
   ]
  },
  {
   "cell_type": "code",
   "execution_count": 58,
   "id": "2beb023a-1119-499f-b9e4-8d07f6e84bb3",
   "metadata": {},
   "outputs": [],
   "source": [
    "def serie_geom(n):\n",
    "    if n == 0: return a \n",
    "    else : return serie_geom(n-1)+a*r**(n-1)\n",
    "def mejor_geom(n):\n",
    "    while(n>=0):\n",
    "        print(n+a*r**(n))\n",
    "        n-=1"
   ]
  },
  {
   "cell_type": "markdown",
   "id": "4631973e-445c-49a0-9f5e-3c941c8d476e",
   "metadata": {},
   "source": [
    "Y terminamos con la impresión de los resultados del 1 al 10"
   ]
  },
  {
   "cell_type": "code",
   "execution_count": 59,
   "id": "ff3fe2f4-4586-465a-a82d-e07a8764e742",
   "metadata": {},
   "outputs": [
    {
     "name": "stdout",
     "output_type": "stream",
     "text": [
      "2.5\n",
      "3.0\n"
     ]
    }
   ],
   "source": [
    "mejor_geom(1)"
   ]
  },
  {
   "cell_type": "code",
   "execution_count": 57,
   "id": "9cebeced-064a-41fb-9444-ae95a0f996e6",
   "metadata": {},
   "outputs": [
    {
     "data": {
      "text/plain": [
       "6.0"
      ]
     },
     "execution_count": 57,
     "metadata": {},
     "output_type": "execute_result"
    }
   ],
   "source": [
    "serie_geom(1)"
   ]
  },
  {
   "cell_type": "markdown",
   "id": "9f6abc8f-92e8-480e-8334-4f5d046e41e5",
   "metadata": {},
   "source": [
    "### 11.2.3.- Factorial"
   ]
  },
  {
   "cell_type": "markdown",
   "id": "88784460-c0f8-4893-9e0c-a1363de68e4a",
   "metadata": {},
   "source": [
    "Ahora vamos a ver factoriales, comenzamos definiendo la funcion factorial"
   ]
  },
  {
   "cell_type": "code",
   "execution_count": 60,
   "id": "074911c2-0ca5-4677-8391-7d77113803bd",
   "metadata": {},
   "outputs": [],
   "source": [
    "def fac(n):\n",
    "    c=1\n",
    "    while(n>=1):\n",
    "        c*=n \n",
    "        n-=1\n",
    "    return c"
   ]
  },
  {
   "cell_type": "markdown",
   "id": "0310758d-7f6b-4f2e-a6e3-13440bede434",
   "metadata": {},
   "source": [
    "E imprimimos del 1 al 20"
   ]
  },
  {
   "cell_type": "code",
   "execution_count": 64,
   "id": "f087e0b3-ba72-4ec6-ab70-be34ae7a5dff",
   "metadata": {},
   "outputs": [
    {
     "name": "stdout",
     "output_type": "stream",
     "text": [
      "120\n"
     ]
    }
   ],
   "source": [
    "print(fac(5))"
   ]
  },
  {
   "cell_type": "markdown",
   "id": "1c737631-a31f-4e71-8b0a-73b14db2ede0",
   "metadata": {},
   "source": [
    "Ahora intenta el factorial de forma recursiva"
   ]
  },
  {
   "cell_type": "code",
   "execution_count": 68,
   "id": "c52108f1-9148-45b7-9b91-de45ec1e8d82",
   "metadata": {},
   "outputs": [],
   "source": [
    "def facc(n):\n",
    "    if n <= 1: \n",
    "        return 1\n",
    "    else:\n",
    "        return n * facc(n-1)"
   ]
  },
  {
   "cell_type": "code",
   "execution_count": 69,
   "id": "0155899f-c75d-46a4-9545-c24f723a26b6",
   "metadata": {},
   "outputs": [
    {
     "name": "stdout",
     "output_type": "stream",
     "text": [
      "120\n"
     ]
    }
   ],
   "source": [
    "print(facc(5))"
   ]
  },
  {
   "cell_type": "markdown",
   "id": "f3787b88-147c-4214-a0a3-c54230f31b37",
   "metadata": {},
   "source": [
    "## 11.3.- Búsqueda"
   ]
  },
  {
   "cell_type": "markdown",
   "id": "a78f40fb-d33f-4cca-a8fc-8526fb3cc2c8",
   "metadata": {},
   "source": [
    "### 11.4.- Búsqueda lineal"
   ]
  },
  {
   "cell_type": "markdown",
   "id": "f8735ff0-47f5-400e-aafc-da969723bb96",
   "metadata": {},
   "source": [
    "La busqueda lineal es la mas sencilla y mensa, simplemente va elemento por elemento del arreglo viendo si es el indicado\n",
    "\n",
    "Vamos a comenzar haciendo una función sencilla de búsqueda lineal"
   ]
  },
  {
   "cell_type": "code",
   "execution_count": 72,
   "id": "73b1b365-8fb0-45eb-9662-f8d2de69afe0",
   "metadata": {},
   "outputs": [],
   "source": [
    "def busqueda_lineal(d,db):\n",
    "    for i,v in enumerate(d):\n",
    "        if db == v:\n",
    "            return i,v\n",
    "    return -1"
   ]
  },
  {
   "cell_type": "code",
   "execution_count": 71,
   "id": "a00a757e-e4d8-44b4-bb02-f5b69d47aadf",
   "metadata": {},
   "outputs": [],
   "source": [
    "datos = [1.70, 1.65, 1.58, 1.81, 1.84, 1.78, 1.68, 1.72]"
   ]
  },
  {
   "cell_type": "markdown",
   "id": "0f28350e-a1bc-4578-a979-375dce382971",
   "metadata": {},
   "source": [
    "Luego le damos los datos: \n",
    "    \n",
    "datos = [1.70, 1.65, 1.58, 1.81, 1.84, 1.78, 1.68, 1.72]"
   ]
  },
  {
   "cell_type": "code",
   "execution_count": 73,
   "id": "f55c176a-fa2c-489d-9b43-7c4ae5461292",
   "metadata": {},
   "outputs": [
    {
     "data": {
      "text/plain": [
       "(4, 1.84)"
      ]
     },
     "execution_count": 73,
     "metadata": {},
     "output_type": "execute_result"
    }
   ],
   "source": [
    "busqueda_lineal(datos,1.84)"
   ]
  },
  {
   "cell_type": "markdown",
   "id": "b72c7c8c-dae8-4004-a23f-c2858859867d",
   "metadata": {},
   "source": [
    "## 11.4.- Ordenamiento"
   ]
  },
  {
   "cell_type": "markdown",
   "id": "0f18e51a-df67-497a-96a9-e3e665f1d1d4",
   "metadata": {},
   "source": [
    "### 11.4.1.- Ordenamiento por Selección"
   ]
  },
  {
   "cell_type": "markdown",
   "id": "1a6d3ee0-7320-44ef-8bf5-d999a1ee561f",
   "metadata": {},
   "source": [
    "Vamos a comenzar con Ordenamiento por Selección\n",
    "\n",
    "En este ciclo, se reduce la cantidad de elementos, una vez que se ha encontrado el elemento más\n",
    "pequeño y se ubica en la primera posición."
   ]
  },
  {
   "cell_type": "code",
   "execution_count": 121,
   "id": "a1205ce9-172f-4584-b801-68832f93fbce",
   "metadata": {},
   "outputs": [],
   "source": [
    "def sort1(d):\n",
    "    for i in range(len(d)):\n",
    "        menor = d[i]\n",
    "        for j in range(i,len(d)):\n",
    "            if d[j] <= menor:\n",
    "                menor = d[j]\n",
    "                idx = j\n",
    "        d[i], d[idx] = menor, d[i]\n",
    "    return d"
   ]
  },
  {
   "cell_type": "code",
   "execution_count": 117,
   "id": "5a2a8ef5-0468-49ee-96e6-4ff6da99b41c",
   "metadata": {},
   "outputs": [
    {
     "data": {
      "text/plain": [
       "[1.58, 1.65, 1.68, 1.7, 1.72, 1.78, 1.81, 1.84]"
      ]
     },
     "execution_count": 117,
     "metadata": {},
     "output_type": "execute_result"
    }
   ],
   "source": [
    "datos = [1.70, 1.65, 1.58, 1.81, 1.84, 1.78, 1.68, 1.72]\n",
    "sort1(datos)"
   ]
  },
  {
   "cell_type": "markdown",
   "id": "8d24352c-e131-41cb-afb0-fb1878127bea",
   "metadata": {},
   "source": [
    "En esta parte se identifica el elemento más pequeño, entre los elementos que quedan, y se intercambia de posición con el elemento que tiene el índice más bajo. "
   ]
  },
  {
   "cell_type": "code",
   "execution_count": 118,
   "id": "58dfd13a-509d-4006-919d-b5489347001d",
   "metadata": {},
   "outputs": [],
   "source": [
    "#ya esta arriba xd "
   ]
  },
  {
   "cell_type": "markdown",
   "id": "c68a3d0a-aac2-4051-91f8-e85f7ae9049a",
   "metadata": {},
   "source": [
    "Y ahora apliquemos este algoritmo a auna lista que contiene la estatura de 9 personas\n",
    "\n",
    "1.85, 1.70, 1.58, 1.83, 1.80, 1.75, 1.70, 1.90, 1.65"
   ]
  },
  {
   "cell_type": "code",
   "execution_count": 122,
   "id": "94996880-1a0f-40a3-ad33-e97191c600a0",
   "metadata": {},
   "outputs": [
    {
     "data": {
      "text/plain": [
       "[1.58, 1.65, 1.7, 1.7, 1.75, 1.8, 1.83, 1.85, 1.9]"
      ]
     },
     "execution_count": 122,
     "metadata": {},
     "output_type": "execute_result"
    }
   ],
   "source": [
    "d=[1.85, 1.70, 1.58, 1.83, 1.80, 1.75, 1.70, 1.90, 1.65]\n",
    "sort1(d)"
   ]
  }
 ],
 "metadata": {
  "kernelspec": {
   "display_name": "Python 3 (ipykernel)",
   "language": "python",
   "name": "python3"
  },
  "language_info": {
   "codemirror_mode": {
    "name": "ipython",
    "version": 3
   },
   "file_extension": ".py",
   "mimetype": "text/x-python",
   "name": "python",
   "nbconvert_exporter": "python",
   "pygments_lexer": "ipython3",
   "version": "3.9.15"
  }
 },
 "nbformat": 4,
 "nbformat_minor": 5
}
