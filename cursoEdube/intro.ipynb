{
 "cells": [
  {
   "cell_type": "markdown",
   "id": "4fc87110-595b-4ec7-b9b7-6f9be286e21d",
   "metadata": {},
   "source": [
    "# 1.- Intro"
   ]
  },
  {
   "cell_type": "code",
   "execution_count": null,
   "id": "e13539ec-39bd-435a-9af9-8e25d3b45080",
   "metadata": {},
   "outputs": [],
   "source": []
  }
 ],
 "metadata": {
  "kernelspec": {
   "display_name": "Python 3.10.8 64-bit",
   "language": "python",
   "name": "python3"
  },
  "language_info": {
   "codemirror_mode": {
    "name": "ipython",
    "version": 3
   },
   "file_extension": ".py",
   "mimetype": "text/x-python",
   "name": "python",
   "nbconvert_exporter": "python",
   "pygments_lexer": "ipython3",
   "version": "3.10.8"
  },
  "vscode": {
   "interpreter": {
    "hash": "e7370f93d1d0cde622a1f8e1c04877d8463912d04d973331ad4851f04de6915a"
   }
  }
 },
 "nbformat": 4,
 "nbformat_minor": 5
}
