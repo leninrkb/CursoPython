{
 "cells": [
  {
   "cell_type": "markdown",
   "id": "5e02e001-4403-427f-b910-e12c31a80747",
   "metadata": {
    "tags": []
   },
   "source": [
    "# 1.- Plantilla"
   ]
  },
  {
   "cell_type": "code",
   "execution_count": null,
   "id": "383a570a-9276-475c-a22e-075ccbe1e353",
   "metadata": {},
   "outputs": [],
   "source": []
  }
 ],
 "metadata": {
  "kernelspec": {
   "display_name": "Python 3.10.8 64-bit",
   "language": "python",
   "name": "python3"
  },
  "language_info": {
   "codemirror_mode": {
    "name": "ipython",
    "version": 3
   },
   "file_extension": ".py",
   "mimetype": "text/x-python",
   "name": "python",
   "nbconvert_exporter": "python",
   "pygments_lexer": "ipython3",
   "version": "3.10.8"
  },
  "vscode": {
   "interpreter": {
    "hash": "e7370f93d1d0cde622a1f8e1c04877d8463912d04d973331ad4851f04de6915a"
   }
  }
 },
 "nbformat": 4,
 "nbformat_minor": 5
}
